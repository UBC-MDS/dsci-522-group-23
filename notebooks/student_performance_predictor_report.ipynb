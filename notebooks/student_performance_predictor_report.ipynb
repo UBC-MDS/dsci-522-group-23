{
 "cells": [
  {
   "cell_type": "markdown",
   "id": "01c92f92-75aa-4e0b-b391-cd5d7f6d37c2",
   "metadata": {},
   "source": [
    "## Predicting academic performance using demographic and behavioral Data"
   ]
  },
  {
   "cell_type": "markdown",
   "id": "8ecbcefd-2799-4164-a17c-f430e19c5455",
   "metadata": {},
   "source": [
    "by Zhengling Jiang,  Colombe Tolokin, Franklin Aryee, Tien Nguyen"
   ]
  },
  {
   "cell_type": "markdown",
   "id": "3f21118e-4fb3-412a-9407-b862721b8a3f",
   "metadata": {},
   "source": [
    "Packages:"
   ]
  },
  {
   "cell_type": "code",
   "execution_count": null,
   "id": "75de01ce-7dd0-4e98-92a4-c60950549f91",
   "metadata": {},
   "outputs": [],
   "source": []
  },
  {
   "cell_type": "markdown",
   "id": "de2ac88a-677a-43c7-a2e5-a2438b36c166",
   "metadata": {},
   "source": [
    "## Summary"
   ]
  },
  {
   "cell_type": "code",
   "execution_count": null,
   "id": "6bcefd89-b390-456b-a01a-1b5f30b41d61",
   "metadata": {},
   "outputs": [],
   "source": []
  },
  {
   "cell_type": "markdown",
   "id": "5f39ddc5-3f95-494b-9a5c-2683993df544",
   "metadata": {},
   "source": [
    "## Introduction"
   ]
  },
  {
   "cell_type": "code",
   "execution_count": null,
   "id": "db504222-7d9d-45da-a1fb-039f50d7fe1c",
   "metadata": {},
   "outputs": [],
   "source": []
  },
  {
   "cell_type": "markdown",
   "id": "cb2c5e3f-76fd-43b9-a550-324a1eceb42b",
   "metadata": {},
   "source": [
    "## Methods"
   ]
  },
  {
   "cell_type": "markdown",
   "id": "2a47b333-d687-4f50-8cfe-01f6f0525f17",
   "metadata": {},
   "source": [
    "### Data"
   ]
  },
  {
   "cell_type": "code",
   "execution_count": null,
   "id": "b30b61c2-dda1-4bce-b530-b03351b5f8fb",
   "metadata": {},
   "outputs": [],
   "source": []
  },
  {
   "cell_type": "markdown",
   "id": "8cb9f11c-df6c-4d0d-9896-1250cb59ff99",
   "metadata": {},
   "source": [
    "### Analysis"
   ]
  },
  {
   "cell_type": "code",
   "execution_count": null,
   "id": "7c560a6f-47fb-423e-9c14-1382620ac29b",
   "metadata": {},
   "outputs": [],
   "source": []
  },
  {
   "cell_type": "markdown",
   "id": "3ed1f1fd-f7da-44ed-b3f3-c23306bf745e",
   "metadata": {},
   "source": [
    "## Results & Discussion"
   ]
  },
  {
   "cell_type": "code",
   "execution_count": null,
   "id": "7526f6d6-89b4-4686-92f8-0deb7a9cfc0d",
   "metadata": {},
   "outputs": [],
   "source": []
  },
  {
   "cell_type": "markdown",
   "id": "8bd01f82-917e-4dc0-ac4e-e5716fd72561",
   "metadata": {},
   "source": [
    "## References"
   ]
  },
  {
   "cell_type": "code",
   "execution_count": null,
   "id": "dec12a2a-6702-41fc-9511-8f7012fba7c2",
   "metadata": {},
   "outputs": [],
   "source": []
  }
 ],
 "metadata": {
  "kernelspec": {
   "display_name": "Python [conda env:571]",
   "language": "python",
   "name": "conda-env-571-py"
  },
  "language_info": {
   "codemirror_mode": {
    "name": "ipython",
    "version": 3
   },
   "file_extension": ".py",
   "mimetype": "text/x-python",
   "name": "python",
   "nbconvert_exporter": "python",
   "pygments_lexer": "ipython3",
   "version": "3.12.0"
  }
 },
 "nbformat": 4,
 "nbformat_minor": 5
}
