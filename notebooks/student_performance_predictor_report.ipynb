{
 "cells": [
  {
   "cell_type": "markdown",
   "id": "01c92f92-75aa-4e0b-b391-cd5d7f6d37c2",
   "metadata": {},
   "source": [
    "## Predicting academic performance using demographic and behavioral Data\n"
   ]
  },
  {
   "cell_type": "markdown",
   "id": "8ecbcefd-2799-4164-a17c-f430e19c5455",
   "metadata": {},
   "source": [
    "by Zhengling Jiang, Colombe Tolokin, Franklin Aryee, Tien Nguyen\n"
   ]
  },
  {
   "cell_type": "markdown",
   "id": "3f21118e-4fb3-412a-9407-b862721b8a3f",
   "metadata": {},
   "source": [
    "Packages:\n"
   ]
  },
  {
   "cell_type": "code",
   "execution_count": 1,
   "id": "75de01ce-7dd0-4e98-92a4-c60950549f91",
   "metadata": {},
   "outputs": [],
   "source": [
    "import pandas as pd\n",
    "import altair as alt\n",
    "# import altair_ally as ally\n",
    "from sklearn.model_selection import train_test_split\n",
    "from sklearn.model_selection import GridSearchCV\n",
    "from sklearn.pipeline import make_pipeline\n",
    "from sklearn.compose import make_column_transformer\n",
    "from sklearn.preprocessing import StandardScaler, OneHotEncoder\n",
    "from sklearn.linear_model import Ridge\n",
    "from sklearn.metrics import mean_squared_error, mean_absolute_error\n",
    "import numpy as np\n",
    "import matplotlib.pyplot as plt\n",
    "import seaborn as sns\n",
    "import os\n",
    "import pandera as pa\n",
    "from scipy.stats import shapiro\n",
    "from sklearn.dummy import DummyRegressor\n",
    "from sklearn.model_selection import cross_validate\n",
    "\n",
    "alt.renderers.enable(\"mimetype\")\n",
    "%matplotlib inline"
   ]
  },
  {
   "cell_type": "markdown",
   "id": "de2ac88a-677a-43c7-a2e5-a2438b36c166",
   "metadata": {},
   "source": [
    "## Summary\n"
   ]
  },
  {
   "cell_type": "markdown",
   "id": "a89399f9-b75d-4a5f-b99e-d5d0a87b0cf3",
   "metadata": {},
   "source": [
    "This project investigates whether a student's mathematics performance can be predicted using demographic and behavioral data, aiming to help educators in supporting students and tailoring educational strategies. Using a Ridge Regression model with optimized hyperparameters (alpha = 1), we achieved a strong predictive accuracy with a cross-validation score of 0.81 and evaluation metrics on the test set including an MSE of 3.83, RMSE of 1.96, and MAE of 1.27. While the model demonstrates robust performance, future work could explore non-linear models and provide confidence intervals for predictions to enhance interpretability and reliability, ultimately contributing to better educational outcomes.\n"
   ]
  },
  {
   "cell_type": "markdown",
   "id": "5f39ddc5-3f95-494b-9a5c-2683993df544",
   "metadata": {},
   "source": [
    "## Introduction\n"
   ]
  },
  {
   "cell_type": "markdown",
   "id": "98ff9c58-1a81-43da-8cdf-95d1b3ac410c",
   "metadata": {},
   "source": [
    "Math teaches us to think logically and it also provides us with analytical and problem-solving skills. These skills can be applied to various academic and professional fields. However, student performance in mathematics can be influenced by many factors, like individual factor, social factor, and family factor. Research has shown that attributes such as study habits, age, social behaviour (alcohol consumptions, etc) and family background can significantly impact a student's academic success (Amuda, Bulus, and Joseph 2016); Modi 2023; Hjarnaa et al. 2023). Understanding these factors is crucial for improving educational outcomes.\n",
    "\n",
    "In this study, we aim to address this question: **“Can we predict a student's math academic performance based on the demographic and behavioral data?”**. Answering this question is important because understanding the factors behind student performance can help teachers provide support to struggling students. Furthermore, the ability to predict academic performance could assist schools in developing educational strategies based on different backgrounds of students.\n",
    "The goal of this study is to develop a machine learning model capable of predicting student’s math performance with high accuracy.\n",
    "\n",
    "The dataset used in this study contains detailed records of student demographics and behaviors, such as age, study habits, social behaviors, and family background. The target variable, mathematics performance, is measured as a continuous score reflecting students' final grade. This dataset offers a great opportunity to explore meaningful relationships between features and academic outcomes."
   ]
  },
  {
   "cell_type": "markdown",
   "id": "cb2c5e3f-76fd-43b9-a550-324a1eceb42b",
   "metadata": {},
   "source": [
    "## Methods & Results\n"
   ]
  },
  {
   "cell_type": "markdown",
   "id": "d11dcab6-b330-4ad0-81d0-d1fed8d36bde",
   "metadata": {},
   "source": [
    "The objective here to prepare the data for our classification analysis by exploring relevant features and summarizing key insights through data wrangling and visualization.\n"
   ]
  },
  {
   "cell_type": "markdown",
   "id": "d4eaee30-e34a-4fd9-9b0e-edae9defb46c",
   "metadata": {},
   "source": [
    "### Dataset Description\n",
    "\n",
    "The full data set contains the following columns:\n",
    "\n",
    "1. `school` - student's school (binary: 'GP' - Gabriel Pereira or 'MS' - Mousinho da Silveira)\n",
    "1. `sex` - student's sex (binary: 'F' - female or 'M' - male)\n",
    "1. `age` - student's age (numeric: from 15 to 22)\n",
    "1. `address` - student's home address type (binary: 'U' - urban or 'R' - rural)\n",
    "1. `famsize` - family size (binary: 'LE3' - less or equal to 3 or 'GT3' - greater than 3)\n",
    "1. `Pstatus` - parent's cohabitation status (binary: 'T' - living together or 'A' - apart)\n",
    "1. `Medu` - mother's education (numeric: 0 - none, 1 - primary education (4th grade), 2 - “ 5th to 9th grade, 3 - “ secondary education or 4 - “ higher education)\n",
    "1. `Fedu` - father's education (numeric: 0 - none, 1 - primary education (4th grade), 2 - “ 5th to 9th grade, 3 - “ secondary education or 4 - “ higher education)\n",
    "1. `Mjob` - mother's job (nominal: 'teacher', 'health' care related, civil 'services' (e.g. administrative or police), 'at_home' or 'other')\n",
    "1. `Fjob` - father's job (nominal: 'teacher', 'health' care related, civil 'services' (e.g. administrative or police), 'at_home' or 'other')\n",
    "1. `reason` - reason to choose this school (nominal: close to 'home', school 'reputation', 'course' preference or 'other')\n",
    "1. `guardian` - student's guardian (nominal: 'mother', 'father' or 'other')\n",
    "1. `traveltime` - home to school travel time (numeric: 1 - <15 min., 2 - 15 to 30 min., 3 - 30 min. to 1 hour, or 4 - >1 hour)\n",
    "1. `studytime` - weekly study time (numeric: 1 - <2 hours, 2 - 2 to 5 hours, 3 - 5 to 10 hours, or 4 - >10 hours)\n",
    "1. `failures` - number of past class failures (numeric: n if 1<=n<3, else 4)\n",
    "1. `schoolsup` - extra educational support (binary: yes or no)\n",
    "1. famsup` - family educational support (binary: yes or no)\n",
    "1. `paid` - extra paid classes within the course subject (Math or Portuguese) (binary: yes or no)\n",
    "1. `activities` - extra-curricular activities (binary: yes or no)\n",
    "1. `nursery` - attended nursery school (binary: yes or no)\n",
    "1. `higher` - wants to take higher education (binary: yes or no)\n",
    "1. `internet` - Internet access at home (binary: yes or no)\n",
    "1. `romantic` - with a romantic relationship (binary: yes or no)\n",
    "1. `famrel` - quality of family relationships (numeric: from 1 - very bad to 5 - excellent)\n",
    "1. `freetime` - free time after school (numeric: from 1 - very low to 5 - very high)\n",
    "1. `goout` - going out with friends (numeric: from 1 - very low to 5 - very high)\n",
    "1. `Dalc` - workday alcohol consumption (numeric: from 1 - very low to 5 - very high)\n",
    "1. `Walc` - weekend alcohol consumption (numeric: from 1 - very low to 5 - very high)\n",
    "1. `health` - current health status (numeric: from 1 - very bad to 5 - very good)\n",
    "1. `absences` - number of school absences (numeric: from 0 to 93)\n",
    "\n",
    "These columns represent the grades:\n",
    "\n",
    "- G1 - first period grade (numeric: from 0 to 20)\n",
    "- G2 - second period grade (numeric: from 0 to 20)\n",
    "- G3 - final grade (numeric: from 0 to 20, output target)\n",
    "\n",
    "_Attribution_: The dataset variable description is copied as original from the [UCI Machine Learning Repository](https://archive.ics.uci.edu/dataset/320/student+performance).\n"
   ]
  },
  {
   "cell_type": "markdown",
   "id": "2a47b333-d687-4f50-8cfe-01f6f0525f17",
   "metadata": {},
   "source": [
    "### Data Loading, Wrangling and Summary\n"
   ]
  },
  {
   "cell_type": "markdown",
   "id": "d5b37ade-6998-48a7-b07c-644b170f5158",
   "metadata": {},
   "source": [
    "Let's start by loading the data and have an initial view of data set structure.\n"
   ]
  },
  {
   "cell_type": "markdown",
   "id": "2bc9a43b-4743-4527-b2a7-92c0ad02bf40",
   "metadata": {},
   "source": [
    "The file is a `.csv` file with `;` as delimiter. Let's use `pandas`to read it in.\n"
   ]
  },
  {
   "cell_type": "code",
   "execution_count": 2,
   "id": "770b2e56-5ac4-4978-bf65-eef84fbd0312",
   "metadata": {},
   "outputs": [
    {
     "name": "stdout",
     "output_type": "stream",
     "text": [
      "python: can't open file '/home/jovyan/work/notebooks/../src/download_data.py': [Errno 2] No such file or directory\n"
     ]
    }
   ],
   "source": [
    "!python ../src/download_data.py"
   ]
  },
  {
   "cell_type": "code",
   "execution_count": 3,
   "id": "bfd8bde2",
   "metadata": {},
   "outputs": [],
   "source": [
    "# Validate and load data file format\n",
    "def load_data(filename: str) -> pd.DataFrame:      \n",
    "    if os.path.isfile(filename):\n",
    "        if filename[-4:] == '.csv':\n",
    "            df = pd.read_csv(filename, delimiter=';')\n",
    "            return df\n",
    "    return \"File is not in directory\"\n",
    "\n",
    "student_performance = load_data('../data/raw/student-mat.csv')"
   ]
  },
  {
   "cell_type": "markdown",
   "id": "8722235e-f4aa-4e9e-b2d1-0371acf3d56b",
   "metadata": {},
   "source": [
    "This provides an overview of the data set with 33 columns, each representing student attributes such as age, gender, study time, grades, and parental details.\n"
   ]
  },
  {
   "cell_type": "markdown",
   "id": "4422e7d9-e234-438d-874c-b492ac5ba41e",
   "metadata": {},
   "source": [
    "Let's get some information on the data set to better understand it.\n"
   ]
  },
  {
   "cell_type": "code",
   "execution_count": 4,
   "id": "e4e70519-b0f3-4a8b-9c95-8bf7f964a939",
   "metadata": {},
   "outputs": [
    {
     "data": {
      "text/html": [
       "<div>\n",
       "<style scoped>\n",
       "    .dataframe tbody tr th:only-of-type {\n",
       "        vertical-align: middle;\n",
       "    }\n",
       "\n",
       "    .dataframe tbody tr th {\n",
       "        vertical-align: top;\n",
       "    }\n",
       "\n",
       "    .dataframe thead th {\n",
       "        text-align: right;\n",
       "    }\n",
       "</style>\n",
       "<table border=\"1\" class=\"dataframe\">\n",
       "  <thead>\n",
       "    <tr style=\"text-align: right;\">\n",
       "      <th></th>\n",
       "      <th>school</th>\n",
       "      <th>sex</th>\n",
       "      <th>age</th>\n",
       "      <th>address</th>\n",
       "      <th>famsize</th>\n",
       "      <th>Pstatus</th>\n",
       "      <th>Medu</th>\n",
       "      <th>Fedu</th>\n",
       "      <th>Mjob</th>\n",
       "      <th>Fjob</th>\n",
       "      <th>...</th>\n",
       "      <th>famrel</th>\n",
       "      <th>freetime</th>\n",
       "      <th>goout</th>\n",
       "      <th>Dalc</th>\n",
       "      <th>Walc</th>\n",
       "      <th>health</th>\n",
       "      <th>absences</th>\n",
       "      <th>G1</th>\n",
       "      <th>G2</th>\n",
       "      <th>G3</th>\n",
       "    </tr>\n",
       "  </thead>\n",
       "  <tbody>\n",
       "    <tr>\n",
       "      <th>0</th>\n",
       "      <td>GP</td>\n",
       "      <td>F</td>\n",
       "      <td>18</td>\n",
       "      <td>U</td>\n",
       "      <td>GT3</td>\n",
       "      <td>A</td>\n",
       "      <td>4</td>\n",
       "      <td>4</td>\n",
       "      <td>at_home</td>\n",
       "      <td>teacher</td>\n",
       "      <td>...</td>\n",
       "      <td>4</td>\n",
       "      <td>3</td>\n",
       "      <td>4</td>\n",
       "      <td>1</td>\n",
       "      <td>1</td>\n",
       "      <td>3</td>\n",
       "      <td>6</td>\n",
       "      <td>5</td>\n",
       "      <td>6</td>\n",
       "      <td>6</td>\n",
       "    </tr>\n",
       "    <tr>\n",
       "      <th>1</th>\n",
       "      <td>GP</td>\n",
       "      <td>F</td>\n",
       "      <td>17</td>\n",
       "      <td>U</td>\n",
       "      <td>GT3</td>\n",
       "      <td>T</td>\n",
       "      <td>1</td>\n",
       "      <td>1</td>\n",
       "      <td>at_home</td>\n",
       "      <td>other</td>\n",
       "      <td>...</td>\n",
       "      <td>5</td>\n",
       "      <td>3</td>\n",
       "      <td>3</td>\n",
       "      <td>1</td>\n",
       "      <td>1</td>\n",
       "      <td>3</td>\n",
       "      <td>4</td>\n",
       "      <td>5</td>\n",
       "      <td>5</td>\n",
       "      <td>6</td>\n",
       "    </tr>\n",
       "    <tr>\n",
       "      <th>2</th>\n",
       "      <td>GP</td>\n",
       "      <td>F</td>\n",
       "      <td>15</td>\n",
       "      <td>U</td>\n",
       "      <td>LE3</td>\n",
       "      <td>T</td>\n",
       "      <td>1</td>\n",
       "      <td>1</td>\n",
       "      <td>at_home</td>\n",
       "      <td>other</td>\n",
       "      <td>...</td>\n",
       "      <td>4</td>\n",
       "      <td>3</td>\n",
       "      <td>2</td>\n",
       "      <td>2</td>\n",
       "      <td>3</td>\n",
       "      <td>3</td>\n",
       "      <td>10</td>\n",
       "      <td>7</td>\n",
       "      <td>8</td>\n",
       "      <td>10</td>\n",
       "    </tr>\n",
       "    <tr>\n",
       "      <th>3</th>\n",
       "      <td>GP</td>\n",
       "      <td>F</td>\n",
       "      <td>15</td>\n",
       "      <td>U</td>\n",
       "      <td>GT3</td>\n",
       "      <td>T</td>\n",
       "      <td>4</td>\n",
       "      <td>2</td>\n",
       "      <td>health</td>\n",
       "      <td>services</td>\n",
       "      <td>...</td>\n",
       "      <td>3</td>\n",
       "      <td>2</td>\n",
       "      <td>2</td>\n",
       "      <td>1</td>\n",
       "      <td>1</td>\n",
       "      <td>5</td>\n",
       "      <td>2</td>\n",
       "      <td>15</td>\n",
       "      <td>14</td>\n",
       "      <td>15</td>\n",
       "    </tr>\n",
       "    <tr>\n",
       "      <th>4</th>\n",
       "      <td>GP</td>\n",
       "      <td>F</td>\n",
       "      <td>16</td>\n",
       "      <td>U</td>\n",
       "      <td>GT3</td>\n",
       "      <td>T</td>\n",
       "      <td>3</td>\n",
       "      <td>3</td>\n",
       "      <td>other</td>\n",
       "      <td>other</td>\n",
       "      <td>...</td>\n",
       "      <td>4</td>\n",
       "      <td>3</td>\n",
       "      <td>2</td>\n",
       "      <td>1</td>\n",
       "      <td>2</td>\n",
       "      <td>5</td>\n",
       "      <td>4</td>\n",
       "      <td>6</td>\n",
       "      <td>10</td>\n",
       "      <td>10</td>\n",
       "    </tr>\n",
       "  </tbody>\n",
       "</table>\n",
       "<p>5 rows × 33 columns</p>\n",
       "</div>"
      ],
      "text/plain": [
       "  school sex  age address famsize Pstatus  Medu  Fedu     Mjob      Fjob  ...  \\\n",
       "0     GP   F   18       U     GT3       A     4     4  at_home   teacher  ...   \n",
       "1     GP   F   17       U     GT3       T     1     1  at_home     other  ...   \n",
       "2     GP   F   15       U     LE3       T     1     1  at_home     other  ...   \n",
       "3     GP   F   15       U     GT3       T     4     2   health  services  ...   \n",
       "4     GP   F   16       U     GT3       T     3     3    other     other  ...   \n",
       "\n",
       "  famrel freetime  goout  Dalc  Walc health absences  G1  G2  G3  \n",
       "0      4        3      4     1     1      3        6   5   6   6  \n",
       "1      5        3      3     1     1      3        4   5   5   6  \n",
       "2      4        3      2     2     3      3       10   7   8  10  \n",
       "3      3        2      2     1     1      5        2  15  14  15  \n",
       "4      4        3      2     1     2      5        4   6  10  10  \n",
       "\n",
       "[5 rows x 33 columns]"
      ]
     },
     "execution_count": 4,
     "metadata": {},
     "output_type": "execute_result"
    }
   ],
   "source": [
    "student_performance.head()"
   ]
  },
  {
   "cell_type": "code",
   "execution_count": 5,
   "id": "fbc58e24-abcb-455d-a911-e8e678fa515a",
   "metadata": {},
   "outputs": [
    {
     "name": "stdout",
     "output_type": "stream",
     "text": [
      "<class 'pandas.core.frame.DataFrame'>\n",
      "RangeIndex: 395 entries, 0 to 394\n",
      "Data columns (total 33 columns):\n",
      " #   Column      Non-Null Count  Dtype \n",
      "---  ------      --------------  ----- \n",
      " 0   school      395 non-null    object\n",
      " 1   sex         395 non-null    object\n",
      " 2   age         395 non-null    int64 \n",
      " 3   address     395 non-null    object\n",
      " 4   famsize     395 non-null    object\n",
      " 5   Pstatus     395 non-null    object\n",
      " 6   Medu        395 non-null    int64 \n",
      " 7   Fedu        395 non-null    int64 \n",
      " 8   Mjob        395 non-null    object\n",
      " 9   Fjob        395 non-null    object\n",
      " 10  reason      395 non-null    object\n",
      " 11  guardian    395 non-null    object\n",
      " 12  traveltime  395 non-null    int64 \n",
      " 13  studytime   395 non-null    int64 \n",
      " 14  failures    395 non-null    int64 \n",
      " 15  schoolsup   395 non-null    object\n",
      " 16  famsup      395 non-null    object\n",
      " 17  paid        395 non-null    object\n",
      " 18  activities  395 non-null    object\n",
      " 19  nursery     395 non-null    object\n",
      " 20  higher      395 non-null    object\n",
      " 21  internet    395 non-null    object\n",
      " 22  romantic    395 non-null    object\n",
      " 23  famrel      395 non-null    int64 \n",
      " 24  freetime    395 non-null    int64 \n",
      " 25  goout       395 non-null    int64 \n",
      " 26  Dalc        395 non-null    int64 \n",
      " 27  Walc        395 non-null    int64 \n",
      " 28  health      395 non-null    int64 \n",
      " 29  absences    395 non-null    int64 \n",
      " 30  G1          395 non-null    int64 \n",
      " 31  G2          395 non-null    int64 \n",
      " 32  G3          395 non-null    int64 \n",
      "dtypes: int64(16), object(17)\n",
      "memory usage: 102.0+ KB\n"
     ]
    }
   ],
   "source": [
    "student_performance.info()"
   ]
  },
  {
   "cell_type": "markdown",
   "id": "62339e42-1f90-4b80-8ce3-a694cf0a8cd1",
   "metadata": {},
   "source": [
    "The data set contains 395 observations and 33 columns covering different aspects of student demographics, academic and behavioral traits.\n"
   ]
  },
  {
   "cell_type": "markdown",
   "id": "8cd60c8d-aad7-4951-9629-99f7ff729971",
   "metadata": {},
   "source": [
    "We can see that there is no missing values. There is not need to handle NAs.\n"
   ]
  },
  {
   "cell_type": "markdown",
   "id": "0d9b1cd2-1ef5-4e4b-a9f3-e58d9b433e2d",
   "metadata": {},
   "source": [
    "The data set includes categorical (school, sex, Mjob) and numerical (age, G1, G2, G3) features.\n"
   ]
  },
  {
   "cell_type": "markdown",
   "id": "0d1399a0-a604-415e-bb17-21fef3acc880",
   "metadata": {},
   "source": [
    "There is a large range of features but not all of them are necessary for this analysis. Let's proceed and select only the necessary ones.\n"
   ]
  },
  {
   "cell_type": "markdown",
   "id": "653fc493-938c-46f7-9130-906fd786cd72",
   "metadata": {},
   "source": [
    "Let's selected the following key columns:\n",
    "\n",
    "- Demographic attributes: sex, age\n",
    "- Academic Attributes: studytime, failures, G1, G2, G3 (grades for three terms)\n",
    "- Behavioral Attributes: goout (socializing), Dalc (weekday alcohol consumption), Walc (weekend alcohol consumption)\n",
    "\n",
    "We will also split the dataset into train and test set with a 80/20 ratio. We also set `random_state=123` for reproducibility.\n"
   ]
  },
  {
   "cell_type": "code",
   "execution_count": 6,
   "id": "61c21a0d-14a5-40a9-968d-04f7fe619c7a",
   "metadata": {},
   "outputs": [],
   "source": [
    "# Necessary columns\n",
    "columns = ['sex', \n",
    "           'age', \n",
    "           'studytime', \n",
    "           'failures', \n",
    "           'goout', \n",
    "           'Dalc', \n",
    "           'Walc',\n",
    "           'G3']\n",
    "\n",
    "subset_df = student_performance[columns]\n",
    "subset_df = subset_df.drop_duplicates()\n",
    "\n",
    "train_df, test_df = train_test_split(\n",
    "    subset_df, test_size=0.2, random_state=123\n",
    ")"
   ]
  },
  {
   "cell_type": "markdown",
   "id": "28406fac-29fc-4eca-b9a6-66c38a0341ec",
   "metadata": {},
   "source": [
    "#### Data Validation Checks"
   ]
  },
  {
   "cell_type": "code",
   "execution_count": 7,
   "id": "9cc8bcf3-23c5-4483-b614-be5ab9e9b602",
   "metadata": {},
   "outputs": [],
   "source": [
    "# Data validation checks:\n",
    "\n",
    "# Correct column names\n",
    "# No empty observations\n",
    "# Correct data types in each column\n",
    "# No duplicate observations\n",
    "# Correct category levels (i.e., no string mismatches or single values)\n",
    "schema = pa.DataFrameSchema(\n",
    "    {\n",
    "        \"sex\": pa.Column(str, pa.Check.isin([\"M\", \"F\"])),\n",
    "        \"age\": pa.Column(int, pa.Check.between(15, 22), nullable=False),\n",
    "        \"studytime\": pa.Column(int, pa.Check.between(1, 4), nullable=False), \n",
    "        \"failures\": pa.Column(int, pa.Check.between(0, 4), nullable=False),\n",
    "        \"goout\": pa.Column(int, pa.Check.between(1, 5), nullable=False),\n",
    "        \"Dalc\": pa.Column(int, pa.Check.between(1, 5), nullable=False),\n",
    "        \"Walc\": pa.Column(int, pa.Check.between(1, 5), nullable=False),\n",
    "        \"G3\": pa.Column(int, pa.Check.between(0, 20), nullable=False)\n",
    "    },\n",
    "    checks=[\n",
    "        pa.Check(lambda df: ~df.duplicated().any(), error=\"Duplicate rows found.\"),\n",
    "        pa.Check(lambda df: ~(df.isna().all(axis=1)).any(), error=\"Empty rows found.\")\n",
    "    ]\n",
    ")\n",
    "\n",
    "schema.validate(subset_df, lazy=True);"
   ]
  },
  {
   "cell_type": "code",
   "execution_count": 8,
   "id": "9b9be085",
   "metadata": {},
   "outputs": [
    {
     "name": "stdout",
     "output_type": "stream",
     "text": [
      "Validating missingness...\n",
      "Missingness is within the acceptable threshold.\n"
     ]
    },
    {
     "data": {
      "image/png": "[encoded data removed]",
      "text/plain": [
       "<Figure size 1000x600 with 2 Axes>"
      ]
     },
     "metadata": {},
     "output_type": "display_data"
    }
   ],
   "source": [
    "# Missingness Not Beyond Expected Threshold\n",
    "def validate_missingness(data: pd.DataFrame, threshold: float = 0.05) -> None:\n",
    "    \"\"\"\n",
    "    Validate that missing values in the dataset do not exceed the acceptable threshold and visualize the missingness.\n",
    "\n",
    "    Parameters\n",
    "    ----------\n",
    "    data : pd.DataFrame\n",
    "        The dataset to check for missing values.\n",
    "    threshold : float, optional\n",
    "        The maximum allowable percentage of missing values per column (default is 0.05).\n",
    "\n",
    "    Returns\n",
    "    -------\n",
    "    None\n",
    "        This function does not return anything. It prints a message indicating whether missing values are within\n",
    "        the acceptable threshold and displays a heatmap of missing values in the dataset.\n",
    "\n",
    "    Examples\n",
    "    --------\n",
    "    >>> import pandas as pd\n",
    "    >>> df = pd.DataFrame({\n",
    "    >>>     'A': [1, 2, None, 4, 5],\n",
    "    >>>     'B': [None, None, 3, 4, 5],\n",
    "    >>>     'C': [1, 2, 3, 4, 5]\n",
    "    >>> })\n",
    "    >>> validate_missingness(df, threshold=0.1)\n",
    "    \"\"\"\n",
    "    \n",
    "    print(\"Validating missingness...\")\n",
    "    missing_percentage = data.isnull().mean()\n",
    "    above_threshold = missing_percentage[missing_percentage > threshold]\n",
    "\n",
    "    if above_threshold.empty:\n",
    "        print(\"Missingness is within the acceptable threshold.\")\n",
    "    else:\n",
    "        print(f\"Columns with missing values beyond threshold ({threshold}):\")\n",
    "        print(above_threshold)\n",
    "\n",
    "    # To visualize missingness\n",
    "    plt.figure(figsize=(10, 6))\n",
    "    sns.heatmap(\n",
    "        data.isnull(),\n",
    "        cbar=True,\n",
    "        cmap=\"viridis\",\n",
    "        cbar_kws={'label': 'Missing Value Indicator (1 = Missing, 0 = Present)'}\n",
    "    )\n",
    "    plt.title(\"Missing Value Heatmap\")\n",
    "    plt.show()\n",
    "validate_missingness(subset_df)"
   ]
  },
  {
   "cell_type": "markdown",
   "id": "a8fbaf15-4a1a-402e-a0dd-9015c6fdcef0",
   "metadata": {},
   "source": [
    "**Figure 1: Missing Values Heatmap**"
   ]
  },
  {
   "cell_type": "code",
   "execution_count": 9,
   "id": "7f9e70f7",
   "metadata": {},
   "outputs": [
    {
     "name": "stdout",
     "output_type": "stream",
     "text": [
      "Validating target distribution...\n"
     ]
    },
    {
     "data": {
      "image/png": "[encoded data removed]",
      "text/plain": [
       "<Figure size 640x480 with 1 Axes>"
      ]
     },
     "metadata": {},
     "output_type": "display_data"
    },
    {
     "name": "stdout",
     "output_type": "stream",
     "text": [
      "Target variable 'G3' does not follow a normal distribution (p=0.0000).\n"
     ]
    }
   ],
   "source": [
    "# Target/Response Variable Follows Expected Distribution\n",
    "def validate_target_distribution(data: pd.DataFrame, target_column: str) -> None:\n",
    "    \"\"\"\n",
    "    Validate the distribution of the target variable by plotting its histogram and performing a Shapiro-Wilk test.\n",
    "\n",
    "    Parameters\n",
    "    ----------\n",
    "    data : pd.DataFrame\n",
    "        The dataset containing the target variable.\n",
    "    target_column : str\n",
    "        The name of the target column whose distribution is to be validated.\n",
    "\n",
    "    Returns\n",
    "    -------\n",
    "    None\n",
    "        This function does not return anything. It displays a histogram with a KDE of the target variable\n",
    "        and prints the result of the normality test.\n",
    "\n",
    "    Examples\n",
    "    --------\n",
    "    >>> import pandas as pd\n",
    "    >>> df = pd.DataFrame({\n",
    "    >>>     'target': [1.2, 2.3, 2.9, 3.5, 2.1, 3.8, 4.0, 5.1]\n",
    "    >>> })\n",
    "    >>> validate_target_distribution(df, 'target')\n",
    "    \"\"\"\n",
    "    print(\"Validating target distribution...\")\n",
    "    sns.histplot(data[target_column], \n",
    "                 kde=True, \n",
    "                 bins=20)\n",
    "    plt.title(f\"Distribution of {target_column}\")\n",
    "    plt.show()\n",
    "    stat, p = shapiro(data[target_column])\n",
    "    if p > 0.05:\n",
    "        print(f\"Target variable '{target_column}' follows a normal distribution (p={p:.4f}).\")\n",
    "    else:\n",
    "        print(f\"Target variable '{target_column}' does not follow a normal distribution (p={p:.4f}).\")\n",
    "validate_target_distribution(subset_df, target_column=\"G3\")"
   ]
  },
  {
   "cell_type": "markdown",
   "id": "981b8275-7d7c-4167-9a92-29d186e9ae44",
   "metadata": {},
   "source": [
    "**Figure 2: Distribution of the target variable**"
   ]
  },
  {
   "attachments": {},
   "cell_type": "markdown",
   "id": "6a6b909e-033c-4864-b596-bfb51b48a23f",
   "metadata": {},
   "source": [
    "#### Checking for Outliers\n",
    "\n",
    "Before proceeding with preprocessing and modeling, we check for potential outliers or anomalous values in the training dataset."
   ]
  },
  {
   "cell_type": "code",
   "execution_count": 10,
   "id": "234fc021-4bcd-4b2d-a6bd-155d9aa51ba3",
   "metadata": {},
   "outputs": [],
   "source": [
    "def validate_no_outliers(data: pd.DataFrame, numeric_columns: list, max_cols: int = 3) -> None:\n",
    "    \"\"\"\n",
    "    Validate the presence of outliers in numeric columns using boxplots.\n",
    "\n",
    "    Parameters\n",
    "    ----------\n",
    "    data : pd.DataFrame\n",
    "        The dataset containing the numeric columns to be checked for outliers.\n",
    "    numeric_columns : list\n",
    "        A list of column names from `data` that contain numeric data to plot.\n",
    "    max_cols : int, optional\n",
    "        The maximum number of boxplots to display per row (default is 3).\n",
    "\n",
    "    Returns\n",
    "    -------\n",
    "    None\n",
    "        This function does not return anything. It displays boxplots for the specified numeric columns.\n",
    "    \n",
    "    Examples\n",
    "    --------\n",
    "    >>> import pandas as pd\n",
    "    >>> from matplotlib import pyplot as plt\n",
    "    >>> import seaborn as sns\n",
    "    >>> df = pd.DataFrame({\n",
    "    ...     'A': [1, 2, 3, 4, 100],\n",
    "    ...     'B': [10, 20, 30, 40, 50],\n",
    "    ...     'C': [5, 15, 25, 35, 45]\n",
    "    ... })\n",
    "    >>> validate_no_outliers(data=df, numeric_columns=['A', 'B', 'C'], max_cols=2)\n",
    "    \"\"\"\n",
    "    print(\"Validating outliers...\")\n",
    "\n",
    "    num_plots = len(numeric_columns)\n",
    "    nrows = -(-num_plots // max_cols)\n",
    "    ncols = min(num_plots, max_cols)\n",
    "\n",
    "    fig, axes = plt.subplots(nrows=nrows, ncols=ncols, figsize=(15, 10))\n",
    "\n",
    "    for ax, column in zip(axes.flatten(), numeric_columns):\n",
    "        sns.boxplot(data=subset_df, x=column, ax=ax)\n",
    "        ax.set_title(f\"Boxplot of {column}\")\n",
    "    \n",
    "    plt.tight_layout(rect=[0, 0, 1, 0.95])\n",
    "    plt.suptitle(\"Boxplots of Numeric Columns\", fontsize=14)\n",
    "    plt.show()"
   ]
  },
  {
   "cell_type": "code",
   "execution_count": 11,
   "id": "44090269-28c3-4a18-95f4-f81b22f28428",
   "metadata": {},
   "outputs": [
    {
     "name": "stdout",
     "output_type": "stream",
     "text": [
      "Validating outliers...\n"
     ]
    },
    {
     "data": {
      "image/png": "[encoded data removed]",
      "text/plain": [
       "<Figure size 1500x1000 with 9 Axes>"
      ]
     },
     "metadata": {},
     "output_type": "display_data"
    }
   ],
   "source": [
    "# checking outlier for dataset\n",
    "numeric_columns = subset_df.select_dtypes(include='number').columns\n",
    "\n",
    "validate_no_outliers(subset_df, numeric_columns)"
   ]
  },
  {
   "cell_type": "markdown",
   "id": "23fdadaf-b11a-4778-8547-16af8685f6f0",
   "metadata": {},
   "source": [
    "**Figure 3: Outliers visualization**"
   ]
  },
  {
   "attachments": {},
   "cell_type": "markdown",
   "id": "8e987cd7-4f8e-48bb-a21a-52867421f216",
   "metadata": {},
   "source": [
    "There are few outliers in `failures`, `Dalc`, `age`, `studytime`, `G2`, and `G1`, as seen in the boxplots. These outliers are relatively few compared to the 395 entries, but could still influence model results. We will apply a `StandardScaler` transformation to the numeric variables, the effect of these outliers will be minimized. Therefore, we will not drop or modify these outliers at this step."
   ]
  },
  {
   "cell_type": "code",
   "execution_count": 12,
   "id": "2653ebc6-05be-4cb7-b712-1055e9e091c3",
   "metadata": {},
   "outputs": [],
   "source": [
    "import warnings\n",
    "\n",
    "def validate_anomalous_correlations(data: pd.DataFrame, target_col: str, threshold: float = 0.9, zero_tolerance: float = 1e-5):\n",
    "    \"\"\"\n",
    "    Check for anomalous correlations in a dataset:\n",
    "    - Between features and the target variable.\n",
    "    - Among features themselves.\n",
    "    - Includes checks for zero correlations.\n",
    "\n",
    "    Parameters\n",
    "    ----------\n",
    "    data : pd.DataFrame\n",
    "        The dataset containing the target and features.\n",
    "    target_col : str\n",
    "        The name of the target column in the dataset.\n",
    "    threshold : float, optional\n",
    "        The correlation threshold above which correlations are flagged as anomalous (default is 0.9).\n",
    "    zero_tolerance : float, optional\n",
    "        The tolerance for detecting zero correlations (default is 1e-5).\n",
    "\n",
    "    Returns\n",
    "    -------\n",
    "    dict\n",
    "        A dictionary containing:\n",
    "        - 'feature_to_target': DataFrame of correlations between features and the target.\n",
    "        - 'feature_to_feature': DataFrame of correlations between features themselves.\n",
    "\n",
    "    Raises\n",
    "    ------\n",
    "    Warning\n",
    "        Issues warnings for high and near-zero correlations.\n",
    "    \"\"\"\n",
    "    if target_col not in data.columns:\n",
    "        raise ValueError(f\"Target column '{target_col}' not found in the dataset.\")\n",
    "    \n",
    "    features = data.drop(columns=[target_col])\n",
    "    target = data[target_col]\n",
    "\n",
    "    # Compute the full correlation matrix\n",
    "    correlation_matrix = data.corr()\n",
    "\n",
    "    # Step 1: Correlations between features and target\n",
    "    target_correlations = correlation_matrix[target_col].drop(target_col)\n",
    "\n",
    "    # Check for anomalous (high) correlations\n",
    "    anomalous_target_corrs = target_correlations[target_correlations.abs() > threshold]\n",
    "    for feature, corr in anomalous_target_corrs.items():\n",
    "        warnings.warn(\n",
    "            f\"Anomalous correlation ({corr:.2f}) between feature '{feature}' and target '{target_col}'.\"\n",
    "        )\n",
    "\n",
    "    # Check for zero correlations\n",
    "    zero_target_corrs = target_correlations[target_correlations.abs() <= zero_tolerance]\n",
    "    for feature, corr in zero_target_corrs.items():\n",
    "        warnings.warn(\n",
    "            f\"Zero or near-zero correlation ({corr:.2f}) between feature '{feature}' and target '{target_col}'.\"\n",
    "        )\n",
    "\n",
    "    # Step 2: Correlations among features\n",
    "    feature_correlations = correlation_matrix.loc[features.columns, features.columns]\n",
    "\n",
    "    # Check for anomalous (high) correlations among features\n",
    "    anomalous_feature_corrs = feature_correlations[\n",
    "        (feature_correlations.abs() > threshold) & (feature_correlations != 1)\n",
    "    ]\n",
    "    for feature1 in anomalous_feature_corrs.index:\n",
    "        for feature2 in anomalous_feature_corrs.columns:\n",
    "            if feature1 != feature2 and not pd.isna(anomalous_feature_corrs.loc[feature1, feature2]):\n",
    "                corr = anomalous_feature_corrs.loc[feature1, feature2]\n",
    "                warnings.warn(\n",
    "                    f\"Anomalous correlation ({corr:.2f}) between features '{feature1}' and '{feature2}'.\"\n",
    "                )\n",
    "                anomalous_feature_corrs.loc[feature1, feature2] = None\n",
    "                anomalous_feature_corrs.loc[feature2, feature1] = None\n",
    "\n",
    "    feature_to_target_df = pd.DataFrame({\n",
    "        'Feature': target_correlations.index,\n",
    "        'Correlation': target_correlations.values\n",
    "    }).reset_index(drop=True)\n",
    "\n",
    "    feature_to_feature_df = feature_correlations.stack().reset_index()\n",
    "    feature_to_feature_df.columns = ['Feature1', 'Feature2', 'Correlation']\n",
    "    feature_to_feature_df = feature_to_feature_df[\n",
    "        feature_to_feature_df['Feature1'] != feature_to_feature_df['Feature2']\n",
    "    ]\n",
    "\n",
    "    return {\n",
    "        'feature_to_target': feature_to_target_df,\n",
    "        'feature_to_feature': feature_to_feature_df\n",
    "    }\n",
    "\n",
    "# a warning will be issue if there are any problems\n",
    "correlation_check = validate_anomalous_correlations(\n",
    "    train_df.select_dtypes(include=\"number\"), \"G3\", threshold=0.95\n",
    ")"
   ]
  },
  {
   "cell_type": "code",
   "execution_count": 13,
   "id": "ff2ed11f-2e43-42d1-8435-69e170bfa037",
   "metadata": {},
   "outputs": [
    {
     "data": {
      "text/html": [
       "<div>\n",
       "<style scoped>\n",
       "    .dataframe tbody tr th:only-of-type {\n",
       "        vertical-align: middle;\n",
       "    }\n",
       "\n",
       "    .dataframe tbody tr th {\n",
       "        vertical-align: top;\n",
       "    }\n",
       "\n",
       "    .dataframe thead th {\n",
       "        text-align: right;\n",
       "    }\n",
       "</style>\n",
       "<table border=\"1\" class=\"dataframe\">\n",
       "  <thead>\n",
       "    <tr style=\"text-align: right;\">\n",
       "      <th></th>\n",
       "      <th>sex</th>\n",
       "      <th>age</th>\n",
       "      <th>studytime</th>\n",
       "      <th>failures</th>\n",
       "      <th>goout</th>\n",
       "      <th>Dalc</th>\n",
       "      <th>Walc</th>\n",
       "      <th>G3</th>\n",
       "    </tr>\n",
       "  </thead>\n",
       "  <tbody>\n",
       "    <tr>\n",
       "      <th>6</th>\n",
       "      <td>M</td>\n",
       "      <td>16</td>\n",
       "      <td>2</td>\n",
       "      <td>0</td>\n",
       "      <td>4</td>\n",
       "      <td>1</td>\n",
       "      <td>1</td>\n",
       "      <td>11</td>\n",
       "    </tr>\n",
       "    <tr>\n",
       "      <th>111</th>\n",
       "      <td>F</td>\n",
       "      <td>16</td>\n",
       "      <td>3</td>\n",
       "      <td>1</td>\n",
       "      <td>2</td>\n",
       "      <td>1</td>\n",
       "      <td>1</td>\n",
       "      <td>10</td>\n",
       "    </tr>\n",
       "    <tr>\n",
       "      <th>287</th>\n",
       "      <td>F</td>\n",
       "      <td>17</td>\n",
       "      <td>3</td>\n",
       "      <td>0</td>\n",
       "      <td>3</td>\n",
       "      <td>1</td>\n",
       "      <td>1</td>\n",
       "      <td>12</td>\n",
       "    </tr>\n",
       "    <tr>\n",
       "      <th>130</th>\n",
       "      <td>F</td>\n",
       "      <td>15</td>\n",
       "      <td>3</td>\n",
       "      <td>2</td>\n",
       "      <td>2</td>\n",
       "      <td>2</td>\n",
       "      <td>2</td>\n",
       "      <td>0</td>\n",
       "    </tr>\n",
       "    <tr>\n",
       "      <th>185</th>\n",
       "      <td>M</td>\n",
       "      <td>17</td>\n",
       "      <td>2</td>\n",
       "      <td>0</td>\n",
       "      <td>4</td>\n",
       "      <td>2</td>\n",
       "      <td>3</td>\n",
       "      <td>11</td>\n",
       "    </tr>\n",
       "  </tbody>\n",
       "</table>\n",
       "</div>"
      ],
      "text/plain": [
       "    sex  age  studytime  failures  goout  Dalc  Walc  G3\n",
       "6     M   16          2         0      4     1     1  11\n",
       "111   F   16          3         1      2     1     1  10\n",
       "287   F   17          3         0      3     1     1  12\n",
       "130   F   15          3         2      2     2     2   0\n",
       "185   M   17          2         0      4     2     3  11"
      ]
     },
     "execution_count": 13,
     "metadata": {},
     "output_type": "execute_result"
    }
   ],
   "source": [
    "train_df.head()"
   ]
  },
  {
   "cell_type": "code",
   "execution_count": 14,
   "id": "58ac916c-4663-4d2c-a986-bf51c27ef2cd",
   "metadata": {},
   "outputs": [
    {
     "name": "stdout",
     "output_type": "stream",
     "text": [
      "<class 'pandas.core.frame.DataFrame'>\n",
      "Index: 305 entries, 6 to 378\n",
      "Data columns (total 8 columns):\n",
      " #   Column     Non-Null Count  Dtype \n",
      "---  ------     --------------  ----- \n",
      " 0   sex        305 non-null    object\n",
      " 1   age        305 non-null    int64 \n",
      " 2   studytime  305 non-null    int64 \n",
      " 3   failures   305 non-null    int64 \n",
      " 4   goout      305 non-null    int64 \n",
      " 5   Dalc       305 non-null    int64 \n",
      " 6   Walc       305 non-null    int64 \n",
      " 7   G3         305 non-null    int64 \n",
      "dtypes: int64(7), object(1)\n",
      "memory usage: 21.4+ KB\n"
     ]
    }
   ],
   "source": [
    "train_df.info()"
   ]
  },
  {
   "cell_type": "markdown",
   "id": "c8fc4a4e-27a9-46c1-bcb9-84f2e85bb8c4",
   "metadata": {},
   "source": [
    "Let's get a summary of the training set we are going to use for the analysis.\n"
   ]
  },
  {
   "cell_type": "code",
   "execution_count": 15,
   "id": "2a880725-cc58-425a-b8c4-0a7e0a711ef9",
   "metadata": {},
   "outputs": [
    {
     "data": {
      "text/html": [
       "<div>\n",
       "<style scoped>\n",
       "    .dataframe tbody tr th:only-of-type {\n",
       "        vertical-align: middle;\n",
       "    }\n",
       "\n",
       "    .dataframe tbody tr th {\n",
       "        vertical-align: top;\n",
       "    }\n",
       "\n",
       "    .dataframe thead th {\n",
       "        text-align: right;\n",
       "    }\n",
       "</style>\n",
       "<table border=\"1\" class=\"dataframe\">\n",
       "  <thead>\n",
       "    <tr style=\"text-align: right;\">\n",
       "      <th></th>\n",
       "      <th>age</th>\n",
       "      <th>studytime</th>\n",
       "      <th>failures</th>\n",
       "      <th>goout</th>\n",
       "      <th>Dalc</th>\n",
       "      <th>Walc</th>\n",
       "      <th>G3</th>\n",
       "    </tr>\n",
       "  </thead>\n",
       "  <tbody>\n",
       "    <tr>\n",
       "      <th>count</th>\n",
       "      <td>305.000000</td>\n",
       "      <td>305.000000</td>\n",
       "      <td>305.000000</td>\n",
       "      <td>305.000000</td>\n",
       "      <td>305.000000</td>\n",
       "      <td>305.000000</td>\n",
       "      <td>305.000000</td>\n",
       "    </tr>\n",
       "    <tr>\n",
       "      <th>mean</th>\n",
       "      <td>16.681967</td>\n",
       "      <td>2.045902</td>\n",
       "      <td>0.321311</td>\n",
       "      <td>3.078689</td>\n",
       "      <td>1.518033</td>\n",
       "      <td>2.311475</td>\n",
       "      <td>10.308197</td>\n",
       "    </tr>\n",
       "    <tr>\n",
       "      <th>std</th>\n",
       "      <td>1.238302</td>\n",
       "      <td>0.829865</td>\n",
       "      <td>0.726635</td>\n",
       "      <td>1.112299</td>\n",
       "      <td>0.925073</td>\n",
       "      <td>1.294485</td>\n",
       "      <td>4.711070</td>\n",
       "    </tr>\n",
       "    <tr>\n",
       "      <th>min</th>\n",
       "      <td>15.000000</td>\n",
       "      <td>1.000000</td>\n",
       "      <td>0.000000</td>\n",
       "      <td>1.000000</td>\n",
       "      <td>1.000000</td>\n",
       "      <td>1.000000</td>\n",
       "      <td>0.000000</td>\n",
       "    </tr>\n",
       "    <tr>\n",
       "      <th>25%</th>\n",
       "      <td>16.000000</td>\n",
       "      <td>1.000000</td>\n",
       "      <td>0.000000</td>\n",
       "      <td>2.000000</td>\n",
       "      <td>1.000000</td>\n",
       "      <td>1.000000</td>\n",
       "      <td>9.000000</td>\n",
       "    </tr>\n",
       "    <tr>\n",
       "      <th>50%</th>\n",
       "      <td>17.000000</td>\n",
       "      <td>2.000000</td>\n",
       "      <td>0.000000</td>\n",
       "      <td>3.000000</td>\n",
       "      <td>1.000000</td>\n",
       "      <td>2.000000</td>\n",
       "      <td>11.000000</td>\n",
       "    </tr>\n",
       "    <tr>\n",
       "      <th>75%</th>\n",
       "      <td>18.000000</td>\n",
       "      <td>2.000000</td>\n",
       "      <td>0.000000</td>\n",
       "      <td>4.000000</td>\n",
       "      <td>2.000000</td>\n",
       "      <td>3.000000</td>\n",
       "      <td>13.000000</td>\n",
       "    </tr>\n",
       "    <tr>\n",
       "      <th>max</th>\n",
       "      <td>21.000000</td>\n",
       "      <td>4.000000</td>\n",
       "      <td>3.000000</td>\n",
       "      <td>5.000000</td>\n",
       "      <td>5.000000</td>\n",
       "      <td>5.000000</td>\n",
       "      <td>20.000000</td>\n",
       "    </tr>\n",
       "  </tbody>\n",
       "</table>\n",
       "</div>"
      ],
      "text/plain": [
       "              age   studytime    failures       goout        Dalc        Walc  \\\n",
       "count  305.000000  305.000000  305.000000  305.000000  305.000000  305.000000   \n",
       "mean    16.681967    2.045902    0.321311    3.078689    1.518033    2.311475   \n",
       "std      1.238302    0.829865    0.726635    1.112299    0.925073    1.294485   \n",
       "min     15.000000    1.000000    0.000000    1.000000    1.000000    1.000000   \n",
       "25%     16.000000    1.000000    0.000000    2.000000    1.000000    1.000000   \n",
       "50%     17.000000    2.000000    0.000000    3.000000    1.000000    2.000000   \n",
       "75%     18.000000    2.000000    0.000000    4.000000    2.000000    3.000000   \n",
       "max     21.000000    4.000000    3.000000    5.000000    5.000000    5.000000   \n",
       "\n",
       "               G3  \n",
       "count  305.000000  \n",
       "mean    10.308197  \n",
       "std      4.711070  \n",
       "min      0.000000  \n",
       "25%      9.000000  \n",
       "50%     11.000000  \n",
       "75%     13.000000  \n",
       "max     20.000000  "
      ]
     },
     "execution_count": 15,
     "metadata": {},
     "output_type": "execute_result"
    }
   ],
   "source": [
    "train_df.describe()"
   ]
  },
  {
   "cell_type": "markdown",
   "id": "ad54fa7e-20fd-4c00-8704-6e6f5eceecdf",
   "metadata": {},
   "source": [
    "Key takeaways from summary statistics:\n",
    "\n",
    "- Final grades `G3` range from `0` to `20`, with an average of around `10.26`.\n",
    "- The average study time is about `2.05` hours.\n",
    "- Most students have zero reported failures.\n",
    "- Alcohol consumption (Dalc and Walc) and socializing habits (goout) appear to vary across the student population.\n"
   ]
  },
  {
   "cell_type": "markdown",
   "id": "54e0a490-540d-4bc8-b6be-0aa9f37a24f4",
   "metadata": {},
   "source": [
    "Let's create a visualization to explore the final grades `G3` distribution. We will use a histogram as it allows us to see the spread.\n"
   ]
  },
  {
   "cell_type": "code",
   "execution_count": 16,
   "id": "40baf71d-9177-41cb-b172-5369c3f835b7",
   "metadata": {},
   "outputs": [
    {
     "data": {
      "application/vnd.vegalite.v5+json": {
       "$schema": "https://vega.github.io/schema/vega-lite/v5.20.1.json",
       "config": {
        "view": {
         "continuousHeight": 300,
         "continuousWidth": 300
        }
       },
       "data": {
        "name": "data-c7a048f9d116abb61c6122da5173e48c"
       },
       "datasets": {
        "data-c7a048f9d116abb61c6122da5173e48c": [
         {
          "Dalc": 1,
          "G3": 11,
          "Walc": 1,
          "age": 16,
          "failures": 0,
          "goout": 4,
          "sex": "M",
          "studytime": 2
         },
         {
          "Dalc": 1,
          "G3": 10,
          "Walc": 1,
          "age": 16,
          "failures": 1,
          "goout": 2,
          "sex": "F",
          "studytime": 3
         },
         {
          "Dalc": 1,
          "G3": 12,
          "Walc": 1,
          "age": 17,
          "failures": 0,
          "goout": 3,
          "sex": "F",
          "studytime": 3
         },
         {
          "Dalc": 2,
          "G3": 0,
          "Walc": 2,
          "age": 15,
          "failures": 2,
          "goout": 2,
          "sex": "F",
          "studytime": 3
         },
         {
          "Dalc": 2,
          "G3": 11,
          "Walc": 3,
          "age": 17,
          "failures": 0,
          "goout": 4,
          "sex": "M",
          "studytime": 2
         },
         {
          "Dalc": 1,
          "G3": 12,
          "Walc": 1,
          "age": 17,
          "failures": 0,
          "goout": 1,
          "sex": "F",
          "studytime": 1
         },
         {
          "Dalc": 1,
          "G3": 10,
          "Walc": 3,
          "age": 16,
          "failures": 0,
          "goout": 3,
          "sex": "M",
          "studytime": 2
         },
         {
          "Dalc": 1,
          "G3": 7,
          "Walc": 5,
          "age": 17,
          "failures": 3,
          "goout": 5,
          "sex": "M",
          "studytime": 2
         },
         {
          "Dalc": 1,
          "G3": 11,
          "Walc": 1,
          "age": 17,
          "failures": 0,
          "goout": 2,
          "sex": "M",
          "studytime": 2
         },
         {
          "Dalc": 1,
          "G3": 10,
          "Walc": 3,
          "age": 18,
          "failures": 0,
          "goout": 2,
          "sex": "F",
          "studytime": 2
         },
         {
          "Dalc": 1,
          "G3": 10,
          "Walc": 1,
          "age": 16,
          "failures": 0,
          "goout": 3,
          "sex": "F",
          "studytime": 2
         },
         {
          "Dalc": 1,
          "G3": 0,
          "Walc": 2,
          "age": 17,
          "failures": 1,
          "goout": 1,
          "sex": "F",
          "studytime": 1
         },
         {
          "Dalc": 1,
          "G3": 6,
          "Walc": 1,
          "age": 18,
          "failures": 0,
          "goout": 4,
          "sex": "F",
          "studytime": 2
         },
         {
          "Dalc": 2,
          "G3": 0,
          "Walc": 4,
          "age": 16,
          "failures": 1,
          "goout": 4,
          "sex": "M",
          "studytime": 1
         },
         {
          "Dalc": 1,
          "G3": 12,
          "Walc": 1,
          "age": 16,
          "failures": 0,
          "goout": 2,
          "sex": "F",
          "studytime": 1
         },
         {
          "Dalc": 2,
          "G3": 8,
          "Walc": 3,
          "age": 17,
          "failures": 0,
          "goout": 3,
          "sex": "F",
          "studytime": 2
         },
         {
          "Dalc": 1,
          "G3": 13,
          "Walc": 1,
          "age": 15,
          "failures": 0,
          "goout": 1,
          "sex": "F",
          "studytime": 1
         },
         {
          "Dalc": 2,
          "G3": 0,
          "Walc": 4,
          "age": 16,
          "failures": 2,
          "goout": 5,
          "sex": "M",
          "studytime": 1
         },
         {
          "Dalc": 1,
          "G3": 12,
          "Walc": 4,
          "age": 17,
          "failures": 0,
          "goout": 5,
          "sex": "M",
          "studytime": 2
         },
         {
          "Dalc": 2,
          "G3": 12,
          "Walc": 3,
          "age": 17,
          "failures": 0,
          "goout": 4,
          "sex": "F",
          "studytime": 2
         },
         {
          "Dalc": 1,
          "G3": 9,
          "Walc": 1,
          "age": 17,
          "failures": 0,
          "goout": 2,
          "sex": "F",
          "studytime": 2
         },
         {
          "Dalc": 1,
          "G3": 14,
          "Walc": 3,
          "age": 15,
          "failures": 0,
          "goout": 3,
          "sex": "M",
          "studytime": 1
         },
         {
          "Dalc": 1,
          "G3": 8,
          "Walc": 1,
          "age": 15,
          "failures": 0,
          "goout": 2,
          "sex": "F",
          "studytime": 4
         },
         {
          "Dalc": 1,
          "G3": 6,
          "Walc": 1,
          "age": 16,
          "failures": 0,
          "goout": 2,
          "sex": "M",
          "studytime": 2
         },
         {
          "Dalc": 1,
          "G3": 15,
          "Walc": 1,
          "age": 15,
          "failures": 0,
          "goout": 2,
          "sex": "F",
          "studytime": 2
         },
         {
          "Dalc": 1,
          "G3": 17,
          "Walc": 1,
          "age": 15,
          "failures": 0,
          "goout": 1,
          "sex": "M",
          "studytime": 2
         },
         {
          "Dalc": 2,
          "G3": 16,
          "Walc": 2,
          "age": 18,
          "failures": 0,
          "goout": 2,
          "sex": "M",
          "studytime": 1
         },
         {
          "Dalc": 1,
          "G3": 16,
          "Walc": 3,
          "age": 16,
          "failures": 0,
          "goout": 1,
          "sex": "M",
          "studytime": 2
         },
         {
          "Dalc": 1,
          "G3": 13,
          "Walc": 2,
          "age": 15,
          "failures": 0,
          "goout": 3,
          "sex": "M",
          "studytime": 1
         },
         {
          "Dalc": 3,
          "G3": 12,
          "Walc": 2,
          "age": 15,
          "failures": 0,
          "goout": 5,
          "sex": "M",
          "studytime": 1
         },
         {
          "Dalc": 3,
          "G3": 9,
          "Walc": 4,
          "age": 16,
          "failures": 0,
          "goout": 3,
          "sex": "M",
          "studytime": 1
         },
         {
          "Dalc": 1,
          "G3": 11,
          "Walc": 3,
          "age": 19,
          "failures": 1,
          "goout": 4,
          "sex": "F",
          "studytime": 3
         },
         {
          "Dalc": 1,
          "G3": 10,
          "Walc": 1,
          "age": 15,
          "failures": 1,
          "goout": 2,
          "sex": "F",
          "studytime": 4
         },
         {
          "Dalc": 1,
          "G3": 19,
          "Walc": 2,
          "age": 18,
          "failures": 0,
          "goout": 3,
          "sex": "F",
          "studytime": 3
         },
         {
          "Dalc": 2,
          "G3": 0,
          "Walc": 2,
          "age": 18,
          "failures": 1,
          "goout": 3,
          "sex": "M",
          "studytime": 2
         },
         {
          "Dalc": 1,
          "G3": 11,
          "Walc": 2,
          "age": 17,
          "failures": 0,
          "goout": 5,
          "sex": "F",
          "studytime": 2
         },
         {
          "Dalc": 3,
          "G3": 0,
          "Walc": 5,
          "age": 18,
          "failures": 1,
          "goout": 4,
          "sex": "M",
          "studytime": 2
         },
         {
          "Dalc": 1,
          "G3": 0,
          "Walc": 1,
          "age": 16,
          "failures": 0,
          "goout": 5,
          "sex": "F",
          "studytime": 2
         },
         {
          "Dalc": 1,
          "G3": 16,
          "Walc": 1,
          "age": 16,
          "failures": 0,
          "goout": 5,
          "sex": "F",
          "studytime": 3
         },
         {
          "Dalc": 1,
          "G3": 15,
          "Walc": 2,
          "age": 16,
          "failures": 0,
          "goout": 2,
          "sex": "M",
          "studytime": 2
         },
         {
          "Dalc": 1,
          "G3": 10,
          "Walc": 5,
          "age": 17,
          "failures": 0,
          "goout": 3,
          "sex": "M",
          "studytime": 2
         },
         {
          "Dalc": 3,
          "G3": 10,
          "Walc": 5,
          "age": 16,
          "failures": 0,
          "goout": 4,
          "sex": "M",
          "studytime": 1
         },
         {
          "Dalc": 1,
          "G3": 10,
          "Walc": 3,
          "age": 16,
          "failures": 0,
          "goout": 3,
          "sex": "M",
          "studytime": 1
         },
         {
          "Dalc": 3,
          "G3": 12,
          "Walc": 4,
          "age": 15,
          "failures": 0,
          "goout": 2,
          "sex": "M",
          "studytime": 2
         },
         {
          "Dalc": 1,
          "G3": 12,
          "Walc": 3,
          "age": 15,
          "failures": 0,
          "goout": 2,
          "sex": "M",
          "studytime": 1
         },
         {
          "Dalc": 1,
          "G3": 13,
          "Walc": 2,
          "age": 17,
          "failures": 0,
          "goout": 3,
          "sex": "F",
          "studytime": 2
         },
         {
          "Dalc": 1,
          "G3": 12,
          "Walc": 2,
          "age": 16,
          "failures": 0,
          "goout": 3,
          "sex": "M",
          "studytime": 2
         },
         {
          "Dalc": 1,
          "G3": 11,
          "Walc": 1,
          "age": 19,
          "failures": 0,
          "goout": 1,
          "sex": "M",
          "studytime": 2
         },
         {
          "Dalc": 1,
          "G3": 10,
          "Walc": 3,
          "age": 18,
          "failures": 0,
          "goout": 3,
          "sex": "F",
          "studytime": 3
         },
         {
          "Dalc": 2,
          "G3": 10,
          "Walc": 4,
          "age": 18,
          "failures": 0,
          "goout": 4,
          "sex": "M",
          "studytime": 2
         },
         {
          "Dalc": 2,
          "G3": 5,
          "Walc": 4,
          "age": 15,
          "failures": 2,
          "goout": 4,
          "sex": "F",
          "studytime": 2
         },
         {
          "Dalc": 1,
          "G3": 10,
          "Walc": 1,
          "age": 16,
          "failures": 0,
          "goout": 5,
          "sex": "F",
          "studytime": 2
         },
         {
          "Dalc": 4,
          "G3": 13,
          "Walc": 5,
          "age": 17,
          "failures": 0,
          "goout": 5,
          "sex": "M",
          "studytime": 2
         },
         {
          "Dalc": 1,
          "G3": 10,
          "Walc": 1,
          "age": 17,
          "failures": 0,
          "goout": 3,
          "sex": "M",
          "studytime": 2
         },
         {
          "Dalc": 1,
          "G3": 18,
          "Walc": 1,
          "age": 15,
          "failures": 0,
          "goout": 3,
          "sex": "M",
          "studytime": 3
         },
         {
          "Dalc": 1,
          "G3": 11,
          "Walc": 4,
          "age": 16,
          "failures": 0,
          "goout": 1,
          "sex": "F",
          "studytime": 1
         },
         {
          "Dalc": 2,
          "G3": 10,
          "Walc": 3,
          "age": 15,
          "failures": 0,
          "goout": 3,
          "sex": "M",
          "studytime": 2
         },
         {
          "Dalc": 4,
          "G3": 13,
          "Walc": 4,
          "age": 15,
          "failures": 0,
          "goout": 4,
          "sex": "F",
          "studytime": 1
         },
         {
          "Dalc": 2,
          "G3": 12,
          "Walc": 4,
          "age": 16,
          "failures": 0,
          "goout": 4,
          "sex": "M",
          "studytime": 2
         },
         {
          "Dalc": 1,
          "G3": 9,
          "Walc": 3,
          "age": 17,
          "failures": 0,
          "goout": 4,
          "sex": "F",
          "studytime": 3
         },
         {
          "Dalc": 1,
          "G3": 11,
          "Walc": 2,
          "age": 17,
          "failures": 0,
          "goout": 3,
          "sex": "M",
          "studytime": 2
         },
         {
          "Dalc": 1,
          "G3": 13,
          "Walc": 1,
          "age": 19,
          "failures": 1,
          "goout": 4,
          "sex": "M",
          "studytime": 2
         },
         {
          "Dalc": 2,
          "G3": 6,
          "Walc": 3,
          "age": 16,
          "failures": 0,
          "goout": 3,
          "sex": "F",
          "studytime": 2
         },
         {
          "Dalc": 1,
          "G3": 13,
          "Walc": 1,
          "age": 19,
          "failures": 2,
          "goout": 2,
          "sex": "F",
          "studytime": 3
         },
         {
          "Dalc": 1,
          "G3": 10,
          "Walc": 2,
          "age": 18,
          "failures": 0,
          "goout": 2,
          "sex": "F",
          "studytime": 3
         },
         {
          "Dalc": 3,
          "G3": 7,
          "Walc": 3,
          "age": 21,
          "failures": 3,
          "goout": 3,
          "sex": "M",
          "studytime": 1
         },
         {
          "Dalc": 1,
          "G3": 0,
          "Walc": 1,
          "age": 18,
          "failures": 0,
          "goout": 4,
          "sex": "F",
          "studytime": 4
         },
         {
          "Dalc": 3,
          "G3": 9,
          "Walc": 3,
          "age": 19,
          "failures": 0,
          "goout": 3,
          "sex": "M",
          "studytime": 1
         },
         {
          "Dalc": 1,
          "G3": 10,
          "Walc": 2,
          "age": 16,
          "failures": 0,
          "goout": 2,
          "sex": "F",
          "studytime": 2
         },
         {
          "Dalc": 4,
          "G3": 12,
          "Walc": 4,
          "age": 16,
          "failures": 1,
          "goout": 5,
          "sex": "M",
          "studytime": 2
         },
         {
          "Dalc": 1,
          "G3": 15,
          "Walc": 1,
          "age": 17,
          "failures": 0,
          "goout": 4,
          "sex": "F",
          "studytime": 2
         },
         {
          "Dalc": 2,
          "G3": 10,
          "Walc": 4,
          "age": 16,
          "failures": 0,
          "goout": 5,
          "sex": "M",
          "studytime": 2
         },
         {
          "Dalc": 2,
          "G3": 0,
          "Walc": 5,
          "age": 18,
          "failures": 3,
          "goout": 5,
          "sex": "M",
          "studytime": 1
         },
         {
          "Dalc": 1,
          "G3": 7,
          "Walc": 3,
          "age": 18,
          "failures": 0,
          "goout": 3,
          "sex": "M",
          "studytime": 1
         },
         {
          "Dalc": 1,
          "G3": 6,
          "Walc": 1,
          "age": 15,
          "failures": 0,
          "goout": 4,
          "sex": "F",
          "studytime": 2
         },
         {
          "Dalc": 1,
          "G3": 13,
          "Walc": 2,
          "age": 16,
          "failures": 0,
          "goout": 2,
          "sex": "F",
          "studytime": 2
         },
         {
          "Dalc": 1,
          "G3": 13,
          "Walc": 1,
          "age": 17,
          "failures": 0,
          "goout": 2,
          "sex": "M",
          "studytime": 1
         },
         {
          "Dalc": 1,
          "G3": 10,
          "Walc": 3,
          "age": 16,
          "failures": 0,
          "goout": 3,
          "sex": "F",
          "studytime": 2
         },
         {
          "Dalc": 1,
          "G3": 18,
          "Walc": 1,
          "age": 20,
          "failures": 0,
          "goout": 3,
          "sex": "M",
          "studytime": 1
         },
         {
          "Dalc": 3,
          "G3": 13,
          "Walc": 5,
          "age": 15,
          "failures": 0,
          "goout": 5,
          "sex": "M",
          "studytime": 4
         },
         {
          "Dalc": 1,
          "G3": 9,
          "Walc": 1,
          "age": 16,
          "failures": 0,
          "goout": 3,
          "sex": "F",
          "studytime": 2
         },
         {
          "Dalc": 1,
          "G3": 13,
          "Walc": 1,
          "age": 16,
          "failures": 1,
          "goout": 2,
          "sex": "F",
          "studytime": 2
         },
         {
          "Dalc": 1,
          "G3": 12,
          "Walc": 3,
          "age": 17,
          "failures": 0,
          "goout": 4,
          "sex": "F",
          "studytime": 1
         },
         {
          "Dalc": 1,
          "G3": 15,
          "Walc": 3,
          "age": 15,
          "failures": 0,
          "goout": 3,
          "sex": "M",
          "studytime": 2
         },
         {
          "Dalc": 1,
          "G3": 0,
          "Walc": 1,
          "age": 18,
          "failures": 1,
          "goout": 1,
          "sex": "F",
          "studytime": 2
         },
         {
          "Dalc": 1,
          "G3": 0,
          "Walc": 1,
          "age": 16,
          "failures": 0,
          "goout": 5,
          "sex": "M",
          "studytime": 1
         },
         {
          "Dalc": 1,
          "G3": 6,
          "Walc": 1,
          "age": 15,
          "failures": 0,
          "goout": 2,
          "sex": "F",
          "studytime": 2
         },
         {
          "Dalc": 1,
          "G3": 10,
          "Walc": 3,
          "age": 17,
          "failures": 0,
          "goout": 4,
          "sex": "M",
          "studytime": 2
         },
         {
          "Dalc": 1,
          "G3": 18,
          "Walc": 3,
          "age": 18,
          "failures": 0,
          "goout": 2,
          "sex": "F",
          "studytime": 2
         },
         {
          "Dalc": 1,
          "G3": 18,
          "Walc": 3,
          "age": 15,
          "failures": 0,
          "goout": 5,
          "sex": "F",
          "studytime": 1
         },
         {
          "Dalc": 1,
          "G3": 13,
          "Walc": 2,
          "age": 17,
          "failures": 0,
          "goout": 2,
          "sex": "F",
          "studytime": 2
         },
         {
          "Dalc": 1,
          "G3": 9,
          "Walc": 1,
          "age": 19,
          "failures": 2,
          "goout": 2,
          "sex": "F",
          "studytime": 2
         },
         {
          "Dalc": 2,
          "G3": 13,
          "Walc": 2,
          "age": 18,
          "failures": 0,
          "goout": 2,
          "sex": "M",
          "studytime": 3
         },
         {
          "Dalc": 1,
          "G3": 10,
          "Walc": 4,
          "age": 16,
          "failures": 0,
          "goout": 2,
          "sex": "F",
          "studytime": 1
         },
         {
          "Dalc": 1,
          "G3": 14,
          "Walc": 1,
          "age": 18,
          "failures": 0,
          "goout": 3,
          "sex": "F",
          "studytime": 4
         },
         {
          "Dalc": 1,
          "G3": 9,
          "Walc": 1,
          "age": 16,
          "failures": 0,
          "goout": 5,
          "sex": "F",
          "studytime": 2
         },
         {
          "Dalc": 4,
          "G3": 9,
          "Walc": 4,
          "age": 17,
          "failures": 0,
          "goout": 4,
          "sex": "M",
          "studytime": 2
         },
         {
          "Dalc": 1,
          "G3": 15,
          "Walc": 2,
          "age": 16,
          "failures": 0,
          "goout": 3,
          "sex": "M",
          "studytime": 2
         },
         {
          "Dalc": 1,
          "G3": 6,
          "Walc": 1,
          "age": 17,
          "failures": 0,
          "goout": 4,
          "sex": "F",
          "studytime": 2
         },
         {
          "Dalc": 2,
          "G3": 0,
          "Walc": 3,
          "age": 17,
          "failures": 0,
          "goout": 2,
          "sex": "F",
          "studytime": 2
         },
         {
          "Dalc": 1,
          "G3": 15,
          "Walc": 2,
          "age": 15,
          "failures": 0,
          "goout": 3,
          "sex": "F",
          "studytime": 2
         },
         {
          "Dalc": 1,
          "G3": 9,
          "Walc": 1,
          "age": 18,
          "failures": 0,
          "goout": 4,
          "sex": "F",
          "studytime": 3
         },
         {
          "Dalc": 4,
          "G3": 9,
          "Walc": 5,
          "age": 18,
          "failures": 0,
          "goout": 2,
          "sex": "M",
          "studytime": 2
         },
         {
          "Dalc": 2,
          "G3": 8,
          "Walc": 4,
          "age": 17,
          "failures": 0,
          "goout": 4,
          "sex": "M",
          "studytime": 1
         },
         {
          "Dalc": 2,
          "G3": 9,
          "Walc": 2,
          "age": 16,
          "failures": 2,
          "goout": 3,
          "sex": "M",
          "studytime": 1
         },
         {
          "Dalc": 3,
          "G3": 9,
          "Walc": 4,
          "age": 17,
          "failures": 1,
          "goout": 3,
          "sex": "F",
          "studytime": 3
         },
         {
          "Dalc": 1,
          "G3": 11,
          "Walc": 1,
          "age": 17,
          "failures": 0,
          "goout": 1,
          "sex": "F",
          "studytime": 2
         },
         {
          "Dalc": 2,
          "G3": 10,
          "Walc": 3,
          "age": 15,
          "failures": 2,
          "goout": 1,
          "sex": "F",
          "studytime": 3
         },
         {
          "Dalc": 1,
          "G3": 12,
          "Walc": 2,
          "age": 19,
          "failures": 1,
          "goout": 3,
          "sex": "M",
          "studytime": 2
         },
         {
          "Dalc": 1,
          "G3": 9,
          "Walc": 1,
          "age": 17,
          "failures": 0,
          "goout": 3,
          "sex": "F",
          "studytime": 3
         },
         {
          "Dalc": 1,
          "G3": 0,
          "Walc": 1,
          "age": 17,
          "failures": 1,
          "goout": 4,
          "sex": "F",
          "studytime": 3
         },
         {
          "Dalc": 2,
          "G3": 13,
          "Walc": 3,
          "age": 16,
          "failures": 0,
          "goout": 3,
          "sex": "F",
          "studytime": 2
         },
         {
          "Dalc": 1,
          "G3": 11,
          "Walc": 1,
          "age": 15,
          "failures": 0,
          "goout": 2,
          "sex": "F",
          "studytime": 3
         },
         {
          "Dalc": 1,
          "G3": 6,
          "Walc": 1,
          "age": 15,
          "failures": 0,
          "goout": 1,
          "sex": "F",
          "studytime": 1
         },
         {
          "Dalc": 2,
          "G3": 8,
          "Walc": 4,
          "age": 18,
          "failures": 0,
          "goout": 5,
          "sex": "M",
          "studytime": 4
         },
         {
          "Dalc": 1,
          "G3": 8,
          "Walc": 1,
          "age": 15,
          "failures": 0,
          "goout": 2,
          "sex": "F",
          "studytime": 3
         },
         {
          "Dalc": 1,
          "G3": 18,
          "Walc": 1,
          "age": 16,
          "failures": 0,
          "goout": 3,
          "sex": "M",
          "studytime": 1
         },
         {
          "Dalc": 1,
          "G3": 11,
          "Walc": 2,
          "age": 17,
          "failures": 0,
          "goout": 3,
          "sex": "F",
          "studytime": 2
         },
         {
          "Dalc": 1,
          "G3": 12,
          "Walc": 2,
          "age": 17,
          "failures": 0,
          "goout": 3,
          "sex": "F",
          "studytime": 3
         },
         {
          "Dalc": 1,
          "G3": 9,
          "Walc": 2,
          "age": 15,
          "failures": 0,
          "goout": 3,
          "sex": "F",
          "studytime": 2
         },
         {
          "Dalc": 1,
          "G3": 6,
          "Walc": 2,
          "age": 16,
          "failures": 0,
          "goout": 3,
          "sex": "F",
          "studytime": 4
         },
         {
          "Dalc": 5,
          "G3": 11,
          "Walc": 5,
          "age": 16,
          "failures": 0,
          "goout": 5,
          "sex": "M",
          "studytime": 2
         },
         {
          "Dalc": 2,
          "G3": 8,
          "Walc": 4,
          "age": 18,
          "failures": 1,
          "goout": 4,
          "sex": "M",
          "studytime": 2
         },
         {
          "Dalc": 2,
          "G3": 18,
          "Walc": 5,
          "age": 16,
          "failures": 0,
          "goout": 5,
          "sex": "M",
          "studytime": 1
         },
         {
          "Dalc": 2,
          "G3": 13,
          "Walc": 3,
          "age": 17,
          "failures": 0,
          "goout": 4,
          "sex": "M",
          "studytime": 2
         },
         {
          "Dalc": 1,
          "G3": 14,
          "Walc": 1,
          "age": 16,
          "failures": 0,
          "goout": 2,
          "sex": "F",
          "studytime": 2
         },
         {
          "Dalc": 1,
          "G3": 6,
          "Walc": 2,
          "age": 17,
          "failures": 0,
          "goout": 2,
          "sex": "F",
          "studytime": 1
         },
         {
          "Dalc": 3,
          "G3": 13,
          "Walc": 3,
          "age": 16,
          "failures": 0,
          "goout": 4,
          "sex": "F",
          "studytime": 1
         },
         {
          "Dalc": 1,
          "G3": 13,
          "Walc": 1,
          "age": 18,
          "failures": 1,
          "goout": 3,
          "sex": "F",
          "studytime": 2
         },
         {
          "Dalc": 1,
          "G3": 17,
          "Walc": 1,
          "age": 16,
          "failures": 0,
          "goout": 1,
          "sex": "F",
          "studytime": 2
         },
         {
          "Dalc": 1,
          "G3": 13,
          "Walc": 1,
          "age": 16,
          "failures": 0,
          "goout": 2,
          "sex": "M",
          "studytime": 1
         },
         {
          "Dalc": 1,
          "G3": 15,
          "Walc": 1,
          "age": 16,
          "failures": 0,
          "goout": 2,
          "sex": "M",
          "studytime": 4
         },
         {
          "Dalc": 1,
          "G3": 0,
          "Walc": 1,
          "age": 16,
          "failures": 2,
          "goout": 2,
          "sex": "F",
          "studytime": 1
         },
         {
          "Dalc": 1,
          "G3": 18,
          "Walc": 1,
          "age": 15,
          "failures": 0,
          "goout": 4,
          "sex": "M",
          "studytime": 2
         },
         {
          "Dalc": 1,
          "G3": 8,
          "Walc": 1,
          "age": 19,
          "failures": 1,
          "goout": 4,
          "sex": "M",
          "studytime": 1
         },
         {
          "Dalc": 3,
          "G3": 11,
          "Walc": 3,
          "age": 18,
          "failures": 0,
          "goout": 4,
          "sex": "F",
          "studytime": 2
         },
         {
          "Dalc": 2,
          "G3": 12,
          "Walc": 3,
          "age": 18,
          "failures": 1,
          "goout": 3,
          "sex": "M",
          "studytime": 2
         },
         {
          "Dalc": 3,
          "G3": 10,
          "Walc": 4,
          "age": 18,
          "failures": 0,
          "goout": 3,
          "sex": "F",
          "studytime": 2
         },
         {
          "Dalc": 1,
          "G3": 14,
          "Walc": 3,
          "age": 15,
          "failures": 0,
          "goout": 3,
          "sex": "F",
          "studytime": 3
         },
         {
          "Dalc": 1,
          "G3": 0,
          "Walc": 2,
          "age": 18,
          "failures": 0,
          "goout": 5,
          "sex": "F",
          "studytime": 2
         },
         {
          "Dalc": 1,
          "G3": 9,
          "Walc": 1,
          "age": 18,
          "failures": 0,
          "goout": 4,
          "sex": "F",
          "studytime": 2
         },
         {
          "Dalc": 1,
          "G3": 18,
          "Walc": 1,
          "age": 17,
          "failures": 0,
          "goout": 2,
          "sex": "F",
          "studytime": 4
         },
         {
          "Dalc": 1,
          "G3": 16,
          "Walc": 2,
          "age": 16,
          "failures": 0,
          "goout": 4,
          "sex": "M",
          "studytime": 2
         },
         {
          "Dalc": 1,
          "G3": 13,
          "Walc": 1,
          "age": 19,
          "failures": 0,
          "goout": 1,
          "sex": "F",
          "studytime": 2
         },
         {
          "Dalc": 1,
          "G3": 18,
          "Walc": 2,
          "age": 17,
          "failures": 0,
          "goout": 2,
          "sex": "F",
          "studytime": 4
         },
         {
          "Dalc": 1,
          "G3": 14,
          "Walc": 2,
          "age": 17,
          "failures": 0,
          "goout": 3,
          "sex": "F",
          "studytime": 3
         },
         {
          "Dalc": 1,
          "G3": 15,
          "Walc": 2,
          "age": 16,
          "failures": 0,
          "goout": 2,
          "sex": "M",
          "studytime": 1
         },
         {
          "Dalc": 1,
          "G3": 15,
          "Walc": 1,
          "age": 17,
          "failures": 0,
          "goout": 2,
          "sex": "F",
          "studytime": 2
         },
         {
          "Dalc": 1,
          "G3": 0,
          "Walc": 1,
          "age": 18,
          "failures": 0,
          "goout": 4,
          "sex": "F",
          "studytime": 2
         },
         {
          "Dalc": 1,
          "G3": 9,
          "Walc": 1,
          "age": 19,
          "failures": 3,
          "goout": 2,
          "sex": "F",
          "studytime": 2
         },
         {
          "Dalc": 1,
          "G3": 12,
          "Walc": 2,
          "age": 17,
          "failures": 0,
          "goout": 2,
          "sex": "F",
          "studytime": 2
         },
         {
          "Dalc": 2,
          "G3": 0,
          "Walc": 4,
          "age": 17,
          "failures": 0,
          "goout": 5,
          "sex": "M",
          "studytime": 2
         },
         {
          "Dalc": 1,
          "G3": 0,
          "Walc": 2,
          "age": 17,
          "failures": 3,
          "goout": 5,
          "sex": "M",
          "studytime": 1
         },
         {
          "Dalc": 1,
          "G3": 14,
          "Walc": 1,
          "age": 16,
          "failures": 0,
          "goout": 4,
          "sex": "F",
          "studytime": 2
         },
         {
          "Dalc": 1,
          "G3": 14,
          "Walc": 1,
          "age": 15,
          "failures": 0,
          "goout": 4,
          "sex": "M",
          "studytime": 4
         },
         {
          "Dalc": 2,
          "G3": 10,
          "Walc": 3,
          "age": 17,
          "failures": 0,
          "goout": 3,
          "sex": "F",
          "studytime": 2
         },
         {
          "Dalc": 5,
          "G3": 10,
          "Walc": 5,
          "age": 17,
          "failures": 0,
          "goout": 5,
          "sex": "M",
          "studytime": 1
         },
         {
          "Dalc": 1,
          "G3": 11,
          "Walc": 1,
          "age": 16,
          "failures": 0,
          "goout": 5,
          "sex": "F",
          "studytime": 4
         },
         {
          "Dalc": 2,
          "G3": 9,
          "Walc": 4,
          "age": 16,
          "failures": 0,
          "goout": 4,
          "sex": "F",
          "studytime": 3
         },
         {
          "Dalc": 1,
          "G3": 10,
          "Walc": 1,
          "age": 17,
          "failures": 0,
          "goout": 3,
          "sex": "F",
          "studytime": 3
         },
         {
          "Dalc": 2,
          "G3": 10,
          "Walc": 3,
          "age": 17,
          "failures": 0,
          "goout": 4,
          "sex": "F",
          "studytime": 2
         },
         {
          "Dalc": 1,
          "G3": 13,
          "Walc": 1,
          "age": 16,
          "failures": 0,
          "goout": 3,
          "sex": "F",
          "studytime": 2
         },
         {
          "Dalc": 2,
          "G3": 17,
          "Walc": 3,
          "age": 17,
          "failures": 0,
          "goout": 2,
          "sex": "F",
          "studytime": 2
         },
         {
          "Dalc": 1,
          "G3": 14,
          "Walc": 2,
          "age": 17,
          "failures": 0,
          "goout": 3,
          "sex": "F",
          "studytime": 2
         },
         {
          "Dalc": 2,
          "G3": 11,
          "Walc": 2,
          "age": 18,
          "failures": 0,
          "goout": 3,
          "sex": "M",
          "studytime": 3
         },
         {
          "Dalc": 1,
          "G3": 16,
          "Walc": 1,
          "age": 16,
          "failures": 0,
          "goout": 2,
          "sex": "M",
          "studytime": 2
         },
         {
          "Dalc": 3,
          "G3": 10,
          "Walc": 4,
          "age": 16,
          "failures": 0,
          "goout": 2,
          "sex": "M",
          "studytime": 1
         },
         {
          "Dalc": 1,
          "G3": 11,
          "Walc": 4,
          "age": 16,
          "failures": 0,
          "goout": 5,
          "sex": "F",
          "studytime": 2
         },
         {
          "Dalc": 1,
          "G3": 11,
          "Walc": 3,
          "age": 17,
          "failures": 0,
          "goout": 3,
          "sex": "M",
          "studytime": 1
         },
         {
          "Dalc": 2,
          "G3": 14,
          "Walc": 3,
          "age": 18,
          "failures": 0,
          "goout": 3,
          "sex": "F",
          "studytime": 3
         },
         {
          "Dalc": 1,
          "G3": 0,
          "Walc": 1,
          "age": 15,
          "failures": 0,
          "goout": 3,
          "sex": "F",
          "studytime": 3
         },
         {
          "Dalc": 1,
          "G3": 11,
          "Walc": 1,
          "age": 15,
          "failures": 0,
          "goout": 3,
          "sex": "F",
          "studytime": 4
         },
         {
          "Dalc": 1,
          "G3": 13,
          "Walc": 1,
          "age": 15,
          "failures": 0,
          "goout": 3,
          "sex": "F",
          "studytime": 2
         },
         {
          "Dalc": 1,
          "G3": 17,
          "Walc": 1,
          "age": 16,
          "failures": 0,
          "goout": 3,
          "sex": "M",
          "studytime": 3
         },
         {
          "Dalc": 2,
          "G3": 7,
          "Walc": 2,
          "age": 16,
          "failures": 3,
          "goout": 3,
          "sex": "F",
          "studytime": 2
         },
         {
          "Dalc": 1,
          "G3": 7,
          "Walc": 1,
          "age": 18,
          "failures": 1,
          "goout": 3,
          "sex": "F",
          "studytime": 2
         },
         {
          "Dalc": 2,
          "G3": 15,
          "Walc": 4,
          "age": 16,
          "failures": 0,
          "goout": 2,
          "sex": "M",
          "studytime": 1
         },
         {
          "Dalc": 1,
          "G3": 19,
          "Walc": 1,
          "age": 18,
          "failures": 0,
          "goout": 4,
          "sex": "F",
          "studytime": 3
         },
         {
          "Dalc": 4,
          "G3": 9,
          "Walc": 5,
          "age": 20,
          "failures": 2,
          "goout": 4,
          "sex": "M",
          "studytime": 2
         },
         {
          "Dalc": 1,
          "G3": 11,
          "Walc": 2,
          "age": 19,
          "failures": 1,
          "goout": 2,
          "sex": "F",
          "studytime": 2
         },
         {
          "Dalc": 2,
          "G3": 10,
          "Walc": 4,
          "age": 15,
          "failures": 0,
          "goout": 4,
          "sex": "F",
          "studytime": 2
         },
         {
          "Dalc": 1,
          "G3": 14,
          "Walc": 1,
          "age": 18,
          "failures": 0,
          "goout": 2,
          "sex": "M",
          "studytime": 3
         },
         {
          "Dalc": 1,
          "G3": 6,
          "Walc": 4,
          "age": 17,
          "failures": 0,
          "goout": 4,
          "sex": "M",
          "studytime": 2
         },
         {
          "Dalc": 1,
          "G3": 14,
          "Walc": 2,
          "age": 18,
          "failures": 0,
          "goout": 4,
          "sex": "M",
          "studytime": 2
         },
         {
          "Dalc": 1,
          "G3": 10,
          "Walc": 3,
          "age": 18,
          "failures": 0,
          "goout": 5,
          "sex": "M",
          "studytime": 2
         },
         {
          "Dalc": 1,
          "G3": 12,
          "Walc": 1,
          "age": 18,
          "failures": 0,
          "goout": 2,
          "sex": "M",
          "studytime": 3
         },
         {
          "Dalc": 1,
          "G3": 11,
          "Walc": 4,
          "age": 18,
          "failures": 0,
          "goout": 2,
          "sex": "M",
          "studytime": 2
         },
         {
          "Dalc": 1,
          "G3": 0,
          "Walc": 2,
          "age": 19,
          "failures": 1,
          "goout": 2,
          "sex": "F",
          "studytime": 3
         },
         {
          "Dalc": 2,
          "G3": 0,
          "Walc": 2,
          "age": 17,
          "failures": 2,
          "goout": 2,
          "sex": "M",
          "studytime": 1
         },
         {
          "Dalc": 1,
          "G3": 11,
          "Walc": 3,
          "age": 17,
          "failures": 0,
          "goout": 5,
          "sex": "M",
          "studytime": 2
         },
         {
          "Dalc": 2,
          "G3": 12,
          "Walc": 4,
          "age": 15,
          "failures": 0,
          "goout": 3,
          "sex": "M",
          "studytime": 1
         },
         {
          "Dalc": 1,
          "G3": 12,
          "Walc": 1,
          "age": 18,
          "failures": 1,
          "goout": 3,
          "sex": "F",
          "studytime": 2
         },
         {
          "Dalc": 2,
          "G3": 0,
          "Walc": 2,
          "age": 19,
          "failures": 1,
          "goout": 4,
          "sex": "F",
          "studytime": 2
         },
         {
          "Dalc": 5,
          "G3": 12,
          "Walc": 5,
          "age": 15,
          "failures": 0,
          "goout": 3,
          "sex": "M",
          "studytime": 4
         },
         {
          "Dalc": 1,
          "G3": 15,
          "Walc": 3,
          "age": 17,
          "failures": 0,
          "goout": 4,
          "sex": "F",
          "studytime": 2
         },
         {
          "Dalc": 1,
          "G3": 19,
          "Walc": 1,
          "age": 15,
          "failures": 0,
          "goout": 2,
          "sex": "M",
          "studytime": 2
         },
         {
          "Dalc": 1,
          "G3": 5,
          "Walc": 2,
          "age": 16,
          "failures": 0,
          "goout": 3,
          "sex": "F",
          "studytime": 2
         },
         {
          "Dalc": 1,
          "G3": 16,
          "Walc": 1,
          "age": 16,
          "failures": 0,
          "goout": 3,
          "sex": "F",
          "studytime": 2
         },
         {
          "Dalc": 1,
          "G3": 8,
          "Walc": 1,
          "age": 18,
          "failures": 0,
          "goout": 2,
          "sex": "M",
          "studytime": 2
         },
         {
          "Dalc": 1,
          "G3": 8,
          "Walc": 1,
          "age": 16,
          "failures": 0,
          "goout": 4,
          "sex": "F",
          "studytime": 2
         },
         {
          "Dalc": 2,
          "G3": 0,
          "Walc": 1,
          "age": 16,
          "failures": 0,
          "goout": 2,
          "sex": "M",
          "studytime": 1
         },
         {
          "Dalc": 1,
          "G3": 8,
          "Walc": 3,
          "age": 16,
          "failures": 0,
          "goout": 3,
          "sex": "F",
          "studytime": 3
         },
         {
          "Dalc": 1,
          "G3": 13,
          "Walc": 4,
          "age": 18,
          "failures": 0,
          "goout": 4,
          "sex": "F",
          "studytime": 2
         },
         {
          "Dalc": 3,
          "G3": 17,
          "Walc": 4,
          "age": 18,
          "failures": 0,
          "goout": 5,
          "sex": "M",
          "studytime": 2
         },
         {
          "Dalc": 5,
          "G3": 11,
          "Walc": 5,
          "age": 16,
          "failures": 0,
          "goout": 5,
          "sex": "F",
          "studytime": 1
         },
         {
          "Dalc": 2,
          "G3": 11,
          "Walc": 2,
          "age": 18,
          "failures": 0,
          "goout": 4,
          "sex": "F",
          "studytime": 2
         },
         {
          "Dalc": 5,
          "G3": 13,
          "Walc": 5,
          "age": 18,
          "failures": 1,
          "goout": 5,
          "sex": "M",
          "studytime": 1
         },
         {
          "Dalc": 1,
          "G3": 20,
          "Walc": 1,
          "age": 16,
          "failures": 0,
          "goout": 2,
          "sex": "M",
          "studytime": 4
         },
         {
          "Dalc": 1,
          "G3": 10,
          "Walc": 1,
          "age": 16,
          "failures": 1,
          "goout": 2,
          "sex": "M",
          "studytime": 2
         },
         {
          "Dalc": 1,
          "G3": 19,
          "Walc": 1,
          "age": 15,
          "failures": 0,
          "goout": 2,
          "sex": "M",
          "studytime": 1
         },
         {
          "Dalc": 1,
          "G3": 12,
          "Walc": 3,
          "age": 16,
          "failures": 1,
          "goout": 4,
          "sex": "M",
          "studytime": 2
         },
         {
          "Dalc": 1,
          "G3": 14,
          "Walc": 2,
          "age": 16,
          "failures": 0,
          "goout": 3,
          "sex": "F",
          "studytime": 3
         },
         {
          "Dalc": 1,
          "G3": 10,
          "Walc": 3,
          "age": 17,
          "failures": 0,
          "goout": 4,
          "sex": "F",
          "studytime": 2
         },
         {
          "Dalc": 1,
          "G3": 16,
          "Walc": 1,
          "age": 18,
          "failures": 0,
          "goout": 2,
          "sex": "F",
          "studytime": 3
         },
         {
          "Dalc": 1,
          "G3": 15,
          "Walc": 2,
          "age": 15,
          "failures": 0,
          "goout": 4,
          "sex": "M",
          "studytime": 4
         },
         {
          "Dalc": 1,
          "G3": 11,
          "Walc": 1,
          "age": 16,
          "failures": 0,
          "goout": 3,
          "sex": "M",
          "studytime": 2
         },
         {
          "Dalc": 1,
          "G3": 0,
          "Walc": 1,
          "age": 15,
          "failures": 3,
          "goout": 2,
          "sex": "F",
          "studytime": 2
         },
         {
          "Dalc": 1,
          "G3": 13,
          "Walc": 1,
          "age": 16,
          "failures": 0,
          "goout": 2,
          "sex": "F",
          "studytime": 2
         },
         {
          "Dalc": 1,
          "G3": 16,
          "Walc": 1,
          "age": 15,
          "failures": 0,
          "goout": 2,
          "sex": "M",
          "studytime": 3
         },
         {
          "Dalc": 3,
          "G3": 7,
          "Walc": 5,
          "age": 16,
          "failures": 0,
          "goout": 3,
          "sex": "M",
          "studytime": 2
         },
         {
          "Dalc": 1,
          "G3": 9,
          "Walc": 1,
          "age": 18,
          "failures": 0,
          "goout": 1,
          "sex": "F",
          "studytime": 2
         },
         {
          "Dalc": 2,
          "G3": 14,
          "Walc": 2,
          "age": 17,
          "failures": 0,
          "goout": 2,
          "sex": "M",
          "studytime": 2
         },
         {
          "Dalc": 2,
          "G3": 13,
          "Walc": 4,
          "age": 16,
          "failures": 0,
          "goout": 4,
          "sex": "M",
          "studytime": 2
         },
         {
          "Dalc": 2,
          "G3": 12,
          "Walc": 4,
          "age": 17,
          "failures": 0,
          "goout": 2,
          "sex": "M",
          "studytime": 1
         },
         {
          "Dalc": 3,
          "G3": 9,
          "Walc": 3,
          "age": 19,
          "failures": 2,
          "goout": 5,
          "sex": "F",
          "studytime": 2
         },
         {
          "Dalc": 2,
          "G3": 10,
          "Walc": 5,
          "age": 17,
          "failures": 0,
          "goout": 4,
          "sex": "F",
          "studytime": 3
         },
         {
          "Dalc": 1,
          "G3": 18,
          "Walc": 1,
          "age": 16,
          "failures": 0,
          "goout": 3,
          "sex": "M",
          "studytime": 3
         },
         {
          "Dalc": 3,
          "G3": 13,
          "Walc": 3,
          "age": 17,
          "failures": 0,
          "goout": 2,
          "sex": "M",
          "studytime": 1
         },
         {
          "Dalc": 1,
          "G3": 11,
          "Walc": 2,
          "age": 15,
          "failures": 0,
          "goout": 2,
          "sex": "F",
          "studytime": 2
         },
         {
          "Dalc": 1,
          "G3": 8,
          "Walc": 3,
          "age": 15,
          "failures": 0,
          "goout": 3,
          "sex": "F",
          "studytime": 2
         },
         {
          "Dalc": 1,
          "G3": 15,
          "Walc": 1,
          "age": 15,
          "failures": 0,
          "goout": 2,
          "sex": "F",
          "studytime": 3
         },
         {
          "Dalc": 1,
          "G3": 15,
          "Walc": 1,
          "age": 15,
          "failures": 0,
          "goout": 2,
          "sex": "M",
          "studytime": 2
         },
         {
          "Dalc": 1,
          "G3": 11,
          "Walc": 1,
          "age": 19,
          "failures": 1,
          "goout": 2,
          "sex": "F",
          "studytime": 3
         },
         {
          "Dalc": 1,
          "G3": 0,
          "Walc": 1,
          "age": 18,
          "failures": 0,
          "goout": 4,
          "sex": "F",
          "studytime": 3
         },
         {
          "Dalc": 3,
          "G3": 10,
          "Walc": 4,
          "age": 15,
          "failures": 1,
          "goout": 5,
          "sex": "M",
          "studytime": 1
         },
         {
          "Dalc": 1,
          "G3": 6,
          "Walc": 1,
          "age": 17,
          "failures": 0,
          "goout": 3,
          "sex": "F",
          "studytime": 2
         },
         {
          "Dalc": 2,
          "G3": 5,
          "Walc": 4,
          "age": 17,
          "failures": 3,
          "goout": 5,
          "sex": "M",
          "studytime": 1
         },
         {
          "Dalc": 1,
          "G3": 10,
          "Walc": 2,
          "age": 18,
          "failures": 0,
          "goout": 3,
          "sex": "M",
          "studytime": 1
         },
         {
          "Dalc": 4,
          "G3": 11,
          "Walc": 2,
          "age": 18,
          "failures": 0,
          "goout": 2,
          "sex": "F",
          "studytime": 2
         },
         {
          "Dalc": 2,
          "G3": 15,
          "Walc": 3,
          "age": 17,
          "failures": 0,
          "goout": 3,
          "sex": "F",
          "studytime": 3
         },
         {
          "Dalc": 1,
          "G3": 11,
          "Walc": 2,
          "age": 15,
          "failures": 0,
          "goout": 2,
          "sex": "M",
          "studytime": 1
         },
         {
          "Dalc": 1,
          "G3": 9,
          "Walc": 1,
          "age": 17,
          "failures": 0,
          "goout": 3,
          "sex": "F",
          "studytime": 2
         },
         {
          "Dalc": 1,
          "G3": 14,
          "Walc": 1,
          "age": 16,
          "failures": 0,
          "goout": 3,
          "sex": "M",
          "studytime": 1
         },
         {
          "Dalc": 2,
          "G3": 9,
          "Walc": 2,
          "age": 16,
          "failures": 1,
          "goout": 3,
          "sex": "F",
          "studytime": 2
         },
         {
          "Dalc": 1,
          "G3": 0,
          "Walc": 1,
          "age": 15,
          "failures": 0,
          "goout": 3,
          "sex": "M",
          "studytime": 2
         },
         {
          "Dalc": 1,
          "G3": 8,
          "Walc": 2,
          "age": 17,
          "failures": 1,
          "goout": 4,
          "sex": "M",
          "studytime": 1
         },
         {
          "Dalc": 3,
          "G3": 10,
          "Walc": 4,
          "age": 17,
          "failures": 0,
          "goout": 4,
          "sex": "M",
          "studytime": 2
         },
         {
          "Dalc": 3,
          "G3": 10,
          "Walc": 4,
          "age": 17,
          "failures": 1,
          "goout": 4,
          "sex": "M",
          "studytime": 1
         },
         {
          "Dalc": 2,
          "G3": 12,
          "Walc": 3,
          "age": 18,
          "failures": 0,
          "goout": 3,
          "sex": "M",
          "studytime": 1
         },
         {
          "Dalc": 1,
          "G3": 7,
          "Walc": 4,
          "age": 15,
          "failures": 2,
          "goout": 4,
          "sex": "M",
          "studytime": 2
         },
         {
          "Dalc": 1,
          "G3": 10,
          "Walc": 1,
          "age": 15,
          "failures": 0,
          "goout": 3,
          "sex": "M",
          "studytime": 4
         },
         {
          "Dalc": 1,
          "G3": 10,
          "Walc": 2,
          "age": 18,
          "failures": 0,
          "goout": 2,
          "sex": "M",
          "studytime": 1
         },
         {
          "Dalc": 1,
          "G3": 12,
          "Walc": 1,
          "age": 16,
          "failures": 1,
          "goout": 2,
          "sex": "M",
          "studytime": 1
         },
         {
          "Dalc": 1,
          "G3": 5,
          "Walc": 3,
          "age": 17,
          "failures": 0,
          "goout": 5,
          "sex": "F",
          "studytime": 1
         },
         {
          "Dalc": 1,
          "G3": 12,
          "Walc": 1,
          "age": 18,
          "failures": 0,
          "goout": 2,
          "sex": "F",
          "studytime": 4
         },
         {
          "Dalc": 1,
          "G3": 0,
          "Walc": 1,
          "age": 19,
          "failures": 3,
          "goout": 4,
          "sex": "M",
          "studytime": 1
         },
         {
          "Dalc": 1,
          "G3": 10,
          "Walc": 2,
          "age": 17,
          "failures": 0,
          "goout": 1,
          "sex": "F",
          "studytime": 1
         },
         {
          "Dalc": 1,
          "G3": 15,
          "Walc": 1,
          "age": 18,
          "failures": 0,
          "goout": 3,
          "sex": "M",
          "studytime": 2
         },
         {
          "Dalc": 3,
          "G3": 16,
          "Walc": 5,
          "age": 17,
          "failures": 0,
          "goout": 5,
          "sex": "M",
          "studytime": 1
         },
         {
          "Dalc": 1,
          "G3": 10,
          "Walc": 2,
          "age": 18,
          "failures": 0,
          "goout": 3,
          "sex": "F",
          "studytime": 3
         },
         {
          "Dalc": 1,
          "G3": 15,
          "Walc": 2,
          "age": 16,
          "failures": 0,
          "goout": 3,
          "sex": "F",
          "studytime": 2
         },
         {
          "Dalc": 1,
          "G3": 17,
          "Walc": 1,
          "age": 18,
          "failures": 0,
          "goout": 3,
          "sex": "F",
          "studytime": 4
         },
         {
          "Dalc": 1,
          "G3": 8,
          "Walc": 1,
          "age": 18,
          "failures": 0,
          "goout": 4,
          "sex": "F",
          "studytime": 2
         },
         {
          "Dalc": 1,
          "G3": 11,
          "Walc": 4,
          "age": 16,
          "failures": 0,
          "goout": 4,
          "sex": "F",
          "studytime": 2
         },
         {
          "Dalc": 1,
          "G3": 10,
          "Walc": 1,
          "age": 17,
          "failures": 3,
          "goout": 1,
          "sex": "M",
          "studytime": 1
         },
         {
          "Dalc": 2,
          "G3": 10,
          "Walc": 2,
          "age": 17,
          "failures": 0,
          "goout": 1,
          "sex": "M",
          "studytime": 1
         },
         {
          "Dalc": 1,
          "G3": 13,
          "Walc": 4,
          "age": 16,
          "failures": 0,
          "goout": 4,
          "sex": "M",
          "studytime": 1
         },
         {
          "Dalc": 5,
          "G3": 13,
          "Walc": 5,
          "age": 18,
          "failures": 0,
          "goout": 3,
          "sex": "M",
          "studytime": 2
         },
         {
          "Dalc": 1,
          "G3": 9,
          "Walc": 3,
          "age": 17,
          "failures": 0,
          "goout": 3,
          "sex": "F",
          "studytime": 2
         },
         {
          "Dalc": 1,
          "G3": 6,
          "Walc": 1,
          "age": 15,
          "failures": 0,
          "goout": 5,
          "sex": "F",
          "studytime": 2
         },
         {
          "Dalc": 1,
          "G3": 0,
          "Walc": 1,
          "age": 15,
          "failures": 0,
          "goout": 2,
          "sex": "M",
          "studytime": 4
         },
         {
          "Dalc": 1,
          "G3": 12,
          "Walc": 2,
          "age": 16,
          "failures": 0,
          "goout": 2,
          "sex": "F",
          "studytime": 2
         },
         {
          "Dalc": 1,
          "G3": 14,
          "Walc": 4,
          "age": 18,
          "failures": 0,
          "goout": 4,
          "sex": "M",
          "studytime": 2
         },
         {
          "Dalc": 1,
          "G3": 6,
          "Walc": 2,
          "age": 16,
          "failures": 0,
          "goout": 4,
          "sex": "F",
          "studytime": 2
         },
         {
          "Dalc": 3,
          "G3": 10,
          "Walc": 4,
          "age": 18,
          "failures": 0,
          "goout": 1,
          "sex": "M",
          "studytime": 1
         },
         {
          "Dalc": 1,
          "G3": 11,
          "Walc": 2,
          "age": 16,
          "failures": 1,
          "goout": 3,
          "sex": "F",
          "studytime": 2
         },
         {
          "Dalc": 3,
          "G3": 8,
          "Walc": 3,
          "age": 19,
          "failures": 1,
          "goout": 4,
          "sex": "M",
          "studytime": 1
         },
         {
          "Dalc": 2,
          "G3": 10,
          "Walc": 3,
          "age": 15,
          "failures": 3,
          "goout": 2,
          "sex": "F",
          "studytime": 2
         },
         {
          "Dalc": 2,
          "G3": 11,
          "Walc": 2,
          "age": 17,
          "failures": 0,
          "goout": 2,
          "sex": "F",
          "studytime": 3
         },
         {
          "Dalc": 1,
          "G3": 0,
          "Walc": 2,
          "age": 18,
          "failures": 0,
          "goout": 3,
          "sex": "F",
          "studytime": 2
         },
         {
          "Dalc": 2,
          "G3": 16,
          "Walc": 3,
          "age": 15,
          "failures": 0,
          "goout": 2,
          "sex": "F",
          "studytime": 4
         },
         {
          "Dalc": 1,
          "G3": 8,
          "Walc": 4,
          "age": 17,
          "failures": 0,
          "goout": 3,
          "sex": "F",
          "studytime": 1
         },
         {
          "Dalc": 1,
          "G3": 0,
          "Walc": 3,
          "age": 19,
          "failures": 1,
          "goout": 2,
          "sex": "M",
          "studytime": 1
         },
         {
          "Dalc": 1,
          "G3": 0,
          "Walc": 1,
          "age": 18,
          "failures": 0,
          "goout": 3,
          "sex": "F",
          "studytime": 3
         },
         {
          "Dalc": 2,
          "G3": 9,
          "Walc": 3,
          "age": 18,
          "failures": 0,
          "goout": 5,
          "sex": "M",
          "studytime": 3
         },
         {
          "Dalc": 2,
          "G3": 8,
          "Walc": 3,
          "age": 18,
          "failures": 1,
          "goout": 3,
          "sex": "M",
          "studytime": 1
         },
         {
          "Dalc": 1,
          "G3": 14,
          "Walc": 1,
          "age": 15,
          "failures": 0,
          "goout": 3,
          "sex": "M",
          "studytime": 2
         },
         {
          "Dalc": 1,
          "G3": 10,
          "Walc": 3,
          "age": 16,
          "failures": 0,
          "goout": 3,
          "sex": "M",
          "studytime": 3
         },
         {
          "Dalc": 1,
          "G3": 12,
          "Walc": 1,
          "age": 15,
          "failures": 0,
          "goout": 2,
          "sex": "M",
          "studytime": 2
         },
         {
          "Dalc": 2,
          "G3": 11,
          "Walc": 4,
          "age": 16,
          "failures": 0,
          "goout": 3,
          "sex": "F",
          "studytime": 2
         },
         {
          "Dalc": 2,
          "G3": 14,
          "Walc": 2,
          "age": 15,
          "failures": 0,
          "goout": 3,
          "sex": "M",
          "studytime": 2
         },
         {
          "Dalc": 1,
          "G3": 0,
          "Walc": 2,
          "age": 15,
          "failures": 0,
          "goout": 3,
          "sex": "F",
          "studytime": 1
         },
         {
          "Dalc": 1,
          "G3": 8,
          "Walc": 4,
          "age": 17,
          "failures": 1,
          "goout": 4,
          "sex": "M",
          "studytime": 2
         },
         {
          "Dalc": 5,
          "G3": 5,
          "Walc": 5,
          "age": 16,
          "failures": 0,
          "goout": 5,
          "sex": "M",
          "studytime": 1
         },
         {
          "Dalc": 5,
          "G3": 13,
          "Walc": 5,
          "age": 17,
          "failures": 0,
          "goout": 2,
          "sex": "M",
          "studytime": 2
         },
         {
          "Dalc": 1,
          "G3": 14,
          "Walc": 1,
          "age": 16,
          "failures": 0,
          "goout": 2,
          "sex": "F",
          "studytime": 3
         },
         {
          "Dalc": 1,
          "G3": 9,
          "Walc": 1,
          "age": 15,
          "failures": 0,
          "goout": 2,
          "sex": "M",
          "studytime": 2
         },
         {
          "Dalc": 1,
          "G3": 0,
          "Walc": 2,
          "age": 18,
          "failures": 2,
          "goout": 3,
          "sex": "M",
          "studytime": 1
         },
         {
          "Dalc": 1,
          "G3": 19,
          "Walc": 1,
          "age": 15,
          "failures": 0,
          "goout": 3,
          "sex": "M",
          "studytime": 1
         },
         {
          "Dalc": 2,
          "G3": 8,
          "Walc": 3,
          "age": 15,
          "failures": 2,
          "goout": 4,
          "sex": "F",
          "studytime": 2
         },
         {
          "Dalc": 1,
          "G3": 10,
          "Walc": 1,
          "age": 16,
          "failures": 0,
          "goout": 2,
          "sex": "F",
          "studytime": 2
         },
         {
          "Dalc": 2,
          "G3": 12,
          "Walc": 3,
          "age": 17,
          "failures": 0,
          "goout": 3,
          "sex": "M",
          "studytime": 2
         },
         {
          "Dalc": 1,
          "G3": 14,
          "Walc": 1,
          "age": 15,
          "failures": 0,
          "goout": 3,
          "sex": "M",
          "studytime": 1
         },
         {
          "Dalc": 1,
          "G3": 15,
          "Walc": 3,
          "age": 17,
          "failures": 0,
          "goout": 5,
          "sex": "F",
          "studytime": 3
         },
         {
          "Dalc": 1,
          "G3": 15,
          "Walc": 2,
          "age": 18,
          "failures": 0,
          "goout": 3,
          "sex": "F",
          "studytime": 2
         }
        ]
       },
       "encoding": {
        "tooltip": [
         {
          "field": "G3",
          "type": "quantitative"
         }
        ],
        "x": {
         "bin": true,
         "field": "G3",
         "title": "Final Grades (G3)",
         "type": "quantitative"
        },
        "y": {
         "aggregate": "count",
         "title": "Number of Students",
         "type": "quantitative"
        }
       },
       "height": 200,
       "mark": {
        "type": "bar"
       },
       "title": "Distribution of Final Grades (G3)",
       "width": 400
      },
      "image/png": "[encoded data removed]",
      "text/plain": [
       "<VegaLite 5 object>\n",
       "\n",
       "If you see this message, it means the renderer has not been properly enabled\n",
       "for the frontend that you are using. For more information, see\n",
       "https://altair-viz.github.io/user_guide/display_frontends.html#troubleshooting\n"
      ]
     },
     "execution_count": 16,
     "metadata": {},
     "output_type": "execute_result"
    }
   ],
   "source": [
    "# Visualization of grade distributions\n",
    "eda_plot1 = alt.Chart(train_df).mark_bar().encode(\n",
    "    x=alt.X('G3:Q', bin=True, title='Final Grades (G3)'),\n",
    "    y=alt.Y('count()', title='Number of Students'),\n",
    "    tooltip=['G3']\n",
    ").properties(\n",
    "    title='Distribution of Final Grades (G3)',\n",
    "    width=400,\n",
    "    height=200\n",
    ")\n",
    "eda_plot1 "
   ]
  },
  {
   "cell_type": "markdown",
   "id": "ab63863a-5bfe-4fd9-9166-e24700a2ec05",
   "metadata": {},
   "source": [
    "**Figure 4: Distribution of Final Grades (G3)**\n"
   ]
  },
  {
   "cell_type": "markdown",
   "id": "91fac25b-7d8e-4428-9b88-4c4013e372bc",
   "metadata": {},
   "source": [
    "The histogram shows that most students achieve grades between 8 and 15, with fewer students scoring very low or very high.\n"
   ]
  },
  {
   "cell_type": "code",
   "execution_count": 17,
   "id": "ff3b30a5-1c85-4250-a2f1-614acea1baa9",
   "metadata": {},
   "outputs": [
    {
     "data": {
      "image/png": "[encoded data removed]",
      "text/plain": [
       "<Figure size 800x800 with 9 Axes>"
      ]
     },
     "metadata": {},
     "output_type": "display_data"
    }
   ],
   "source": [
    "# ally.dist(train_df).properties(title=\"Density Plot for all numeric columns\")\n",
    "fig, axes = plt.subplots(3, 3, figsize=(8, 8), sharey=False, sharex=False)\n",
    "axes = axes.flatten()\n",
    "numeric_columns = train_df.select_dtypes(include='number').columns\n",
    "for i, column in enumerate(numeric_columns):\n",
    "    dp = sns.kdeplot(data=train_df, x=column, fill=True, ax=axes[i])\n",
    "plt.tight_layout()"
   ]
  },
  {
   "cell_type": "markdown",
   "id": "7b8c4a70-aba1-4a7b-8098-71fb1c3fb52b",
   "metadata": {},
   "source": [
    "**Figure 5: Density plot for each numeric columns (including the target `G3`)**\n",
    "\n",
    "Some interesting observations:\n",
    "\n",
    "- The distirbution of the grades `G3`, `G2`, `G1` are somewhat bell-shaped.\n",
    "- Most student do not consume alcohol, or very minimally.\n",
    "- Most student studies around 2-5 hours a week and most of them also did not fail any previous classes.\n"
   ]
  },
  {
   "cell_type": "code",
   "execution_count": 18,
   "id": "52c1926c-e833-42fe-b58c-86273b05592b",
   "metadata": {},
   "outputs": [
    {
     "data": {
      "application/vnd.vegalite.v5+json": {
       "$schema": "https://vega.github.io/schema/vega-lite/v5.20.1.json",
       "config": {
        "view": {
         "continuousHeight": 300,
         "continuousWidth": 300
        }
       },
       "data": {
        "name": "data-5284d7159b82fbd52b334810fa9bb052"
       },
       "datasets": {
        "data-5284d7159b82fbd52b334810fa9bb052": [
         {
          "abs_corr": 1,
          "correlation": 1,
          "var1": "age",
          "var2": "age"
         },
         {
          "abs_corr": 0.08399199069892753,
          "correlation": 0.08399199069892753,
          "var1": "Dalc",
          "var2": "age"
         },
         {
          "abs_corr": 0.059948866419921865,
          "correlation": 0.059948866419921865,
          "var1": "Walc",
          "var2": "age"
         },
         {
          "abs_corr": 0.14046326880825355,
          "correlation": -0.14046326880825355,
          "var1": "G3",
          "var2": "age"
         },
         {
          "abs_corr": 0.033763220197970296,
          "correlation": -0.033763220197970296,
          "var1": "age",
          "var2": "studytime"
         },
         {
          "abs_corr": 1,
          "correlation": 1,
          "var1": "studytime",
          "var2": "studytime"
         },
         {
          "abs_corr": 0.16091654651734044,
          "correlation": -0.16091654651734044,
          "var1": "failures",
          "var2": "studytime"
         },
         {
          "abs_corr": 0.032435245993652495,
          "correlation": -0.032435245993652495,
          "var1": "goout",
          "var2": "studytime"
         },
         {
          "abs_corr": 0.1724787844904289,
          "correlation": -0.1724787844904289,
          "var1": "Dalc",
          "var2": "studytime"
         },
         {
          "abs_corr": 0.23076336926534613,
          "correlation": -0.23076336926534613,
          "var1": "Walc",
          "var2": "studytime"
         },
         {
          "abs_corr": 0.13267546567895344,
          "correlation": 0.13267546567895344,
          "var1": "G3",
          "var2": "studytime"
         },
         {
          "abs_corr": 0.19802509137736035,
          "correlation": 0.19802509137736035,
          "var1": "age",
          "var2": "failures"
         },
         {
          "abs_corr": 1,
          "correlation": 1,
          "var1": "failures",
          "var2": "failures"
         },
         {
          "abs_corr": 0.0745441768509203,
          "correlation": 0.0745441768509203,
          "var1": "Dalc",
          "var2": "failures"
         },
         {
          "abs_corr": 0.06461113563357651,
          "correlation": 0.06461113563357651,
          "var1": "Walc",
          "var2": "failures"
         },
         {
          "abs_corr": 0.38072265199660155,
          "correlation": -0.38072265199660155,
          "var1": "G3",
          "var2": "failures"
         },
         {
          "abs_corr": 0.05882907655284871,
          "correlation": 0.05882907655284871,
          "var1": "age",
          "var2": "goout"
         },
         {
          "abs_corr": 0.05001363351118645,
          "correlation": 0.05001363351118645,
          "var1": "failures",
          "var2": "goout"
         },
         {
          "abs_corr": 1,
          "correlation": 1,
          "var1": "goout",
          "var2": "goout"
         },
         {
          "abs_corr": 0.2639591582293192,
          "correlation": 0.2639591582293192,
          "var1": "Dalc",
          "var2": "goout"
         },
         {
          "abs_corr": 0.39643233641252773,
          "correlation": 0.39643233641252773,
          "var1": "Walc",
          "var2": "goout"
         },
         {
          "abs_corr": 0.1414923623099018,
          "correlation": -0.1414923623099018,
          "var1": "G3",
          "var2": "goout"
         },
         {
          "abs_corr": 1,
          "correlation": 1,
          "var1": "Dalc",
          "var2": "Dalc"
         },
         {
          "abs_corr": 0.664181046484551,
          "correlation": 0.664181046484551,
          "var1": "Dalc",
          "var2": "Walc"
         },
         {
          "abs_corr": 1,
          "correlation": 1,
          "var1": "Walc",
          "var2": "Walc"
         },
         {
          "abs_corr": 0.04761742480518162,
          "correlation": -0.04761742480518162,
          "var1": "G3",
          "var2": "Walc"
         },
         {
          "abs_corr": 0.031471390217849955,
          "correlation": -0.031471390217849955,
          "var1": "Dalc",
          "var2": "G3"
         },
         {
          "abs_corr": 1,
          "correlation": 1,
          "var1": "G3",
          "var2": "G3"
         }
        ]
       },
       "encoding": {
        "color": {
         "field": "correlation",
         "scale": {
          "domain": [
           -1,
           1
          ],
          "scheme": "blueorange"
         },
         "type": "quantitative"
        },
        "size": {
         "field": "abs_corr",
         "legend": null,
         "type": "quantitative"
        },
        "x": {
         "field": "var1",
         "title": "variable 1",
         "type": "nominal"
        },
        "y": {
         "field": "var2",
         "title": "variable 2",
         "type": "nominal"
        }
       },
       "height": 250,
       "mark": {
        "type": "circle"
       },
       "title": "Pairwise correlations between variables (including target)",
       "width": 250
      },
      "image/png": "[encoded data removed]",
      "text/plain": [
       "<VegaLite 5 object>\n",
       "\n",
       "If you see this message, it means the renderer has not been properly enabled\n",
       "for the frontend that you are using. For more information, see\n",
       "https://altair-viz.github.io/user_guide/display_frontends.html#troubleshooting\n"
      ]
     },
     "execution_count": 18,
     "metadata": {},
     "output_type": "execute_result"
    }
   ],
   "source": [
    "# ally.corr(train_df).properties(title=\"Correlation matrices for each numeric column pair\")\n",
    "corr_mat = train_df.select_dtypes(include='number').corr() \\\n",
    "    .reset_index(names=\"var1\") \\\n",
    "    .melt(id_vars=\"var1\", var_name=\"var2\", value_name=\"correlation\")\n",
    "# get rid of \"duplicated\" correlation\n",
    "corr_mat = corr_mat[corr_mat['var1'] <= corr_mat['var2']].reset_index(drop=True)\n",
    "corr_mat[\"abs_corr\"] = np.abs(corr_mat[\"correlation\"])\n",
    "alt.Chart(corr_mat).mark_circle().encode(\n",
    "    alt.X(\"var1\").title(\"variable 1\"),\n",
    "    alt.Y(\"var2\").title(\"variable 2\"),\n",
    "    alt.Color(\"correlation\").scale(domain=[-1, 1], scheme=\"blueorange\"),\n",
    "    alt.Size(\"abs_corr\").legend(None)\n",
    ").properties(\n",
    "    width=250,\n",
    "    height=250,\n",
    "    title=\"Pairwise correlations between variables (including target)\"\n",
    ")"
   ]
  },
  {
   "cell_type": "markdown",
   "id": "4a4855d8-41a1-4241-84ed-bb7d7361c91f",
   "metadata": {},
   "source": [
    "**Figure 6: Correlation matrices for each numeric columns (including target `G3`)**\n",
    "\n",
    "Some interesting observations:\n",
    "\n",
    "- The grades are very correlated with one another\n",
    "- Alcohol consumptions are somewhat negatively correlated with grades\n",
    "- Study time are somewhat positively correlated with grades/\n"
   ]
  },
  {
   "cell_type": "markdown",
   "id": "8cb9f11c-df6c-4d0d-9896-1250cb59ff99",
   "metadata": {},
   "source": [
    "### Analysis\n"
   ]
  },
  {
   "cell_type": "code",
   "execution_count": 19,
   "id": "5c734ea1-62f2-4b00-9ef4-cd7c0b716b5e",
   "metadata": {},
   "outputs": [],
   "source": [
    "# Split features and target\n",
    "X_train, y_train = (\n",
    "    train_df.drop(columns=['G3']),\n",
    "    train_df['G3']\n",
    ")\n",
    "X_test, y_test = (\n",
    "    test_df.drop(columns=['G3']),\n",
    "    test_df['G3']\n",
    ")"
   ]
  },
  {
   "cell_type": "code",
   "execution_count": 20,
   "id": "dac23a60-0805-4d1b-ba6b-9bfc9da27210",
   "metadata": {},
   "outputs": [
    {
     "name": "stdout",
     "output_type": "stream",
     "text": [
      "<class 'pandas.core.frame.DataFrame'>\n",
      "Index: 305 entries, 6 to 378\n",
      "Data columns (total 7 columns):\n",
      " #   Column     Non-Null Count  Dtype \n",
      "---  ------     --------------  ----- \n",
      " 0   sex        305 non-null    object\n",
      " 1   age        305 non-null    int64 \n",
      " 2   studytime  305 non-null    int64 \n",
      " 3   failures   305 non-null    int64 \n",
      " 4   goout      305 non-null    int64 \n",
      " 5   Dalc       305 non-null    int64 \n",
      " 6   Walc       305 non-null    int64 \n",
      "dtypes: int64(6), object(1)\n",
      "memory usage: 19.1+ KB\n"
     ]
    }
   ],
   "source": [
    "X_train.info()"
   ]
  },
  {
   "cell_type": "markdown",
   "id": "c5b98bfc-eef5-4a30-8ad2-20f37c133278",
   "metadata": {},
   "source": [
    "### Baseline Model"
   ]
  },
  {
   "cell_type": "code",
   "execution_count": 21,
   "id": "0153743f-1b2a-45ef-a0a6-722fca82f4d6",
   "metadata": {},
   "outputs": [
    {
     "data": {
      "text/html": [
       "<div>\n",
       "<style scoped>\n",
       "    .dataframe tbody tr th:only-of-type {\n",
       "        vertical-align: middle;\n",
       "    }\n",
       "\n",
       "    .dataframe tbody tr th {\n",
       "        vertical-align: top;\n",
       "    }\n",
       "\n",
       "    .dataframe thead th {\n",
       "        text-align: right;\n",
       "    }\n",
       "</style>\n",
       "<table border=\"1\" class=\"dataframe\">\n",
       "  <thead>\n",
       "    <tr style=\"text-align: right;\">\n",
       "      <th></th>\n",
       "      <th>mean</th>\n",
       "    </tr>\n",
       "  </thead>\n",
       "  <tbody>\n",
       "    <tr>\n",
       "      <th>fit_time</th>\n",
       "      <td>0.001056</td>\n",
       "    </tr>\n",
       "    <tr>\n",
       "      <th>score_time</th>\n",
       "      <td>0.000472</td>\n",
       "    </tr>\n",
       "    <tr>\n",
       "      <th>test_score</th>\n",
       "      <td>-0.027040</td>\n",
       "    </tr>\n",
       "    <tr>\n",
       "      <th>train_score</th>\n",
       "      <td>0.000000</td>\n",
       "    </tr>\n",
       "  </tbody>\n",
       "</table>\n",
       "</div>"
      ],
      "text/plain": [
       "                 mean\n",
       "fit_time     0.001056\n",
       "score_time   0.000472\n",
       "test_score  -0.027040\n",
       "train_score  0.000000"
      ]
     },
     "execution_count": 21,
     "metadata": {},
     "output_type": "execute_result"
    }
   ],
   "source": [
    "dr = DummyRegressor()\n",
    "\n",
    "dummy_cv = cross_validate(dr, X_train, y_train, return_train_score=True)\n",
    "pd.DataFrame(dummy_cv).agg(['mean']).T"
   ]
  },
  {
   "cell_type": "markdown",
   "id": "a153adf7-17e4-41a5-97c5-2db70a67fcc5",
   "metadata": {},
   "source": [
    "### Define categorical and numerical columns"
   ]
  },
  {
   "cell_type": "code",
   "execution_count": 22,
   "id": "64f47a93-3fd4-4ac4-a9af-b736e1539478",
   "metadata": {},
   "outputs": [],
   "source": [
    "categorical_feats = X_train.select_dtypes(include=['object']).columns\n",
    "numeric_feats = X_train.select_dtypes(include=['int64']).columns"
   ]
  },
  {
   "cell_type": "code",
   "execution_count": 23,
   "id": "534ccf77",
   "metadata": {},
   "outputs": [],
   "source": [
    "# Apply column transformers\n",
    "preprocessor = make_column_transformer(    \n",
    "    (StandardScaler(), numeric_feats),  # scaling on numeric features \n",
    "    (OneHotEncoder(drop=\"if_binary\"), categorical_feats),  # OHE on categorical features\n",
    ")\n",
    "\n",
    "#  Make pipeline\n",
    "pipe_lr = make_pipeline(preprocessor, Ridge())"
   ]
  },
  {
   "cell_type": "code",
   "execution_count": 24,
   "id": "705bb291",
   "metadata": {},
   "outputs": [
    {
     "data": {
      "text/html": [
       "<style>#sk-container-id-1 {\n",
       "  /* Definition of color scheme common for light and dark mode */\n",
       "  --sklearn-color-text: black;\n",
       "  --sklearn-color-line: gray;\n",
       "  /* Definition of color scheme for unfitted estimators */\n",
       "  --sklearn-color-unfitted-level-0: #fff5e6;\n",
       "  --sklearn-color-unfitted-level-1: #f6e4d2;\n",
       "  --sklearn-color-unfitted-level-2: #ffe0b3;\n",
       "  --sklearn-color-unfitted-level-3: chocolate;\n",
       "  /* Definition of color scheme for fitted estimators */\n",
       "  --sklearn-color-fitted-level-0: #f0f8ff;\n",
       "  --sklearn-color-fitted-level-1: #d4ebff;\n",
       "  --sklearn-color-fitted-level-2: #b3dbfd;\n",
       "  --sklearn-color-fitted-level-3: cornflowerblue;\n",
       "\n",
       "  /* Specific color for light theme */\n",
       "  --sklearn-color-text-on-default-background: var(--sg-text-color, var(--theme-code-foreground, var(--jp-content-font-color1, black)));\n",
       "  --sklearn-color-background: var(--sg-background-color, var(--theme-background, var(--jp-layout-color0, white)));\n",
       "  --sklearn-color-border-box: var(--sg-text-color, var(--theme-code-foreground, var(--jp-content-font-color1, black)));\n",
       "  --sklearn-color-icon: #696969;\n",
       "\n",
       "  @media (prefers-color-scheme: dark) {\n",
       "    /* Redefinition of color scheme for dark theme */\n",
       "    --sklearn-color-text-on-default-background: var(--sg-text-color, var(--theme-code-foreground, var(--jp-content-font-color1, white)));\n",
       "    --sklearn-color-background: var(--sg-background-color, var(--theme-background, var(--jp-layout-color0, #111)));\n",
       "    --sklearn-color-border-box: var(--sg-text-color, var(--theme-code-foreground, var(--jp-content-font-color1, white)));\n",
       "    --sklearn-color-icon: #878787;\n",
       "  }\n",
       "}\n",
       "\n",
       "#sk-container-id-1 {\n",
       "  color: var(--sklearn-color-text);\n",
       "}\n",
       "\n",
       "#sk-container-id-1 pre {\n",
       "  padding: 0;\n",
       "}\n",
       "\n",
       "#sk-container-id-1 input.sk-hidden--visually {\n",
       "  border: 0;\n",
       "  clip: rect(1px 1px 1px 1px);\n",
       "  clip: rect(1px, 1px, 1px, 1px);\n",
       "  height: 1px;\n",
       "  margin: -1px;\n",
       "  overflow: hidden;\n",
       "  padding: 0;\n",
       "  position: absolute;\n",
       "  width: 1px;\n",
       "}\n",
       "\n",
       "#sk-container-id-1 div.sk-dashed-wrapped {\n",
       "  border: 1px dashed var(--sklearn-color-line);\n",
       "  margin: 0 0.4em 0.5em 0.4em;\n",
       "  box-sizing: border-box;\n",
       "  padding-bottom: 0.4em;\n",
       "  background-color: var(--sklearn-color-background);\n",
       "}\n",
       "\n",
       "#sk-container-id-1 div.sk-container {\n",
       "  /* jupyter's `normalize.less` sets `[hidden] { display: none; }`\n",
       "     but bootstrap.min.css set `[hidden] { display: none !important; }`\n",
       "     so we also need the `!important` here to be able to override the\n",
       "     default hidden behavior on the sphinx rendered scikit-learn.org.\n",
       "     See: https://github.com/scikit-learn/scikit-learn/issues/21755 */\n",
       "  display: inline-block !important;\n",
       "  position: relative;\n",
       "}\n",
       "\n",
       "#sk-container-id-1 div.sk-text-repr-fallback {\n",
       "  display: none;\n",
       "}\n",
       "\n",
       "div.sk-parallel-item,\n",
       "div.sk-serial,\n",
       "div.sk-item {\n",
       "  /* draw centered vertical line to link estimators */\n",
       "  background-image: linear-gradient(var(--sklearn-color-text-on-default-background), var(--sklearn-color-text-on-default-background));\n",
       "  background-size: 2px 100%;\n",
       "  background-repeat: no-repeat;\n",
       "  background-position: center center;\n",
       "}\n",
       "\n",
       "/* Parallel-specific style estimator block */\n",
       "\n",
       "#sk-container-id-1 div.sk-parallel-item::after {\n",
       "  content: \"\";\n",
       "  width: 100%;\n",
       "  border-bottom: 2px solid var(--sklearn-color-text-on-default-background);\n",
       "  flex-grow: 1;\n",
       "}\n",
       "\n",
       "#sk-container-id-1 div.sk-parallel {\n",
       "  display: flex;\n",
       "  align-items: stretch;\n",
       "  justify-content: center;\n",
       "  background-color: var(--sklearn-color-background);\n",
       "  position: relative;\n",
       "}\n",
       "\n",
       "#sk-container-id-1 div.sk-parallel-item {\n",
       "  display: flex;\n",
       "  flex-direction: column;\n",
       "}\n",
       "\n",
       "#sk-container-id-1 div.sk-parallel-item:first-child::after {\n",
       "  align-self: flex-end;\n",
       "  width: 50%;\n",
       "}\n",
       "\n",
       "#sk-container-id-1 div.sk-parallel-item:last-child::after {\n",
       "  align-self: flex-start;\n",
       "  width: 50%;\n",
       "}\n",
       "\n",
       "#sk-container-id-1 div.sk-parallel-item:only-child::after {\n",
       "  width: 0;\n",
       "}\n",
       "\n",
       "/* Serial-specific style estimator block */\n",
       "\n",
       "#sk-container-id-1 div.sk-serial {\n",
       "  display: flex;\n",
       "  flex-direction: column;\n",
       "  align-items: center;\n",
       "  background-color: var(--sklearn-color-background);\n",
       "  padding-right: 1em;\n",
       "  padding-left: 1em;\n",
       "}\n",
       "\n",
       "\n",
       "/* Toggleable style: style used for estimator/Pipeline/ColumnTransformer box that is\n",
       "clickable and can be expanded/collapsed.\n",
       "- Pipeline and ColumnTransformer use this feature and define the default style\n",
       "- Estimators will overwrite some part of the style using the `sk-estimator` class\n",
       "*/\n",
       "\n",
       "/* Pipeline and ColumnTransformer style (default) */\n",
       "\n",
       "#sk-container-id-1 div.sk-toggleable {\n",
       "  /* Default theme specific background. It is overwritten whether we have a\n",
       "  specific estimator or a Pipeline/ColumnTransformer */\n",
       "  background-color: var(--sklearn-color-background);\n",
       "}\n",
       "\n",
       "/* Toggleable label */\n",
       "#sk-container-id-1 label.sk-toggleable__label {\n",
       "  cursor: pointer;\n",
       "  display: block;\n",
       "  width: 100%;\n",
       "  margin-bottom: 0;\n",
       "  padding: 0.5em;\n",
       "  box-sizing: border-box;\n",
       "  text-align: center;\n",
       "}\n",
       "\n",
       "#sk-container-id-1 label.sk-toggleable__label-arrow:before {\n",
       "  /* Arrow on the left of the label */\n",
       "  content: \"▸\";\n",
       "  float: left;\n",
       "  margin-right: 0.25em;\n",
       "  color: var(--sklearn-color-icon);\n",
       "}\n",
       "\n",
       "#sk-container-id-1 label.sk-toggleable__label-arrow:hover:before {\n",
       "  color: var(--sklearn-color-text);\n",
       "}\n",
       "\n",
       "/* Toggleable content - dropdown */\n",
       "\n",
       "#sk-container-id-1 div.sk-toggleable__content {\n",
       "  max-height: 0;\n",
       "  max-width: 0;\n",
       "  overflow: hidden;\n",
       "  text-align: left;\n",
       "  /* unfitted */\n",
       "  background-color: var(--sklearn-color-unfitted-level-0);\n",
       "}\n",
       "\n",
       "#sk-container-id-1 div.sk-toggleable__content.fitted {\n",
       "  /* fitted */\n",
       "  background-color: var(--sklearn-color-fitted-level-0);\n",
       "}\n",
       "\n",
       "#sk-container-id-1 div.sk-toggleable__content pre {\n",
       "  margin: 0.2em;\n",
       "  border-radius: 0.25em;\n",
       "  color: var(--sklearn-color-text);\n",
       "  /* unfitted */\n",
       "  background-color: var(--sklearn-color-unfitted-level-0);\n",
       "}\n",
       "\n",
       "#sk-container-id-1 div.sk-toggleable__content.fitted pre {\n",
       "  /* unfitted */\n",
       "  background-color: var(--sklearn-color-fitted-level-0);\n",
       "}\n",
       "\n",
       "#sk-container-id-1 input.sk-toggleable__control:checked~div.sk-toggleable__content {\n",
       "  /* Expand drop-down */\n",
       "  max-height: 200px;\n",
       "  max-width: 100%;\n",
       "  overflow: auto;\n",
       "}\n",
       "\n",
       "#sk-container-id-1 input.sk-toggleable__control:checked~label.sk-toggleable__label-arrow:before {\n",
       "  content: \"▾\";\n",
       "}\n",
       "\n",
       "/* Pipeline/ColumnTransformer-specific style */\n",
       "\n",
       "#sk-container-id-1 div.sk-label input.sk-toggleable__control:checked~label.sk-toggleable__label {\n",
       "  color: var(--sklearn-color-text);\n",
       "  background-color: var(--sklearn-color-unfitted-level-2);\n",
       "}\n",
       "\n",
       "#sk-container-id-1 div.sk-label.fitted input.sk-toggleable__control:checked~label.sk-toggleable__label {\n",
       "  background-color: var(--sklearn-color-fitted-level-2);\n",
       "}\n",
       "\n",
       "/* Estimator-specific style */\n",
       "\n",
       "/* Colorize estimator box */\n",
       "#sk-container-id-1 div.sk-estimator input.sk-toggleable__control:checked~label.sk-toggleable__label {\n",
       "  /* unfitted */\n",
       "  background-color: var(--sklearn-color-unfitted-level-2);\n",
       "}\n",
       "\n",
       "#sk-container-id-1 div.sk-estimator.fitted input.sk-toggleable__control:checked~label.sk-toggleable__label {\n",
       "  /* fitted */\n",
       "  background-color: var(--sklearn-color-fitted-level-2);\n",
       "}\n",
       "\n",
       "#sk-container-id-1 div.sk-label label.sk-toggleable__label,\n",
       "#sk-container-id-1 div.sk-label label {\n",
       "  /* The background is the default theme color */\n",
       "  color: var(--sklearn-color-text-on-default-background);\n",
       "}\n",
       "\n",
       "/* On hover, darken the color of the background */\n",
       "#sk-container-id-1 div.sk-label:hover label.sk-toggleable__label {\n",
       "  color: var(--sklearn-color-text);\n",
       "  background-color: var(--sklearn-color-unfitted-level-2);\n",
       "}\n",
       "\n",
       "/* Label box, darken color on hover, fitted */\n",
       "#sk-container-id-1 div.sk-label.fitted:hover label.sk-toggleable__label.fitted {\n",
       "  color: var(--sklearn-color-text);\n",
       "  background-color: var(--sklearn-color-fitted-level-2);\n",
       "}\n",
       "\n",
       "/* Estimator label */\n",
       "\n",
       "#sk-container-id-1 div.sk-label label {\n",
       "  font-family: monospace;\n",
       "  font-weight: bold;\n",
       "  display: inline-block;\n",
       "  line-height: 1.2em;\n",
       "}\n",
       "\n",
       "#sk-container-id-1 div.sk-label-container {\n",
       "  text-align: center;\n",
       "}\n",
       "\n",
       "/* Estimator-specific */\n",
       "#sk-container-id-1 div.sk-estimator {\n",
       "  font-family: monospace;\n",
       "  border: 1px dotted var(--sklearn-color-border-box);\n",
       "  border-radius: 0.25em;\n",
       "  box-sizing: border-box;\n",
       "  margin-bottom: 0.5em;\n",
       "  /* unfitted */\n",
       "  background-color: var(--sklearn-color-unfitted-level-0);\n",
       "}\n",
       "\n",
       "#sk-container-id-1 div.sk-estimator.fitted {\n",
       "  /* fitted */\n",
       "  background-color: var(--sklearn-color-fitted-level-0);\n",
       "}\n",
       "\n",
       "/* on hover */\n",
       "#sk-container-id-1 div.sk-estimator:hover {\n",
       "  /* unfitted */\n",
       "  background-color: var(--sklearn-color-unfitted-level-2);\n",
       "}\n",
       "\n",
       "#sk-container-id-1 div.sk-estimator.fitted:hover {\n",
       "  /* fitted */\n",
       "  background-color: var(--sklearn-color-fitted-level-2);\n",
       "}\n",
       "\n",
       "/* Specification for estimator info (e.g. \"i\" and \"?\") */\n",
       "\n",
       "/* Common style for \"i\" and \"?\" */\n",
       "\n",
       ".sk-estimator-doc-link,\n",
       "a:link.sk-estimator-doc-link,\n",
       "a:visited.sk-estimator-doc-link {\n",
       "  float: right;\n",
       "  font-size: smaller;\n",
       "  line-height: 1em;\n",
       "  font-family: monospace;\n",
       "  background-color: var(--sklearn-color-background);\n",
       "  border-radius: 1em;\n",
       "  height: 1em;\n",
       "  width: 1em;\n",
       "  text-decoration: none !important;\n",
       "  margin-left: 1ex;\n",
       "  /* unfitted */\n",
       "  border: var(--sklearn-color-unfitted-level-1) 1pt solid;\n",
       "  color: var(--sklearn-color-unfitted-level-1);\n",
       "}\n",
       "\n",
       ".sk-estimator-doc-link.fitted,\n",
       "a:link.sk-estimator-doc-link.fitted,\n",
       "a:visited.sk-estimator-doc-link.fitted {\n",
       "  /* fitted */\n",
       "  border: var(--sklearn-color-fitted-level-1) 1pt solid;\n",
       "  color: var(--sklearn-color-fitted-level-1);\n",
       "}\n",
       "\n",
       "/* On hover */\n",
       "div.sk-estimator:hover .sk-estimator-doc-link:hover,\n",
       ".sk-estimator-doc-link:hover,\n",
       "div.sk-label-container:hover .sk-estimator-doc-link:hover,\n",
       ".sk-estimator-doc-link:hover {\n",
       "  /* unfitted */\n",
       "  background-color: var(--sklearn-color-unfitted-level-3);\n",
       "  color: var(--sklearn-color-background);\n",
       "  text-decoration: none;\n",
       "}\n",
       "\n",
       "div.sk-estimator.fitted:hover .sk-estimator-doc-link.fitted:hover,\n",
       ".sk-estimator-doc-link.fitted:hover,\n",
       "div.sk-label-container:hover .sk-estimator-doc-link.fitted:hover,\n",
       ".sk-estimator-doc-link.fitted:hover {\n",
       "  /* fitted */\n",
       "  background-color: var(--sklearn-color-fitted-level-3);\n",
       "  color: var(--sklearn-color-background);\n",
       "  text-decoration: none;\n",
       "}\n",
       "\n",
       "/* Span, style for the box shown on hovering the info icon */\n",
       ".sk-estimator-doc-link span {\n",
       "  display: none;\n",
       "  z-index: 9999;\n",
       "  position: relative;\n",
       "  font-weight: normal;\n",
       "  right: .2ex;\n",
       "  padding: .5ex;\n",
       "  margin: .5ex;\n",
       "  width: min-content;\n",
       "  min-width: 20ex;\n",
       "  max-width: 50ex;\n",
       "  color: var(--sklearn-color-text);\n",
       "  box-shadow: 2pt 2pt 4pt #999;\n",
       "  /* unfitted */\n",
       "  background: var(--sklearn-color-unfitted-level-0);\n",
       "  border: .5pt solid var(--sklearn-color-unfitted-level-3);\n",
       "}\n",
       "\n",
       ".sk-estimator-doc-link.fitted span {\n",
       "  /* fitted */\n",
       "  background: var(--sklearn-color-fitted-level-0);\n",
       "  border: var(--sklearn-color-fitted-level-3);\n",
       "}\n",
       "\n",
       ".sk-estimator-doc-link:hover span {\n",
       "  display: block;\n",
       "}\n",
       "\n",
       "/* \"?\"-specific style due to the `<a>` HTML tag */\n",
       "\n",
       "#sk-container-id-1 a.estimator_doc_link {\n",
       "  float: right;\n",
       "  font-size: 1rem;\n",
       "  line-height: 1em;\n",
       "  font-family: monospace;\n",
       "  background-color: var(--sklearn-color-background);\n",
       "  border-radius: 1rem;\n",
       "  height: 1rem;\n",
       "  width: 1rem;\n",
       "  text-decoration: none;\n",
       "  /* unfitted */\n",
       "  color: var(--sklearn-color-unfitted-level-1);\n",
       "  border: var(--sklearn-color-unfitted-level-1) 1pt solid;\n",
       "}\n",
       "\n",
       "#sk-container-id-1 a.estimator_doc_link.fitted {\n",
       "  /* fitted */\n",
       "  border: var(--sklearn-color-fitted-level-1) 1pt solid;\n",
       "  color: var(--sklearn-color-fitted-level-1);\n",
       "}\n",
       "\n",
       "/* On hover */\n",
       "#sk-container-id-1 a.estimator_doc_link:hover {\n",
       "  /* unfitted */\n",
       "  background-color: var(--sklearn-color-unfitted-level-3);\n",
       "  color: var(--sklearn-color-background);\n",
       "  text-decoration: none;\n",
       "}\n",
       "\n",
       "#sk-container-id-1 a.estimator_doc_link.fitted:hover {\n",
       "  /* fitted */\n",
       "  background-color: var(--sklearn-color-fitted-level-3);\n",
       "}\n",
       "</style><div id=\"sk-container-id-1\" class=\"sk-top-container\"><div class=\"sk-text-repr-fallback\"><pre>GridSearchCV(estimator=Pipeline(steps=[(&#x27;columntransformer&#x27;,\n",
       "                                        ColumnTransformer(transformers=[(&#x27;standardscaler&#x27;,\n",
       "                                                                         StandardScaler(),\n",
       "                                                                         Index([&#x27;age&#x27;, &#x27;studytime&#x27;, &#x27;failures&#x27;, &#x27;goout&#x27;, &#x27;Dalc&#x27;, &#x27;Walc&#x27;], dtype=&#x27;object&#x27;)),\n",
       "                                                                        (&#x27;onehotencoder&#x27;,\n",
       "                                                                         OneHotEncoder(drop=&#x27;if_binary&#x27;),\n",
       "                                                                         Index([&#x27;sex&#x27;], dtype=&#x27;object&#x27;))])),\n",
       "                                       (&#x27;ridge&#x27;, Ridge())]),\n",
       "             n_jobs=-1, param_grid={&#x27;ridge__alpha&#x27;: [0.1, 1, 10, 100]},\n",
       "             return_train_score=True)</pre><b>In a Jupyter environment, please rerun this cell to show the HTML representation or trust the notebook. <br />On GitHub, the HTML representation is unable to render, please try loading this page with nbviewer.org.</b></div><div class=\"sk-container\" hidden><div class=\"sk-item sk-dashed-wrapped\"><div class=\"sk-label-container\"><div class=\"sk-label fitted sk-toggleable\"><input class=\"sk-toggleable__control sk-hidden--visually\" id=\"sk-estimator-id-1\" type=\"checkbox\" ><label for=\"sk-estimator-id-1\" class=\"sk-toggleable__label fitted sk-toggleable__label-arrow fitted\">&nbsp;&nbsp;GridSearchCV<a class=\"sk-estimator-doc-link fitted\" rel=\"noreferrer\" target=\"_blank\" href=\"https://scikit-learn.org/1.5/modules/generated/sklearn.model_selection.GridSearchCV.html\">?<span>Documentation for GridSearchCV</span></a><span class=\"sk-estimator-doc-link fitted\">i<span>Fitted</span></span></label><div class=\"sk-toggleable__content fitted\"><pre>GridSearchCV(estimator=Pipeline(steps=[(&#x27;columntransformer&#x27;,\n",
       "                                        ColumnTransformer(transformers=[(&#x27;standardscaler&#x27;,\n",
       "                                                                         StandardScaler(),\n",
       "                                                                         Index([&#x27;age&#x27;, &#x27;studytime&#x27;, &#x27;failures&#x27;, &#x27;goout&#x27;, &#x27;Dalc&#x27;, &#x27;Walc&#x27;], dtype=&#x27;object&#x27;)),\n",
       "                                                                        (&#x27;onehotencoder&#x27;,\n",
       "                                                                         OneHotEncoder(drop=&#x27;if_binary&#x27;),\n",
       "                                                                         Index([&#x27;sex&#x27;], dtype=&#x27;object&#x27;))])),\n",
       "                                       (&#x27;ridge&#x27;, Ridge())]),\n",
       "             n_jobs=-1, param_grid={&#x27;ridge__alpha&#x27;: [0.1, 1, 10, 100]},\n",
       "             return_train_score=True)</pre></div> </div></div><div class=\"sk-parallel\"><div class=\"sk-parallel-item\"><div class=\"sk-item\"><div class=\"sk-label-container\"><div class=\"sk-label fitted sk-toggleable\"><input class=\"sk-toggleable__control sk-hidden--visually\" id=\"sk-estimator-id-2\" type=\"checkbox\" ><label for=\"sk-estimator-id-2\" class=\"sk-toggleable__label fitted sk-toggleable__label-arrow fitted\">best_estimator_: Pipeline</label><div class=\"sk-toggleable__content fitted\"><pre>Pipeline(steps=[(&#x27;columntransformer&#x27;,\n",
       "                 ColumnTransformer(transformers=[(&#x27;standardscaler&#x27;,\n",
       "                                                  StandardScaler(),\n",
       "                                                  Index([&#x27;age&#x27;, &#x27;studytime&#x27;, &#x27;failures&#x27;, &#x27;goout&#x27;, &#x27;Dalc&#x27;, &#x27;Walc&#x27;], dtype=&#x27;object&#x27;)),\n",
       "                                                 (&#x27;onehotencoder&#x27;,\n",
       "                                                  OneHotEncoder(drop=&#x27;if_binary&#x27;),\n",
       "                                                  Index([&#x27;sex&#x27;], dtype=&#x27;object&#x27;))])),\n",
       "                (&#x27;ridge&#x27;, Ridge(alpha=10))])</pre></div> </div></div><div class=\"sk-serial\"><div class=\"sk-item\"><div class=\"sk-serial\"><div class=\"sk-item sk-dashed-wrapped\"><div class=\"sk-label-container\"><div class=\"sk-label fitted sk-toggleable\"><input class=\"sk-toggleable__control sk-hidden--visually\" id=\"sk-estimator-id-3\" type=\"checkbox\" ><label for=\"sk-estimator-id-3\" class=\"sk-toggleable__label fitted sk-toggleable__label-arrow fitted\">&nbsp;columntransformer: ColumnTransformer<a class=\"sk-estimator-doc-link fitted\" rel=\"noreferrer\" target=\"_blank\" href=\"https://scikit-learn.org/1.5/modules/generated/sklearn.compose.ColumnTransformer.html\">?<span>Documentation for columntransformer: ColumnTransformer</span></a></label><div class=\"sk-toggleable__content fitted\"><pre>ColumnTransformer(transformers=[(&#x27;standardscaler&#x27;, StandardScaler(),\n",
       "                                 Index([&#x27;age&#x27;, &#x27;studytime&#x27;, &#x27;failures&#x27;, &#x27;goout&#x27;, &#x27;Dalc&#x27;, &#x27;Walc&#x27;], dtype=&#x27;object&#x27;)),\n",
       "                                (&#x27;onehotencoder&#x27;,\n",
       "                                 OneHotEncoder(drop=&#x27;if_binary&#x27;),\n",
       "                                 Index([&#x27;sex&#x27;], dtype=&#x27;object&#x27;))])</pre></div> </div></div><div class=\"sk-parallel\"><div class=\"sk-parallel-item\"><div class=\"sk-item\"><div class=\"sk-label-container\"><div class=\"sk-label fitted sk-toggleable\"><input class=\"sk-toggleable__control sk-hidden--visually\" id=\"sk-estimator-id-4\" type=\"checkbox\" ><label for=\"sk-estimator-id-4\" class=\"sk-toggleable__label fitted sk-toggleable__label-arrow fitted\">standardscaler</label><div class=\"sk-toggleable__content fitted\"><pre>Index([&#x27;age&#x27;, &#x27;studytime&#x27;, &#x27;failures&#x27;, &#x27;goout&#x27;, &#x27;Dalc&#x27;, &#x27;Walc&#x27;], dtype=&#x27;object&#x27;)</pre></div> </div></div><div class=\"sk-serial\"><div class=\"sk-item\"><div class=\"sk-estimator fitted sk-toggleable\"><input class=\"sk-toggleable__control sk-hidden--visually\" id=\"sk-estimator-id-5\" type=\"checkbox\" ><label for=\"sk-estimator-id-5\" class=\"sk-toggleable__label fitted sk-toggleable__label-arrow fitted\">&nbsp;StandardScaler<a class=\"sk-estimator-doc-link fitted\" rel=\"noreferrer\" target=\"_blank\" href=\"https://scikit-learn.org/1.5/modules/generated/sklearn.preprocessing.StandardScaler.html\">?<span>Documentation for StandardScaler</span></a></label><div class=\"sk-toggleable__content fitted\"><pre>StandardScaler()</pre></div> </div></div></div></div></div><div class=\"sk-parallel-item\"><div class=\"sk-item\"><div class=\"sk-label-container\"><div class=\"sk-label fitted sk-toggleable\"><input class=\"sk-toggleable__control sk-hidden--visually\" id=\"sk-estimator-id-6\" type=\"checkbox\" ><label for=\"sk-estimator-id-6\" class=\"sk-toggleable__label fitted sk-toggleable__label-arrow fitted\">onehotencoder</label><div class=\"sk-toggleable__content fitted\"><pre>Index([&#x27;sex&#x27;], dtype=&#x27;object&#x27;)</pre></div> </div></div><div class=\"sk-serial\"><div class=\"sk-item\"><div class=\"sk-estimator fitted sk-toggleable\"><input class=\"sk-toggleable__control sk-hidden--visually\" id=\"sk-estimator-id-7\" type=\"checkbox\" ><label for=\"sk-estimator-id-7\" class=\"sk-toggleable__label fitted sk-toggleable__label-arrow fitted\">&nbsp;OneHotEncoder<a class=\"sk-estimator-doc-link fitted\" rel=\"noreferrer\" target=\"_blank\" href=\"https://scikit-learn.org/1.5/modules/generated/sklearn.preprocessing.OneHotEncoder.html\">?<span>Documentation for OneHotEncoder</span></a></label><div class=\"sk-toggleable__content fitted\"><pre>OneHotEncoder(drop=&#x27;if_binary&#x27;)</pre></div> </div></div></div></div></div></div></div><div class=\"sk-item\"><div class=\"sk-estimator fitted sk-toggleable\"><input class=\"sk-toggleable__control sk-hidden--visually\" id=\"sk-estimator-id-8\" type=\"checkbox\" ><label for=\"sk-estimator-id-8\" class=\"sk-toggleable__label fitted sk-toggleable__label-arrow fitted\">&nbsp;Ridge<a class=\"sk-estimator-doc-link fitted\" rel=\"noreferrer\" target=\"_blank\" href=\"https://scikit-learn.org/1.5/modules/generated/sklearn.linear_model.Ridge.html\">?<span>Documentation for Ridge</span></a></label><div class=\"sk-toggleable__content fitted\"><pre>Ridge(alpha=10)</pre></div> </div></div></div></div></div></div></div></div></div></div></div>"
      ],
      "text/plain": [
       "GridSearchCV(estimator=Pipeline(steps=[('columntransformer',\n",
       "                                        ColumnTransformer(transformers=[('standardscaler',\n",
       "                                                                         StandardScaler(),\n",
       "                                                                         Index(['age', 'studytime', 'failures', 'goout', 'Dalc', 'Walc'], dtype='object')),\n",
       "                                                                        ('onehotencoder',\n",
       "                                                                         OneHotEncoder(drop='if_binary'),\n",
       "                                                                         Index(['sex'], dtype='object'))])),\n",
       "                                       ('ridge', Ridge())]),\n",
       "             n_jobs=-1, param_grid={'ridge__alpha': [0.1, 1, 10, 100]},\n",
       "             return_train_score=True)"
      ]
     },
     "execution_count": 24,
     "metadata": {},
     "output_type": "execute_result"
    }
   ],
   "source": [
    "# Define parameter grid\n",
    "param_grid = {\n",
    "    'ridge__alpha': [0.1, 1, 10, 100]\n",
    "}\n",
    "\n",
    "# Perform grid search with cross-validation\n",
    "grid_search = GridSearchCV(pipe_lr, param_grid=param_grid, n_jobs=-1, return_train_score=True)\n",
    "grid_search.fit(X_train, y_train)"
   ]
  },
  {
   "cell_type": "code",
   "execution_count": 25,
   "id": "ed5548f6",
   "metadata": {},
   "outputs": [
    {
     "data": {
      "text/plain": [
       "np.float64(0.1311696005613864)"
      ]
     },
     "execution_count": 25,
     "metadata": {},
     "output_type": "execute_result"
    }
   ],
   "source": [
    "# Best score\n",
    "grid_search.best_score_"
   ]
  },
  {
   "cell_type": "code",
   "execution_count": 26,
   "id": "304cb55f",
   "metadata": {},
   "outputs": [
    {
     "data": {
      "text/plain": [
       "{'ridge__alpha': 10}"
      ]
     },
     "execution_count": 26,
     "metadata": {},
     "output_type": "execute_result"
    }
   ],
   "source": [
    "# Get the best hyperparameter value\n",
    "grid_search.best_params_"
   ]
  },
  {
   "cell_type": "code",
   "execution_count": 27,
   "id": "a29df4ca",
   "metadata": {},
   "outputs": [],
   "source": [
    "# Define the best model\n",
    "best_model = grid_search.best_estimator_"
   ]
  },
  {
   "cell_type": "code",
   "execution_count": 28,
   "id": "b6d64f4e",
   "metadata": {},
   "outputs": [
    {
     "data": {
      "text/html": [
       "<div>\n",
       "<style scoped>\n",
       "    .dataframe tbody tr th:only-of-type {\n",
       "        vertical-align: middle;\n",
       "    }\n",
       "\n",
       "    .dataframe tbody tr th {\n",
       "        vertical-align: top;\n",
       "    }\n",
       "\n",
       "    .dataframe thead th {\n",
       "        text-align: right;\n",
       "    }\n",
       "</style>\n",
       "<table border=\"1\" class=\"dataframe\">\n",
       "  <thead>\n",
       "    <tr style=\"text-align: right;\">\n",
       "      <th>rank_test_score</th>\n",
       "      <th>1</th>\n",
       "      <th>2</th>\n",
       "      <th>3</th>\n",
       "      <th>4</th>\n",
       "    </tr>\n",
       "  </thead>\n",
       "  <tbody>\n",
       "    <tr>\n",
       "      <th>mean_test_score</th>\n",
       "      <td>0.131170</td>\n",
       "      <td>0.129803</td>\n",
       "      <td>0.129564</td>\n",
       "      <td>0.120737</td>\n",
       "    </tr>\n",
       "    <tr>\n",
       "      <th>param_ridge__alpha</th>\n",
       "      <td>10.000000</td>\n",
       "      <td>1.000000</td>\n",
       "      <td>0.100000</td>\n",
       "      <td>100.000000</td>\n",
       "    </tr>\n",
       "    <tr>\n",
       "      <th>mean_fit_time</th>\n",
       "      <td>0.006967</td>\n",
       "      <td>0.031756</td>\n",
       "      <td>0.066648</td>\n",
       "      <td>0.007936</td>\n",
       "    </tr>\n",
       "  </tbody>\n",
       "</table>\n",
       "</div>"
      ],
      "text/plain": [
       "rank_test_score             1         2         3           4\n",
       "mean_test_score      0.131170  0.129803  0.129564    0.120737\n",
       "param_ridge__alpha  10.000000  1.000000  0.100000  100.000000\n",
       "mean_fit_time        0.006967  0.031756  0.066648    0.007936"
      ]
     },
     "execution_count": 28,
     "metadata": {},
     "output_type": "execute_result"
    }
   ],
   "source": [
    "pd.DataFrame(grid_search.cv_results_)[\n",
    "    [\n",
    "        \"mean_test_score\",\n",
    "        \"param_ridge__alpha\",\n",
    "        \"mean_fit_time\",\n",
    "        \"rank_test_score\",\n",
    "    ]\n",
    "].set_index(\"rank_test_score\").sort_index().T"
   ]
  },
  {
   "cell_type": "code",
   "execution_count": 29,
   "id": "71cb620c",
   "metadata": {},
   "outputs": [],
   "source": [
    "# Apply best model on test set\n",
    "y_pred = best_model.predict(X_test)"
   ]
  },
  {
   "cell_type": "code",
   "execution_count": 30,
   "id": "d73953f8",
   "metadata": {},
   "outputs": [
    {
     "data": {
      "text/html": [
       "<div>\n",
       "<style scoped>\n",
       "    .dataframe tbody tr th:only-of-type {\n",
       "        vertical-align: middle;\n",
       "    }\n",
       "\n",
       "    .dataframe tbody tr th {\n",
       "        vertical-align: top;\n",
       "    }\n",
       "\n",
       "    .dataframe thead th {\n",
       "        text-align: right;\n",
       "    }\n",
       "</style>\n",
       "<table border=\"1\" class=\"dataframe\">\n",
       "  <thead>\n",
       "    <tr style=\"text-align: right;\">\n",
       "      <th></th>\n",
       "      <th>Observed (y_test)</th>\n",
       "      <th>Predicted (y_pred)</th>\n",
       "    </tr>\n",
       "  </thead>\n",
       "  <tbody>\n",
       "    <tr>\n",
       "      <th>0</th>\n",
       "      <td>8</td>\n",
       "      <td>7.534113</td>\n",
       "    </tr>\n",
       "    <tr>\n",
       "      <th>1</th>\n",
       "      <td>16</td>\n",
       "      <td>12.559976</td>\n",
       "    </tr>\n",
       "    <tr>\n",
       "      <th>2</th>\n",
       "      <td>14</td>\n",
       "      <td>11.450759</td>\n",
       "    </tr>\n",
       "    <tr>\n",
       "      <th>3</th>\n",
       "      <td>8</td>\n",
       "      <td>11.293807</td>\n",
       "    </tr>\n",
       "    <tr>\n",
       "      <th>4</th>\n",
       "      <td>10</td>\n",
       "      <td>1.804999</td>\n",
       "    </tr>\n",
       "    <tr>\n",
       "      <th>5</th>\n",
       "      <td>11</td>\n",
       "      <td>11.875796</td>\n",
       "    </tr>\n",
       "    <tr>\n",
       "      <th>6</th>\n",
       "      <td>12</td>\n",
       "      <td>11.746092</td>\n",
       "    </tr>\n",
       "    <tr>\n",
       "      <th>7</th>\n",
       "      <td>5</td>\n",
       "      <td>8.692520</td>\n",
       "    </tr>\n",
       "    <tr>\n",
       "      <th>8</th>\n",
       "      <td>13</td>\n",
       "      <td>11.545896</td>\n",
       "    </tr>\n",
       "    <tr>\n",
       "      <th>9</th>\n",
       "      <td>0</td>\n",
       "      <td>9.268482</td>\n",
       "    </tr>\n",
       "  </tbody>\n",
       "</table>\n",
       "</div>"
      ],
      "text/plain": [
       "   Observed (y_test)  Predicted (y_pred)\n",
       "0                  8            7.534113\n",
       "1                 16           12.559976\n",
       "2                 14           11.450759\n",
       "3                  8           11.293807\n",
       "4                 10            1.804999\n",
       "5                 11           11.875796\n",
       "6                 12           11.746092\n",
       "7                  5            8.692520\n",
       "8                 13           11.545896\n",
       "9                  0            9.268482"
      ]
     },
     "execution_count": 30,
     "metadata": {},
     "output_type": "execute_result"
    }
   ],
   "source": [
    "# Create a dataframe to compare observed and predicted values\n",
    "comparison = pd.DataFrame({\n",
    "    \"Observed (y_test)\": y_test.values,\n",
    "    \"Predicted (y_pred)\": y_pred\n",
    "})\n",
    "comparison.head(10)"
   ]
  },
  {
   "cell_type": "code",
   "execution_count": 31,
   "id": "869e8618",
   "metadata": {},
   "outputs": [
    {
     "data": {
      "text/html": [
       "<div>\n",
       "<style scoped>\n",
       "    .dataframe tbody tr th:only-of-type {\n",
       "        vertical-align: middle;\n",
       "    }\n",
       "\n",
       "    .dataframe tbody tr th {\n",
       "        vertical-align: top;\n",
       "    }\n",
       "\n",
       "    .dataframe thead th {\n",
       "        text-align: right;\n",
       "    }\n",
       "</style>\n",
       "<table border=\"1\" class=\"dataframe\">\n",
       "  <thead>\n",
       "    <tr style=\"text-align: right;\">\n",
       "      <th></th>\n",
       "      <th>Value</th>\n",
       "    </tr>\n",
       "    <tr>\n",
       "      <th>Metric</th>\n",
       "      <th></th>\n",
       "    </tr>\n",
       "  </thead>\n",
       "  <tbody>\n",
       "    <tr>\n",
       "      <th>Mean Squared Error (MSE)</th>\n",
       "      <td>17.717085</td>\n",
       "    </tr>\n",
       "    <tr>\n",
       "      <th>Root Mean Squared Error (RMSE)</th>\n",
       "      <td>4.209167</td>\n",
       "    </tr>\n",
       "    <tr>\n",
       "      <th>Mean Absolute Error (MAE)</th>\n",
       "      <td>3.180680</td>\n",
       "    </tr>\n",
       "  </tbody>\n",
       "</table>\n",
       "</div>"
      ],
      "text/plain": [
       "                                    Value\n",
       "Metric                                   \n",
       "Mean Squared Error (MSE)        17.717085\n",
       "Root Mean Squared Error (RMSE)   4.209167\n",
       "Mean Absolute Error (MAE)        3.180680"
      ]
     },
     "execution_count": 31,
     "metadata": {},
     "output_type": "execute_result"
    }
   ],
   "source": [
    "# Evaluate performance on the test set\n",
    "mse = mean_squared_error(y_test, y_pred)    # Mean squared error\n",
    "\n",
    "rmse = np.sqrt(mse) # Root Mean Squared error\n",
    "\n",
    "mae = mean_absolute_error(y_test, y_pred)  # Mean Absolute Error\n",
    "\n",
    "\n",
    "# Create a data frame to display performance metrics\n",
    "metrics = pd.DataFrame({\n",
    "    \"Metric\": [\"Mean Squared Error (MSE)\", \n",
    "               \"Root Mean Squared Error (RMSE)\", \n",
    "               \"Mean Absolute Error (MAE)\"],\n",
    "    \"Value\": [mse, rmse, mae]\n",
    "})\n",
    "metrics.set_index('Metric')"
   ]
  },
  {
   "cell_type": "code",
   "execution_count": 32,
   "id": "45046556-f4a8-4886-9877-abd9f98145c2",
   "metadata": {},
   "outputs": [
    {
     "data": {
      "text/html": [
       "<div>\n",
       "<style scoped>\n",
       "    .dataframe tbody tr th:only-of-type {\n",
       "        vertical-align: middle;\n",
       "    }\n",
       "\n",
       "    .dataframe tbody tr th {\n",
       "        vertical-align: top;\n",
       "    }\n",
       "\n",
       "    .dataframe thead th {\n",
       "        text-align: right;\n",
       "    }\n",
       "</style>\n",
       "<table border=\"1\" class=\"dataframe\">\n",
       "  <thead>\n",
       "    <tr style=\"text-align: right;\">\n",
       "      <th></th>\n",
       "      <th>features</th>\n",
       "      <th>coefs</th>\n",
       "    </tr>\n",
       "  </thead>\n",
       "  <tbody>\n",
       "    <tr>\n",
       "      <th>0</th>\n",
       "      <td>age</td>\n",
       "      <td>-0.283367</td>\n",
       "    </tr>\n",
       "    <tr>\n",
       "      <th>1</th>\n",
       "      <td>studytime</td>\n",
       "      <td>0.527055</td>\n",
       "    </tr>\n",
       "    <tr>\n",
       "      <th>2</th>\n",
       "      <td>failures</td>\n",
       "      <td>-1.606866</td>\n",
       "    </tr>\n",
       "    <tr>\n",
       "      <th>3</th>\n",
       "      <td>goout</td>\n",
       "      <td>-0.643832</td>\n",
       "    </tr>\n",
       "    <tr>\n",
       "      <th>4</th>\n",
       "      <td>Dalc</td>\n",
       "      <td>0.045963</td>\n",
       "    </tr>\n",
       "    <tr>\n",
       "      <th>5</th>\n",
       "      <td>Walc</td>\n",
       "      <td>0.065063</td>\n",
       "    </tr>\n",
       "    <tr>\n",
       "      <th>6</th>\n",
       "      <td>sex_M</td>\n",
       "      <td>1.249318</td>\n",
       "    </tr>\n",
       "  </tbody>\n",
       "</table>\n",
       "</div>"
      ],
      "text/plain": [
       "    features     coefs\n",
       "0        age -0.283367\n",
       "1  studytime  0.527055\n",
       "2   failures -1.606866\n",
       "3      goout -0.643832\n",
       "4       Dalc  0.045963\n",
       "5       Walc  0.065063\n",
       "6      sex_M  1.249318"
      ]
     },
     "execution_count": 32,
     "metadata": {},
     "output_type": "execute_result"
    }
   ],
   "source": [
    "import seaborn as sns\n",
    "\n",
    "# Assume coefficients are stored in a matrix `coef` (predictors x responses)\n",
    "coefs = best_model.named_steps['ridge'].coef_\n",
    "feature_names = best_model.named_steps['columntransformer']\\\n",
    "    .get_feature_names_out().tolist()\n",
    "feature_names = [n.split(\"__\")[1] for n in feature_names]\n",
    "\n",
    "coefs_df = pd.DataFrame({\"features\": feature_names, \"coefs\": coefs})\n",
    "coefs_df"
   ]
  },
  {
   "cell_type": "code",
   "execution_count": 33,
   "id": "3212bafc-046a-491b-8afe-11fd2e674611",
   "metadata": {},
   "outputs": [
    {
     "data": {
      "image/png": "[encoded data removed]",
      "text/plain": [
       "<Figure size 640x480 with 1 Axes>"
      ]
     },
     "metadata": {},
     "output_type": "display_data"
    }
   ],
   "source": [
    "plt.bar(feature_names, coefs)\n",
    "plt.xlabel(\"Features\")\n",
    "plt.ylabel(\"Coefficient Value\")\n",
    "plt.title(\"Ridge Regression Coefficients\")\n",
    "plt.xticks(rotation=45)\n",
    "plt.show()"
   ]
  },
  {
   "cell_type": "markdown",
   "id": "3b079c06-9498-4f38-87b9-fb3e1e556b91",
   "metadata": {},
   "source": [
    "**Figure 7: Ridge regression coefficients**\n"
   ]
  },
  {
   "cell_type": "markdown",
   "id": "3ed1f1fd-f7da-44ed-b3f3-c23306bf745e",
   "metadata": {},
   "source": [
    "## Results & Discussion\n"
   ]
  },
  {
   "cell_type": "markdown",
   "id": "1cb39213-ce47-4817-b290-b75498558b2d",
   "metadata": {},
   "source": [
    "The Ridge Regression model, with tuned hyperparameters, demonstrated well predictive capabilities on student’s math performance. The optimal hyperparameter for Ridge was found to be alpha = 1, and the best cross-validation score is approximately 0.81. This indicates a strong predictive accuracy during the model's validation phase.\n",
    "\n",
    "The Ridge coefficients suggests that student performance is most strongly influenced by prior grades, with G2 having the greatest positive impact, followed by G1. Social behaviors like going out and weekend alcohol consumption also show a smaller positive influence, while age, study time, and workday alcohol consumption have a negative effect. Failures and gender appear to have extremely minimal influence on the final grade.\n",
    "\n",
    "Based on the evaluation on the test set, the model achieved the following performance metrics:\n",
    "\n",
    "- Mean Squared Error (MSE): 3.83\n",
    "- Root Mean Squared Error (RMSE): 1.96\n",
    "- Mean Absolute Error (MAE): 1.27\n",
    "\n",
    "These metrics suggest that the model is reasonably accurate in predicting students' final grades. However, there are areas for improvement. We can explore other models which could better capture the non-linear relationships and feature interactions. Another improvement we can do is to provide confidence intervals for predictions. This approach could enhance the reliability and interpretability of predictions and help readers make more informed decisions.\n"
   ]
  },
  {
   "cell_type": "markdown",
   "id": "8bd01f82-917e-4dc0-ac4e-e5716fd72561",
   "metadata": {},
   "source": [
    "## References\n"
   ]
  },
  {
   "cell_type": "markdown",
   "id": "5d1ce241-8723-40a0-a710-1d68e1fd3050",
   "metadata": {},
   "source": [
    "\n",
    "1. Amuda, Bitrus Glawala, Apagu Kidlindila Bulus, and Hamsatu Pur Joseph. \"Marital Status and Age as Predictors of Academic Performance of Students of Colleges of Education in the Nort- Eastern Nigeria.\" American Journal of Educational Research 4.12 (2016): 896-902.\n",
    "\n",
    "2. Cortez, Paulo. \"Student Performance.\" UCI Machine Learning Repository, 2008, https://doi.org/10.24432/C5TG7T.\n",
    "\n",
    "3. Hjarnaa, Louise, Sanne Pagh, Møller, Alberte Brix, Curtis, Ulrik, Becker, Ove, Andersen, Fartein Ask, Torvik, Janne Schurmann, Tolstrup. \"Alcohol Intake and Academic Performance and Dropout in High School: A Prospective Cohort Study in 65,233 Adolescents\". Journal of Adolescent Health 73. 6(2023): 1083–1092.\n",
    "\n",
    "4. Modi, Y. G. “The Impact of Stress on Academic Performance: Strategies for High School Students.” International Journal of Psychiatry, vol. 8, no. 5, 2023, pp. 150–152.\n"
   ]
  }
 ],
 "metadata": {
  "kernelspec": {
   "display_name": "Python 3 (ipykernel)",
   "language": "python",
   "name": "python3"
  },
  "language_info": {
   "codemirror_mode": {
    "name": "ipython",
    "version": 3
   },
   "file_extension": ".py",
   "mimetype": "text/x-python",
   "name": "python",
   "nbconvert_exporter": "python",
   "pygments_lexer": "ipython3",
   "version": "3.11.11"
  }
 },
 "nbformat": 4,
 "nbformat_minor": 5
}
