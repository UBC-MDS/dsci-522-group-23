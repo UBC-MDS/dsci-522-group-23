{
 "cells": [
  {
   "cell_type": "markdown",
   "id": "01c92f92-75aa-4e0b-b391-cd5d7f6d37c2",
   "metadata": {},
   "source": [
    "## Predicting academic performance using demographic and behavioral Data"
   ]
  },
  {
   "cell_type": "markdown",
   "id": "8ecbcefd-2799-4164-a17c-f430e19c5455",
   "metadata": {},
   "source": [
    "by Zhengling Jiang,  Colombe Tolokin, Franklin Aryee, Tien Nguyen"
   ]
  },
  {
   "cell_type": "markdown",
   "id": "3f21118e-4fb3-412a-9407-b862721b8a3f",
   "metadata": {},
   "source": [
    "Packages:"
   ]
  },
  {
   "cell_type": "code",
   "execution_count": 16,
   "id": "75de01ce-7dd0-4e98-92a4-c60950549f91",
   "metadata": {},
   "outputs": [],
   "source": [
    "import pandas as pd\n",
    "import altair as alt\n",
    "from sklearn.model_selection import train_test_split"
   ]
  },
  {
   "cell_type": "markdown",
   "id": "de2ac88a-677a-43c7-a2e5-a2438b36c166",
   "metadata": {},
   "source": [
    "## Summary"
   ]
  },
  {
   "cell_type": "code",
   "execution_count": null,
   "id": "6bcefd89-b390-456b-a01a-1b5f30b41d61",
   "metadata": {},
   "outputs": [],
   "source": []
  },
  {
   "cell_type": "markdown",
   "id": "5f39ddc5-3f95-494b-9a5c-2683993df544",
   "metadata": {},
   "source": [
    "## Introduction"
   ]
  },
  {
   "cell_type": "markdown",
   "id": "98ff9c58-1a81-43da-8cdf-95d1b3ac410c",
   "metadata": {},
   "source": [
    "Math teaches us to think logically and it also provides us with analytical and problem-solving skills. These skills can be applied to various academic and professional fields. However, student performance in mathematics can be influenced by many factors, like individual factor, social factor, and family factor. Research has shown that attributes such as study habits, age and family background can significantly impact a student's academic success  (Amuda, Bulus, and Joseph 2016; Modi 2023). Understanding these factors is crucial for improving educational outcomes.\n",
    "\n",
    "In this study, we aim to address this question: **“Can we predict a student's math academic performance based on the demographic and behavioral data?”**. Answering this question is important because understanding the factors behind student performance can help teachers provide support to struggling students. Furthermore, the ability to predict academic performance could assist schools in developing educational strategies based on different backgrounds of students. \n",
    "The goal of this study is to develop a machine learning model capable of predicting student’s math performance with high accuracy."
   ]
  },
  {
   "cell_type": "markdown",
   "id": "cb2c5e3f-76fd-43b9-a550-324a1eceb42b",
   "metadata": {},
   "source": [
    "## Methods & Results"
   ]
  },
  {
   "cell_type": "markdown",
   "id": "d11dcab6-b330-4ad0-81d0-d1fed8d36bde",
   "metadata": {},
   "source": [
    "The objective here to prepare the data for our classification analysis by exploring relevant features and summarizing key insights through data wrangling and visualization."
   ]
  },
  {
   "cell_type": "markdown",
   "id": "2a47b333-d687-4f50-8cfe-01f6f0525f17",
   "metadata": {},
   "source": [
    "### Data Loading, Wrangling and Summary"
   ]
  },
  {
   "cell_type": "markdown",
   "id": "d5b37ade-6998-48a7-b07c-644b170f5158",
   "metadata": {},
   "source": [
    "Let's start by loading the data and have an initial view of data set structure."
   ]
  },
  {
   "cell_type": "markdown",
   "id": "2bc9a43b-4743-4527-b2a7-92c0ad02bf40",
   "metadata": {},
   "source": [
    "The file is a `.csv` file with `;` as delimiter. Let's use `pandas`to read it in."
   ]
  },
  {
   "cell_type": "code",
   "execution_count": 39,
   "id": "b30b61c2-dda1-4bce-b530-b03351b5f8fb",
   "metadata": {},
   "outputs": [
    {
     "data": {
      "text/html": [
       "<div>\n",
       "<style scoped>\n",
       "    .dataframe tbody tr th:only-of-type {\n",
       "        vertical-align: middle;\n",
       "    }\n",
       "\n",
       "    .dataframe tbody tr th {\n",
       "        vertical-align: top;\n",
       "    }\n",
       "\n",
       "    .dataframe thead th {\n",
       "        text-align: right;\n",
       "    }\n",
       "</style>\n",
       "<table border=\"1\" class=\"dataframe\">\n",
       "  <thead>\n",
       "    <tr style=\"text-align: right;\">\n",
       "      <th></th>\n",
       "      <th>school</th>\n",
       "      <th>sex</th>\n",
       "      <th>age</th>\n",
       "      <th>address</th>\n",
       "      <th>famsize</th>\n",
       "      <th>Pstatus</th>\n",
       "      <th>Medu</th>\n",
       "      <th>Fedu</th>\n",
       "      <th>Mjob</th>\n",
       "      <th>Fjob</th>\n",
       "      <th>...</th>\n",
       "      <th>famrel</th>\n",
       "      <th>freetime</th>\n",
       "      <th>goout</th>\n",
       "      <th>Dalc</th>\n",
       "      <th>Walc</th>\n",
       "      <th>health</th>\n",
       "      <th>absences</th>\n",
       "      <th>G1</th>\n",
       "      <th>G2</th>\n",
       "      <th>G3</th>\n",
       "    </tr>\n",
       "  </thead>\n",
       "  <tbody>\n",
       "    <tr>\n",
       "      <th>0</th>\n",
       "      <td>GP</td>\n",
       "      <td>F</td>\n",
       "      <td>18</td>\n",
       "      <td>U</td>\n",
       "      <td>GT3</td>\n",
       "      <td>A</td>\n",
       "      <td>4</td>\n",
       "      <td>4</td>\n",
       "      <td>at_home</td>\n",
       "      <td>teacher</td>\n",
       "      <td>...</td>\n",
       "      <td>4</td>\n",
       "      <td>3</td>\n",
       "      <td>4</td>\n",
       "      <td>1</td>\n",
       "      <td>1</td>\n",
       "      <td>3</td>\n",
       "      <td>6</td>\n",
       "      <td>5</td>\n",
       "      <td>6</td>\n",
       "      <td>6</td>\n",
       "    </tr>\n",
       "    <tr>\n",
       "      <th>1</th>\n",
       "      <td>GP</td>\n",
       "      <td>F</td>\n",
       "      <td>17</td>\n",
       "      <td>U</td>\n",
       "      <td>GT3</td>\n",
       "      <td>T</td>\n",
       "      <td>1</td>\n",
       "      <td>1</td>\n",
       "      <td>at_home</td>\n",
       "      <td>other</td>\n",
       "      <td>...</td>\n",
       "      <td>5</td>\n",
       "      <td>3</td>\n",
       "      <td>3</td>\n",
       "      <td>1</td>\n",
       "      <td>1</td>\n",
       "      <td>3</td>\n",
       "      <td>4</td>\n",
       "      <td>5</td>\n",
       "      <td>5</td>\n",
       "      <td>6</td>\n",
       "    </tr>\n",
       "    <tr>\n",
       "      <th>2</th>\n",
       "      <td>GP</td>\n",
       "      <td>F</td>\n",
       "      <td>15</td>\n",
       "      <td>U</td>\n",
       "      <td>LE3</td>\n",
       "      <td>T</td>\n",
       "      <td>1</td>\n",
       "      <td>1</td>\n",
       "      <td>at_home</td>\n",
       "      <td>other</td>\n",
       "      <td>...</td>\n",
       "      <td>4</td>\n",
       "      <td>3</td>\n",
       "      <td>2</td>\n",
       "      <td>2</td>\n",
       "      <td>3</td>\n",
       "      <td>3</td>\n",
       "      <td>10</td>\n",
       "      <td>7</td>\n",
       "      <td>8</td>\n",
       "      <td>10</td>\n",
       "    </tr>\n",
       "    <tr>\n",
       "      <th>3</th>\n",
       "      <td>GP</td>\n",
       "      <td>F</td>\n",
       "      <td>15</td>\n",
       "      <td>U</td>\n",
       "      <td>GT3</td>\n",
       "      <td>T</td>\n",
       "      <td>4</td>\n",
       "      <td>2</td>\n",
       "      <td>health</td>\n",
       "      <td>services</td>\n",
       "      <td>...</td>\n",
       "      <td>3</td>\n",
       "      <td>2</td>\n",
       "      <td>2</td>\n",
       "      <td>1</td>\n",
       "      <td>1</td>\n",
       "      <td>5</td>\n",
       "      <td>2</td>\n",
       "      <td>15</td>\n",
       "      <td>14</td>\n",
       "      <td>15</td>\n",
       "    </tr>\n",
       "    <tr>\n",
       "      <th>4</th>\n",
       "      <td>GP</td>\n",
       "      <td>F</td>\n",
       "      <td>16</td>\n",
       "      <td>U</td>\n",
       "      <td>GT3</td>\n",
       "      <td>T</td>\n",
       "      <td>3</td>\n",
       "      <td>3</td>\n",
       "      <td>other</td>\n",
       "      <td>other</td>\n",
       "      <td>...</td>\n",
       "      <td>4</td>\n",
       "      <td>3</td>\n",
       "      <td>2</td>\n",
       "      <td>1</td>\n",
       "      <td>2</td>\n",
       "      <td>5</td>\n",
       "      <td>4</td>\n",
       "      <td>6</td>\n",
       "      <td>10</td>\n",
       "      <td>10</td>\n",
       "    </tr>\n",
       "  </tbody>\n",
       "</table>\n",
       "<p>5 rows × 33 columns</p>\n",
       "</div>"
      ],
      "text/plain": [
       "  school sex  age address famsize Pstatus  Medu  Fedu     Mjob      Fjob  ...  \\\n",
       "0     GP   F   18       U     GT3       A     4     4  at_home   teacher  ...   \n",
       "1     GP   F   17       U     GT3       T     1     1  at_home     other  ...   \n",
       "2     GP   F   15       U     LE3       T     1     1  at_home     other  ...   \n",
       "3     GP   F   15       U     GT3       T     4     2   health  services  ...   \n",
       "4     GP   F   16       U     GT3       T     3     3    other     other  ...   \n",
       "\n",
       "  famrel freetime  goout  Dalc  Walc health absences  G1  G2  G3  \n",
       "0      4        3      4     1     1      3        6   5   6   6  \n",
       "1      5        3      3     1     1      3        4   5   5   6  \n",
       "2      4        3      2     2     3      3       10   7   8  10  \n",
       "3      3        2      2     1     1      5        2  15  14  15  \n",
       "4      4        3      2     1     2      5        4   6  10  10  \n",
       "\n",
       "[5 rows x 33 columns]"
      ]
     },
     "execution_count": 39,
     "metadata": {},
     "output_type": "execute_result"
    }
   ],
   "source": [
    "# Load data\n",
    "df_url = \"https://archive.ics.uci.edu/dataset/320/student+performance\"\n",
    "student_performance = pd.read_csv('../data/student-mat.csv', delimiter=';')\n",
    "student_performance.head()"
   ]
  },
  {
   "cell_type": "markdown",
   "id": "8722235e-f4aa-4e9e-b2d1-0371acf3d56b",
   "metadata": {},
   "source": [
    "This provides an overview of the data set with 33 columns, each representing student attributes such as age, gender, study time, grades, and parental details."
   ]
  },
  {
   "cell_type": "markdown",
   "id": "4422e7d9-e234-438d-874c-b492ac5ba41e",
   "metadata": {},
   "source": [
    "Let's get some information on the data set to better understand it."
   ]
  },
  {
   "cell_type": "code",
   "execution_count": 25,
   "id": "fbc58e24-abcb-455d-a911-e8e678fa515a",
   "metadata": {},
   "outputs": [
    {
     "name": "stdout",
     "output_type": "stream",
     "text": [
      "<class 'pandas.core.frame.DataFrame'>\n",
      "RangeIndex: 395 entries, 0 to 394\n",
      "Data columns (total 33 columns):\n",
      " #   Column      Non-Null Count  Dtype \n",
      "---  ------      --------------  ----- \n",
      " 0   school      395 non-null    object\n",
      " 1   sex         395 non-null    object\n",
      " 2   age         395 non-null    int64 \n",
      " 3   address     395 non-null    object\n",
      " 4   famsize     395 non-null    object\n",
      " 5   Pstatus     395 non-null    object\n",
      " 6   Medu        395 non-null    int64 \n",
      " 7   Fedu        395 non-null    int64 \n",
      " 8   Mjob        395 non-null    object\n",
      " 9   Fjob        395 non-null    object\n",
      " 10  reason      395 non-null    object\n",
      " 11  guardian    395 non-null    object\n",
      " 12  traveltime  395 non-null    int64 \n",
      " 13  studytime   395 non-null    int64 \n",
      " 14  failures    395 non-null    int64 \n",
      " 15  schoolsup   395 non-null    object\n",
      " 16  famsup      395 non-null    object\n",
      " 17  paid        395 non-null    object\n",
      " 18  activities  395 non-null    object\n",
      " 19  nursery     395 non-null    object\n",
      " 20  higher      395 non-null    object\n",
      " 21  internet    395 non-null    object\n",
      " 22  romantic    395 non-null    object\n",
      " 23  famrel      395 non-null    int64 \n",
      " 24  freetime    395 non-null    int64 \n",
      " 25  goout       395 non-null    int64 \n",
      " 26  Dalc        395 non-null    int64 \n",
      " 27  Walc        395 non-null    int64 \n",
      " 28  health      395 non-null    int64 \n",
      " 29  absences    395 non-null    int64 \n",
      " 30  G1          395 non-null    int64 \n",
      " 31  G2          395 non-null    int64 \n",
      " 32  G3          395 non-null    int64 \n",
      "dtypes: int64(16), object(17)\n",
      "memory usage: 102.0+ KB\n"
     ]
    }
   ],
   "source": [
    "student_performance.info()"
   ]
  },
  {
   "cell_type": "code",
   "execution_count": null,
   "id": "cb6e3944-b90e-484b-b03c-06c5858e680c",
   "metadata": {},
   "outputs": [],
   "source": []
  },
  {
   "cell_type": "markdown",
   "id": "62339e42-1f90-4b80-8ce3-a694cf0a8cd1",
   "metadata": {},
   "source": [
    "The data set contains 395 observations and 33 columns covering different aspects of student demographics, academic and behavioral traits."
   ]
  },
  {
   "cell_type": "markdown",
   "id": "8cd60c8d-aad7-4951-9629-99f7ff729971",
   "metadata": {},
   "source": [
    "We can see that there is no missing values. There is not need to handle NAs."
   ]
  },
  {
   "cell_type": "markdown",
   "id": "0d9b1cd2-1ef5-4e4b-a9f3-e58d9b433e2d",
   "metadata": {},
   "source": [
    "The data set includes categorical (school, sex, Mjob) and numerical (age, G1, G2, G3) features."
   ]
  },
  {
   "cell_type": "markdown",
   "id": "0d1399a0-a604-415e-bb17-21fef3acc880",
   "metadata": {},
   "source": [
    "There is a large range of features but not all of them are necessary for this analysis. Let's proceed and select only the necessary ones."
   ]
  },
  {
   "cell_type": "markdown",
   "id": "653fc493-938c-46f7-9130-906fd786cd72",
   "metadata": {},
   "source": [
    "Let's selected the following key columns:\n",
    "\n",
    "- Demographic attributes: sex, age\n",
    "- Academic Attributes: studytime, failures, G1, G2, G3 (grades for three terms)\n",
    "- Behavioral Attributes: goout (socializing), Dalc (weekday alcohol consumption), Walc (weekend alcohol consumption)"
   ]
  },
  {
   "cell_type": "code",
   "execution_count": null,
   "id": "52de4d4f-3383-4a26-a28a-27696217562e",
   "metadata": {},
   "outputs": [],
   "source": []
  },
  {
   "cell_type": "code",
   "execution_count": 35,
   "id": "61c21a0d-14a5-40a9-968d-04f7fe619c7a",
   "metadata": {},
   "outputs": [
    {
     "data": {
      "text/plain": [
       "sex          0\n",
       "age          0\n",
       "studytime    0\n",
       "failures     0\n",
       "goout        0\n",
       "Dalc         0\n",
       "Walc         0\n",
       "G1           0\n",
       "G2           0\n",
       "G3           0\n",
       "dtype: int64"
      ]
     },
     "execution_count": 35,
     "metadata": {},
     "output_type": "execute_result"
    }
   ],
   "source": [
    "# Necessary columns\n",
    "columns = ['sex', \n",
    "           'age', \n",
    "           'studytime', \n",
    "           'failures', \n",
    "           'goout', \n",
    "           'Dalc', \n",
    "           'Walc', \n",
    "           'G1', \n",
    "           'G2', \n",
    "           'G3']\n",
    "student_performance_df = student_df[columns]\n",
    "student_performance_df.isnull().sum()"
   ]
  },
  {
   "cell_type": "code",
   "execution_count": 36,
   "id": "3dbd4bb6-93ff-430e-9dc7-3e7290fbba3b",
   "metadata": {},
   "outputs": [
    {
     "data": {
      "text/html": [
       "<div>\n",
       "<style scoped>\n",
       "    .dataframe tbody tr th:only-of-type {\n",
       "        vertical-align: middle;\n",
       "    }\n",
       "\n",
       "    .dataframe tbody tr th {\n",
       "        vertical-align: top;\n",
       "    }\n",
       "\n",
       "    .dataframe thead th {\n",
       "        text-align: right;\n",
       "    }\n",
       "</style>\n",
       "<table border=\"1\" class=\"dataframe\">\n",
       "  <thead>\n",
       "    <tr style=\"text-align: right;\">\n",
       "      <th></th>\n",
       "      <th>sex</th>\n",
       "      <th>age</th>\n",
       "      <th>studytime</th>\n",
       "      <th>failures</th>\n",
       "      <th>goout</th>\n",
       "      <th>Dalc</th>\n",
       "      <th>Walc</th>\n",
       "      <th>G1</th>\n",
       "      <th>G2</th>\n",
       "      <th>G3</th>\n",
       "    </tr>\n",
       "  </thead>\n",
       "  <tbody>\n",
       "    <tr>\n",
       "      <th>0</th>\n",
       "      <td>F</td>\n",
       "      <td>18</td>\n",
       "      <td>2</td>\n",
       "      <td>0</td>\n",
       "      <td>4</td>\n",
       "      <td>1</td>\n",
       "      <td>1</td>\n",
       "      <td>5</td>\n",
       "      <td>6</td>\n",
       "      <td>6</td>\n",
       "    </tr>\n",
       "    <tr>\n",
       "      <th>1</th>\n",
       "      <td>F</td>\n",
       "      <td>17</td>\n",
       "      <td>2</td>\n",
       "      <td>0</td>\n",
       "      <td>3</td>\n",
       "      <td>1</td>\n",
       "      <td>1</td>\n",
       "      <td>5</td>\n",
       "      <td>5</td>\n",
       "      <td>6</td>\n",
       "    </tr>\n",
       "    <tr>\n",
       "      <th>2</th>\n",
       "      <td>F</td>\n",
       "      <td>15</td>\n",
       "      <td>2</td>\n",
       "      <td>3</td>\n",
       "      <td>2</td>\n",
       "      <td>2</td>\n",
       "      <td>3</td>\n",
       "      <td>7</td>\n",
       "      <td>8</td>\n",
       "      <td>10</td>\n",
       "    </tr>\n",
       "    <tr>\n",
       "      <th>3</th>\n",
       "      <td>F</td>\n",
       "      <td>15</td>\n",
       "      <td>3</td>\n",
       "      <td>0</td>\n",
       "      <td>2</td>\n",
       "      <td>1</td>\n",
       "      <td>1</td>\n",
       "      <td>15</td>\n",
       "      <td>14</td>\n",
       "      <td>15</td>\n",
       "    </tr>\n",
       "    <tr>\n",
       "      <th>4</th>\n",
       "      <td>F</td>\n",
       "      <td>16</td>\n",
       "      <td>2</td>\n",
       "      <td>0</td>\n",
       "      <td>2</td>\n",
       "      <td>1</td>\n",
       "      <td>2</td>\n",
       "      <td>6</td>\n",
       "      <td>10</td>\n",
       "      <td>10</td>\n",
       "    </tr>\n",
       "  </tbody>\n",
       "</table>\n",
       "</div>"
      ],
      "text/plain": [
       "  sex  age  studytime  failures  goout  Dalc  Walc  G1  G2  G3\n",
       "0   F   18          2         0      4     1     1   5   6   6\n",
       "1   F   17          2         0      3     1     1   5   5   6\n",
       "2   F   15          2         3      2     2     3   7   8  10\n",
       "3   F   15          3         0      2     1     1  15  14  15\n",
       "4   F   16          2         0      2     1     2   6  10  10"
      ]
     },
     "execution_count": 36,
     "metadata": {},
     "output_type": "execute_result"
    }
   ],
   "source": [
    "student_performance_df.head()"
   ]
  },
  {
   "cell_type": "markdown",
   "id": "c8fc4a4e-27a9-46c1-bcb9-84f2e85bb8c4",
   "metadata": {},
   "source": [
    "Let's get a summary of the subset we are going to use for the analysis."
   ]
  },
  {
   "cell_type": "code",
   "execution_count": 37,
   "id": "2a880725-cc58-425a-b8c4-0a7e0a711ef9",
   "metadata": {},
   "outputs": [
    {
     "data": {
      "text/html": [
       "<div>\n",
       "<style scoped>\n",
       "    .dataframe tbody tr th:only-of-type {\n",
       "        vertical-align: middle;\n",
       "    }\n",
       "\n",
       "    .dataframe tbody tr th {\n",
       "        vertical-align: top;\n",
       "    }\n",
       "\n",
       "    .dataframe thead th {\n",
       "        text-align: right;\n",
       "    }\n",
       "</style>\n",
       "<table border=\"1\" class=\"dataframe\">\n",
       "  <thead>\n",
       "    <tr style=\"text-align: right;\">\n",
       "      <th></th>\n",
       "      <th>age</th>\n",
       "      <th>studytime</th>\n",
       "      <th>failures</th>\n",
       "      <th>goout</th>\n",
       "      <th>Dalc</th>\n",
       "      <th>Walc</th>\n",
       "      <th>G1</th>\n",
       "      <th>G2</th>\n",
       "      <th>G3</th>\n",
       "    </tr>\n",
       "  </thead>\n",
       "  <tbody>\n",
       "    <tr>\n",
       "      <th>count</th>\n",
       "      <td>395.000000</td>\n",
       "      <td>395.000000</td>\n",
       "      <td>395.000000</td>\n",
       "      <td>395.000000</td>\n",
       "      <td>395.000000</td>\n",
       "      <td>395.000000</td>\n",
       "      <td>395.000000</td>\n",
       "      <td>395.000000</td>\n",
       "      <td>395.000000</td>\n",
       "    </tr>\n",
       "    <tr>\n",
       "      <th>mean</th>\n",
       "      <td>16.696203</td>\n",
       "      <td>2.035443</td>\n",
       "      <td>0.334177</td>\n",
       "      <td>3.108861</td>\n",
       "      <td>1.481013</td>\n",
       "      <td>2.291139</td>\n",
       "      <td>10.908861</td>\n",
       "      <td>10.713924</td>\n",
       "      <td>10.415190</td>\n",
       "    </tr>\n",
       "    <tr>\n",
       "      <th>std</th>\n",
       "      <td>1.276043</td>\n",
       "      <td>0.839240</td>\n",
       "      <td>0.743651</td>\n",
       "      <td>1.113278</td>\n",
       "      <td>0.890741</td>\n",
       "      <td>1.287897</td>\n",
       "      <td>3.319195</td>\n",
       "      <td>3.761505</td>\n",
       "      <td>4.581443</td>\n",
       "    </tr>\n",
       "    <tr>\n",
       "      <th>min</th>\n",
       "      <td>15.000000</td>\n",
       "      <td>1.000000</td>\n",
       "      <td>0.000000</td>\n",
       "      <td>1.000000</td>\n",
       "      <td>1.000000</td>\n",
       "      <td>1.000000</td>\n",
       "      <td>3.000000</td>\n",
       "      <td>0.000000</td>\n",
       "      <td>0.000000</td>\n",
       "    </tr>\n",
       "    <tr>\n",
       "      <th>25%</th>\n",
       "      <td>16.000000</td>\n",
       "      <td>1.000000</td>\n",
       "      <td>0.000000</td>\n",
       "      <td>2.000000</td>\n",
       "      <td>1.000000</td>\n",
       "      <td>1.000000</td>\n",
       "      <td>8.000000</td>\n",
       "      <td>9.000000</td>\n",
       "      <td>8.000000</td>\n",
       "    </tr>\n",
       "    <tr>\n",
       "      <th>50%</th>\n",
       "      <td>17.000000</td>\n",
       "      <td>2.000000</td>\n",
       "      <td>0.000000</td>\n",
       "      <td>3.000000</td>\n",
       "      <td>1.000000</td>\n",
       "      <td>2.000000</td>\n",
       "      <td>11.000000</td>\n",
       "      <td>11.000000</td>\n",
       "      <td>11.000000</td>\n",
       "    </tr>\n",
       "    <tr>\n",
       "      <th>75%</th>\n",
       "      <td>18.000000</td>\n",
       "      <td>2.000000</td>\n",
       "      <td>0.000000</td>\n",
       "      <td>4.000000</td>\n",
       "      <td>2.000000</td>\n",
       "      <td>3.000000</td>\n",
       "      <td>13.000000</td>\n",
       "      <td>13.000000</td>\n",
       "      <td>14.000000</td>\n",
       "    </tr>\n",
       "    <tr>\n",
       "      <th>max</th>\n",
       "      <td>22.000000</td>\n",
       "      <td>4.000000</td>\n",
       "      <td>3.000000</td>\n",
       "      <td>5.000000</td>\n",
       "      <td>5.000000</td>\n",
       "      <td>5.000000</td>\n",
       "      <td>19.000000</td>\n",
       "      <td>19.000000</td>\n",
       "      <td>20.000000</td>\n",
       "    </tr>\n",
       "  </tbody>\n",
       "</table>\n",
       "</div>"
      ],
      "text/plain": [
       "              age   studytime    failures       goout        Dalc        Walc  \\\n",
       "count  395.000000  395.000000  395.000000  395.000000  395.000000  395.000000   \n",
       "mean    16.696203    2.035443    0.334177    3.108861    1.481013    2.291139   \n",
       "std      1.276043    0.839240    0.743651    1.113278    0.890741    1.287897   \n",
       "min     15.000000    1.000000    0.000000    1.000000    1.000000    1.000000   \n",
       "25%     16.000000    1.000000    0.000000    2.000000    1.000000    1.000000   \n",
       "50%     17.000000    2.000000    0.000000    3.000000    1.000000    2.000000   \n",
       "75%     18.000000    2.000000    0.000000    4.000000    2.000000    3.000000   \n",
       "max     22.000000    4.000000    3.000000    5.000000    5.000000    5.000000   \n",
       "\n",
       "               G1          G2          G3  \n",
       "count  395.000000  395.000000  395.000000  \n",
       "mean    10.908861   10.713924   10.415190  \n",
       "std      3.319195    3.761505    4.581443  \n",
       "min      3.000000    0.000000    0.000000  \n",
       "25%      8.000000    9.000000    8.000000  \n",
       "50%     11.000000   11.000000   11.000000  \n",
       "75%     13.000000   13.000000   14.000000  \n",
       "max     19.000000   19.000000   20.000000  "
      ]
     },
     "execution_count": 37,
     "metadata": {},
     "output_type": "execute_result"
    }
   ],
   "source": [
    "student_performance_df.describe()"
   ]
  },
  {
   "cell_type": "markdown",
   "id": "ad54fa7e-20fd-4c00-8704-6e6f5eceecdf",
   "metadata": {},
   "source": [
    "Key takeaways from summary statistics: \n",
    "\n",
    "- Final grades `G3` range from `0` to `20`, with an average of around `10.41`.\n",
    "- The average study time is about `2.03` hours.\n",
    "- Most students have zero reported failures.\n",
    "- Alcohol consumption (Dalc and Walc) and socializing habits (goout) appear to vary across the student population."
   ]
  },
  {
   "cell_type": "markdown",
   "id": "54e0a490-540d-4bc8-b6be-0aa9f37a24f4",
   "metadata": {},
   "source": [
    "Let's create a visualization to explore the final grades `G3` distribution. We will use a histogram as it allows us to see the spread."
   ]
  },
  {
   "cell_type": "code",
   "execution_count": 38,
   "id": "40baf71d-9177-41cb-b172-5369c3f835b7",
   "metadata": {},
   "outputs": [
    {
     "data": {
      "text/html": [
       "\n",
       "<style>\n",
       "  #altair-viz-c34f01b53cd444e898f138adc24b7d96.vega-embed {\n",
       "    width: 100%;\n",
       "    display: flex;\n",
       "  }\n",
       "\n",
       "  #altair-viz-c34f01b53cd444e898f138adc24b7d96.vega-embed details,\n",
       "  #altair-viz-c34f01b53cd444e898f138adc24b7d96.vega-embed details summary {\n",
       "    position: relative;\n",
       "  }\n",
       "</style>\n",
       "<div id=\"altair-viz-c34f01b53cd444e898f138adc24b7d96\"></div>\n",
       "<script type=\"text/javascript\">\n",
       "  var VEGA_DEBUG = (typeof VEGA_DEBUG == \"undefined\") ? {} : VEGA_DEBUG;\n",
       "  (function(spec, embedOpt){\n",
       "    let outputDiv = document.currentScript.previousElementSibling;\n",
       "    if (outputDiv.id !== \"altair-viz-c34f01b53cd444e898f138adc24b7d96\") {\n",
       "      outputDiv = document.getElementById(\"altair-viz-c34f01b53cd444e898f138adc24b7d96\");\n",
       "    }\n",
       "    const paths = {\n",
       "      \"vega\": \"https://cdn.jsdelivr.net/npm/vega@5?noext\",\n",
       "      \"vega-lib\": \"https://cdn.jsdelivr.net/npm/vega-lib?noext\",\n",
       "      \"vega-lite\": \"https://cdn.jsdelivr.net/npm/vega-lite@5.20.1?noext\",\n",
       "      \"vega-embed\": \"https://cdn.jsdelivr.net/npm/vega-embed@6?noext\",\n",
       "    };\n",
       "\n",
       "    function maybeLoadScript(lib, version) {\n",
       "      var key = `${lib.replace(\"-\", \"\")}_version`;\n",
       "      return (VEGA_DEBUG[key] == version) ?\n",
       "        Promise.resolve(paths[lib]) :\n",
       "        new Promise(function(resolve, reject) {\n",
       "          var s = document.createElement('script');\n",
       "          document.getElementsByTagName(\"head\")[0].appendChild(s);\n",
       "          s.async = true;\n",
       "          s.onload = () => {\n",
       "            VEGA_DEBUG[key] = version;\n",
       "            return resolve(paths[lib]);\n",
       "          };\n",
       "          s.onerror = () => reject(`Error loading script: ${paths[lib]}`);\n",
       "          s.src = paths[lib];\n",
       "        });\n",
       "    }\n",
       "\n",
       "    function showError(err) {\n",
       "      outputDiv.innerHTML = `<div class=\"error\" style=\"color:red;\">${err}</div>`;\n",
       "      throw err;\n",
       "    }\n",
       "\n",
       "    function displayChart(vegaEmbed) {\n",
       "      vegaEmbed(outputDiv, spec, embedOpt)\n",
       "        .catch(err => showError(`Javascript Error: ${err.message}<br>This usually means there's a typo in your chart specification. See the javascript console for the full traceback.`));\n",
       "    }\n",
       "\n",
       "    if(typeof define === \"function\" && define.amd) {\n",
       "      requirejs.config({paths});\n",
       "      require([\"vega-embed\"], displayChart, err => showError(`Error loading script: ${err.message}`));\n",
       "    } else {\n",
       "      maybeLoadScript(\"vega\", \"5\")\n",
       "        .then(() => maybeLoadScript(\"vega-lite\", \"5.20.1\"))\n",
       "        .then(() => maybeLoadScript(\"vega-embed\", \"6\"))\n",
       "        .catch(showError)\n",
       "        .then(() => displayChart(vegaEmbed));\n",
       "    }\n",
       "  })({\"config\": {\"view\": {\"continuousWidth\": 300, \"continuousHeight\": 300}}, \"data\": {\"name\": \"data-6cb2becb15190b8bbf9de49393672c23\"}, \"mark\": {\"type\": \"bar\"}, \"encoding\": {\"tooltip\": [{\"field\": \"G3\", \"type\": \"quantitative\"}], \"x\": {\"bin\": true, \"field\": \"G3\", \"title\": \"Final Grades (G3)\", \"type\": \"quantitative\"}, \"y\": {\"aggregate\": \"count\", \"title\": \"Number of Students\", \"type\": \"quantitative\"}}, \"height\": 200, \"title\": \"Distribution of Final Grades (G3)\", \"width\": 400, \"$schema\": \"https://vega.github.io/schema/vega-lite/v5.20.1.json\", \"datasets\": {\"data-6cb2becb15190b8bbf9de49393672c23\": [{\"sex\": \"F\", \"age\": 18, \"studytime\": 2, \"failures\": 0, \"goout\": 4, \"Dalc\": 1, \"Walc\": 1, \"G1\": 5, \"G2\": 6, \"G3\": 6}, {\"sex\": \"F\", \"age\": 17, \"studytime\": 2, \"failures\": 0, \"goout\": 3, \"Dalc\": 1, \"Walc\": 1, \"G1\": 5, \"G2\": 5, \"G3\": 6}, {\"sex\": \"F\", \"age\": 15, \"studytime\": 2, \"failures\": 3, \"goout\": 2, \"Dalc\": 2, \"Walc\": 3, \"G1\": 7, \"G2\": 8, \"G3\": 10}, {\"sex\": \"F\", \"age\": 15, \"studytime\": 3, \"failures\": 0, \"goout\": 2, \"Dalc\": 1, \"Walc\": 1, \"G1\": 15, \"G2\": 14, \"G3\": 15}, {\"sex\": \"F\", \"age\": 16, \"studytime\": 2, \"failures\": 0, \"goout\": 2, \"Dalc\": 1, \"Walc\": 2, \"G1\": 6, \"G2\": 10, \"G3\": 10}, {\"sex\": \"M\", \"age\": 16, \"studytime\": 2, \"failures\": 0, \"goout\": 2, \"Dalc\": 1, \"Walc\": 2, \"G1\": 15, \"G2\": 15, \"G3\": 15}, {\"sex\": \"M\", \"age\": 16, \"studytime\": 2, \"failures\": 0, \"goout\": 4, \"Dalc\": 1, \"Walc\": 1, \"G1\": 12, \"G2\": 12, \"G3\": 11}, {\"sex\": \"F\", \"age\": 17, \"studytime\": 2, \"failures\": 0, \"goout\": 4, \"Dalc\": 1, \"Walc\": 1, \"G1\": 6, \"G2\": 5, \"G3\": 6}, {\"sex\": \"M\", \"age\": 15, \"studytime\": 2, \"failures\": 0, \"goout\": 2, \"Dalc\": 1, \"Walc\": 1, \"G1\": 16, \"G2\": 18, \"G3\": 19}, {\"sex\": \"M\", \"age\": 15, \"studytime\": 2, \"failures\": 0, \"goout\": 1, \"Dalc\": 1, \"Walc\": 1, \"G1\": 14, \"G2\": 15, \"G3\": 15}, {\"sex\": \"F\", \"age\": 15, \"studytime\": 2, \"failures\": 0, \"goout\": 3, \"Dalc\": 1, \"Walc\": 2, \"G1\": 10, \"G2\": 8, \"G3\": 9}, {\"sex\": \"F\", \"age\": 15, \"studytime\": 3, \"failures\": 0, \"goout\": 2, \"Dalc\": 1, \"Walc\": 1, \"G1\": 10, \"G2\": 12, \"G3\": 12}, {\"sex\": \"M\", \"age\": 15, \"studytime\": 1, \"failures\": 0, \"goout\": 3, \"Dalc\": 1, \"Walc\": 3, \"G1\": 14, \"G2\": 14, \"G3\": 14}, {\"sex\": \"M\", \"age\": 15, \"studytime\": 2, \"failures\": 0, \"goout\": 3, \"Dalc\": 1, \"Walc\": 2, \"G1\": 10, \"G2\": 10, \"G3\": 11}, {\"sex\": \"M\", \"age\": 15, \"studytime\": 3, \"failures\": 0, \"goout\": 2, \"Dalc\": 1, \"Walc\": 1, \"G1\": 14, \"G2\": 16, \"G3\": 16}, {\"sex\": \"F\", \"age\": 16, \"studytime\": 1, \"failures\": 0, \"goout\": 4, \"Dalc\": 1, \"Walc\": 2, \"G1\": 14, \"G2\": 14, \"G3\": 14}, {\"sex\": \"F\", \"age\": 16, \"studytime\": 3, \"failures\": 0, \"goout\": 3, \"Dalc\": 1, \"Walc\": 2, \"G1\": 13, \"G2\": 14, \"G3\": 14}, {\"sex\": \"F\", \"age\": 16, \"studytime\": 2, \"failures\": 0, \"goout\": 2, \"Dalc\": 1, \"Walc\": 1, \"G1\": 8, \"G2\": 10, \"G3\": 10}, {\"sex\": \"M\", \"age\": 17, \"studytime\": 1, \"failures\": 3, \"goout\": 5, \"Dalc\": 2, \"Walc\": 4, \"G1\": 6, \"G2\": 5, \"G3\": 5}, {\"sex\": \"M\", \"age\": 16, \"studytime\": 1, \"failures\": 0, \"goout\": 3, \"Dalc\": 1, \"Walc\": 3, \"G1\": 8, \"G2\": 10, \"G3\": 10}, {\"sex\": \"M\", \"age\": 15, \"studytime\": 2, \"failures\": 0, \"goout\": 1, \"Dalc\": 1, \"Walc\": 1, \"G1\": 13, \"G2\": 14, \"G3\": 15}, {\"sex\": \"M\", \"age\": 15, \"studytime\": 1, \"failures\": 0, \"goout\": 2, \"Dalc\": 1, \"Walc\": 1, \"G1\": 12, \"G2\": 15, \"G3\": 15}, {\"sex\": \"M\", \"age\": 16, \"studytime\": 2, \"failures\": 0, \"goout\": 1, \"Dalc\": 1, \"Walc\": 3, \"G1\": 15, \"G2\": 15, \"G3\": 16}, {\"sex\": \"M\", \"age\": 16, \"studytime\": 2, \"failures\": 0, \"goout\": 4, \"Dalc\": 2, \"Walc\": 4, \"G1\": 13, \"G2\": 13, \"G3\": 12}, {\"sex\": \"F\", \"age\": 15, \"studytime\": 3, \"failures\": 0, \"goout\": 2, \"Dalc\": 1, \"Walc\": 1, \"G1\": 10, \"G2\": 9, \"G3\": 8}, {\"sex\": \"F\", \"age\": 16, \"studytime\": 1, \"failures\": 2, \"goout\": 2, \"Dalc\": 1, \"Walc\": 3, \"G1\": 6, \"G2\": 9, \"G3\": 8}, {\"sex\": \"M\", \"age\": 15, \"studytime\": 1, \"failures\": 0, \"goout\": 2, \"Dalc\": 1, \"Walc\": 2, \"G1\": 12, \"G2\": 12, \"G3\": 11}, {\"sex\": \"M\", \"age\": 15, \"studytime\": 1, \"failures\": 0, \"goout\": 4, \"Dalc\": 2, \"Walc\": 4, \"G1\": 15, \"G2\": 16, \"G3\": 15}, {\"sex\": \"M\", \"age\": 16, \"studytime\": 2, \"failures\": 0, \"goout\": 3, \"Dalc\": 1, \"Walc\": 1, \"G1\": 11, \"G2\": 11, \"G3\": 11}, {\"sex\": \"M\", \"age\": 16, \"studytime\": 2, \"failures\": 0, \"goout\": 5, \"Dalc\": 5, \"Walc\": 5, \"G1\": 10, \"G2\": 12, \"G3\": 11}, {\"sex\": \"M\", \"age\": 15, \"studytime\": 2, \"failures\": 0, \"goout\": 2, \"Dalc\": 3, \"Walc\": 4, \"G1\": 9, \"G2\": 11, \"G3\": 12}, {\"sex\": \"M\", \"age\": 15, \"studytime\": 2, \"failures\": 0, \"goout\": 1, \"Dalc\": 1, \"Walc\": 1, \"G1\": 17, \"G2\": 16, \"G3\": 17}, {\"sex\": \"M\", \"age\": 15, \"studytime\": 2, \"failures\": 0, \"goout\": 2, \"Dalc\": 1, \"Walc\": 1, \"G1\": 17, \"G2\": 16, \"G3\": 16}, {\"sex\": \"M\", \"age\": 15, \"studytime\": 2, \"failures\": 0, \"goout\": 2, \"Dalc\": 1, \"Walc\": 1, \"G1\": 8, \"G2\": 10, \"G3\": 12}, {\"sex\": \"M\", \"age\": 16, \"studytime\": 1, \"failures\": 0, \"goout\": 3, \"Dalc\": 1, \"Walc\": 1, \"G1\": 12, \"G2\": 14, \"G3\": 15}, {\"sex\": \"F\", \"age\": 15, \"studytime\": 1, \"failures\": 0, \"goout\": 1, \"Dalc\": 1, \"Walc\": 1, \"G1\": 8, \"G2\": 7, \"G3\": 6}, {\"sex\": \"M\", \"age\": 15, \"studytime\": 3, \"failures\": 0, \"goout\": 3, \"Dalc\": 1, \"Walc\": 1, \"G1\": 15, \"G2\": 16, \"G3\": 18}, {\"sex\": \"M\", \"age\": 16, \"studytime\": 3, \"failures\": 0, \"goout\": 3, \"Dalc\": 1, \"Walc\": 1, \"G1\": 15, \"G2\": 16, \"G3\": 15}, {\"sex\": \"F\", \"age\": 15, \"studytime\": 3, \"failures\": 0, \"goout\": 2, \"Dalc\": 1, \"Walc\": 1, \"G1\": 12, \"G2\": 12, \"G3\": 11}, {\"sex\": \"F\", \"age\": 15, \"studytime\": 1, \"failures\": 0, \"goout\": 1, \"Dalc\": 1, \"Walc\": 1, \"G1\": 14, \"G2\": 13, \"G3\": 13}, {\"sex\": \"F\", \"age\": 16, \"studytime\": 2, \"failures\": 1, \"goout\": 3, \"Dalc\": 1, \"Walc\": 2, \"G1\": 7, \"G2\": 10, \"G3\": 11}, {\"sex\": \"M\", \"age\": 15, \"studytime\": 1, \"failures\": 0, \"goout\": 3, \"Dalc\": 2, \"Walc\": 4, \"G1\": 12, \"G2\": 12, \"G3\": 12}, {\"sex\": \"M\", \"age\": 15, \"studytime\": 2, \"failures\": 0, \"goout\": 3, \"Dalc\": 1, \"Walc\": 1, \"G1\": 19, \"G2\": 18, \"G3\": 18}, {\"sex\": \"M\", \"age\": 15, \"studytime\": 1, \"failures\": 0, \"goout\": 1, \"Dalc\": 1, \"Walc\": 1, \"G1\": 8, \"G2\": 8, \"G3\": 11}, {\"sex\": \"F\", \"age\": 16, \"studytime\": 2, \"failures\": 1, \"goout\": 3, \"Dalc\": 2, \"Walc\": 2, \"G1\": 10, \"G2\": 10, \"G3\": 9}, {\"sex\": \"F\", \"age\": 15, \"studytime\": 2, \"failures\": 0, \"goout\": 2, \"Dalc\": 1, \"Walc\": 1, \"G1\": 8, \"G2\": 8, \"G3\": 6}, {\"sex\": \"F\", \"age\": 16, \"studytime\": 2, \"failures\": 0, \"goout\": 5, \"Dalc\": 1, \"Walc\": 4, \"G1\": 11, \"G2\": 12, \"G3\": 11}, {\"sex\": \"M\", \"age\": 16, \"studytime\": 4, \"failures\": 0, \"goout\": 2, \"Dalc\": 1, \"Walc\": 1, \"G1\": 19, \"G2\": 19, \"G3\": 20}, {\"sex\": \"M\", \"age\": 15, \"studytime\": 2, \"failures\": 0, \"goout\": 3, \"Dalc\": 2, \"Walc\": 2, \"G1\": 15, \"G2\": 15, \"G3\": 14}, {\"sex\": \"F\", \"age\": 15, \"studytime\": 2, \"failures\": 1, \"goout\": 4, \"Dalc\": 1, \"Walc\": 1, \"G1\": 7, \"G2\": 7, \"G3\": 7}, {\"sex\": \"F\", \"age\": 16, \"studytime\": 2, \"failures\": 0, \"goout\": 3, \"Dalc\": 2, \"Walc\": 3, \"G1\": 12, \"G2\": 13, \"G3\": 13}, {\"sex\": \"F\", \"age\": 15, \"studytime\": 2, \"failures\": 0, \"goout\": 3, \"Dalc\": 1, \"Walc\": 1, \"G1\": 11, \"G2\": 13, \"G3\": 13}, {\"sex\": \"M\", \"age\": 15, \"studytime\": 1, \"failures\": 1, \"goout\": 5, \"Dalc\": 3, \"Walc\": 4, \"G1\": 11, \"G2\": 11, \"G3\": 10}, {\"sex\": \"F\", \"age\": 15, \"studytime\": 1, \"failures\": 0, \"goout\": 4, \"Dalc\": 2, \"Walc\": 3, \"G1\": 8, \"G2\": 10, \"G3\": 11}, {\"sex\": \"F\", \"age\": 15, \"studytime\": 1, \"failures\": 0, \"goout\": 4, \"Dalc\": 4, \"Walc\": 4, \"G1\": 10, \"G2\": 13, \"G3\": 13}, {\"sex\": \"F\", \"age\": 16, \"studytime\": 2, \"failures\": 0, \"goout\": 4, \"Dalc\": 1, \"Walc\": 1, \"G1\": 8, \"G2\": 9, \"G3\": 10}, {\"sex\": \"F\", \"age\": 15, \"studytime\": 2, \"failures\": 0, \"goout\": 2, \"Dalc\": 1, \"Walc\": 1, \"G1\": 14, \"G2\": 15, \"G3\": 15}, {\"sex\": \"M\", \"age\": 15, \"studytime\": 2, \"failures\": 0, \"goout\": 2, \"Dalc\": 1, \"Walc\": 1, \"G1\": 14, \"G2\": 15, \"G3\": 15}, {\"sex\": \"M\", \"age\": 15, \"studytime\": 2, \"failures\": 0, \"goout\": 2, \"Dalc\": 1, \"Walc\": 1, \"G1\": 9, \"G2\": 10, \"G3\": 9}, {\"sex\": \"F\", \"age\": 16, \"studytime\": 2, \"failures\": 0, \"goout\": 3, \"Dalc\": 1, \"Walc\": 1, \"G1\": 15, \"G2\": 16, \"G3\": 16}, {\"sex\": \"F\", \"age\": 16, \"studytime\": 2, \"failures\": 0, \"goout\": 4, \"Dalc\": 2, \"Walc\": 3, \"G1\": 10, \"G2\": 11, \"G3\": 11}, {\"sex\": \"F\", \"age\": 16, \"studytime\": 1, \"failures\": 0, \"goout\": 5, \"Dalc\": 5, \"Walc\": 5, \"G1\": 10, \"G2\": 8, \"G3\": 11}, {\"sex\": \"F\", \"age\": 16, \"studytime\": 2, \"failures\": 0, \"goout\": 3, \"Dalc\": 1, \"Walc\": 1, \"G1\": 8, \"G2\": 10, \"G3\": 9}, {\"sex\": \"F\", \"age\": 16, \"studytime\": 3, \"failures\": 0, \"goout\": 4, \"Dalc\": 2, \"Walc\": 4, \"G1\": 10, \"G2\": 9, \"G3\": 9}, {\"sex\": \"F\", \"age\": 15, \"studytime\": 2, \"failures\": 0, \"goout\": 4, \"Dalc\": 2, \"Walc\": 4, \"G1\": 10, \"G2\": 10, \"G3\": 10}, {\"sex\": \"F\", \"age\": 16, \"studytime\": 2, \"failures\": 0, \"goout\": 3, \"Dalc\": 1, \"Walc\": 2, \"G1\": 16, \"G2\": 15, \"G3\": 15}, {\"sex\": \"M\", \"age\": 15, \"studytime\": 4, \"failures\": 0, \"goout\": 3, \"Dalc\": 5, \"Walc\": 5, \"G1\": 13, \"G2\": 13, \"G3\": 12}, {\"sex\": \"F\", \"age\": 16, \"studytime\": 4, \"failures\": 0, \"goout\": 3, \"Dalc\": 1, \"Walc\": 2, \"G1\": 7, \"G2\": 7, \"G3\": 6}, {\"sex\": \"F\", \"age\": 15, \"studytime\": 2, \"failures\": 0, \"goout\": 3, \"Dalc\": 1, \"Walc\": 3, \"G1\": 8, \"G2\": 9, \"G3\": 8}, {\"sex\": \"F\", \"age\": 15, \"studytime\": 4, \"failures\": 0, \"goout\": 2, \"Dalc\": 2, \"Walc\": 3, \"G1\": 16, \"G2\": 16, \"G3\": 16}, {\"sex\": \"M\", \"age\": 16, \"studytime\": 4, \"failures\": 0, \"goout\": 2, \"Dalc\": 1, \"Walc\": 1, \"G1\": 13, \"G2\": 15, \"G3\": 15}, {\"sex\": \"M\", \"age\": 15, \"studytime\": 4, \"failures\": 0, \"goout\": 3, \"Dalc\": 1, \"Walc\": 1, \"G1\": 10, \"G2\": 10, \"G3\": 10}, {\"sex\": \"F\", \"age\": 15, \"studytime\": 2, \"failures\": 2, \"goout\": 4, \"Dalc\": 2, \"Walc\": 4, \"G1\": 8, \"G2\": 6, \"G3\": 5}, {\"sex\": \"M\", \"age\": 16, \"studytime\": 1, \"failures\": 0, \"goout\": 2, \"Dalc\": 2, \"Walc\": 2, \"G1\": 12, \"G2\": 12, \"G3\": 14}, {\"sex\": \"F\", \"age\": 16, \"studytime\": 2, \"failures\": 0, \"goout\": 3, \"Dalc\": 2, \"Walc\": 4, \"G1\": 11, \"G2\": 12, \"G3\": 11}, {\"sex\": \"M\", \"age\": 15, \"studytime\": 2, \"failures\": 0, \"goout\": 3, \"Dalc\": 2, \"Walc\": 3, \"G1\": 9, \"G2\": 9, \"G3\": 10}, {\"sex\": \"M\", \"age\": 15, \"studytime\": 4, \"failures\": 0, \"goout\": 3, \"Dalc\": 1, \"Walc\": 1, \"G1\": 11, \"G2\": 11, \"G3\": 10}, {\"sex\": \"F\", \"age\": 16, \"studytime\": 4, \"failures\": 0, \"goout\": 3, \"Dalc\": 1, \"Walc\": 3, \"G1\": 11, \"G2\": 11, \"G3\": 11}, {\"sex\": \"M\", \"age\": 17, \"studytime\": 1, \"failures\": 3, \"goout\": 1, \"Dalc\": 1, \"Walc\": 1, \"G1\": 8, \"G2\": 8, \"G3\": 10}, {\"sex\": \"F\", \"age\": 16, \"studytime\": 2, \"failures\": 0, \"goout\": 3, \"Dalc\": 1, \"Walc\": 2, \"G1\": 5, \"G2\": 5, \"G3\": 5}, {\"sex\": \"M\", \"age\": 15, \"studytime\": 1, \"failures\": 0, \"goout\": 2, \"Dalc\": 1, \"Walc\": 3, \"G1\": 10, \"G2\": 12, \"G3\": 12}, {\"sex\": \"M\", \"age\": 15, \"studytime\": 3, \"failures\": 0, \"goout\": 2, \"Dalc\": 1, \"Walc\": 2, \"G1\": 11, \"G2\": 10, \"G3\": 11}, {\"sex\": \"F\", \"age\": 15, \"studytime\": 2, \"failures\": 0, \"goout\": 4, \"Dalc\": 1, \"Walc\": 1, \"G1\": 7, \"G2\": 6, \"G3\": 6}, {\"sex\": \"M\", \"age\": 15, \"studytime\": 2, \"failures\": 0, \"goout\": 3, \"Dalc\": 1, \"Walc\": 3, \"G1\": 15, \"G2\": 15, \"G3\": 15}, {\"sex\": \"F\", \"age\": 15, \"studytime\": 2, \"failures\": 0, \"goout\": 2, \"Dalc\": 2, \"Walc\": 3, \"G1\": 9, \"G2\": 10, \"G3\": 10}, {\"sex\": \"F\", \"age\": 15, \"studytime\": 2, \"failures\": 2, \"goout\": 4, \"Dalc\": 2, \"Walc\": 3, \"G1\": 7, \"G2\": 9, \"G3\": 8}, {\"sex\": \"F\", \"age\": 16, \"studytime\": 2, \"failures\": 0, \"goout\": 4, \"Dalc\": 1, \"Walc\": 2, \"G1\": 8, \"G2\": 7, \"G3\": 6}, {\"sex\": \"F\", \"age\": 15, \"studytime\": 3, \"failures\": 0, \"goout\": 3, \"Dalc\": 1, \"Walc\": 3, \"G1\": 13, \"G2\": 14, \"G3\": 14}, {\"sex\": \"M\", \"age\": 16, \"studytime\": 2, \"failures\": 1, \"goout\": 2, \"Dalc\": 1, \"Walc\": 1, \"G1\": 11, \"G2\": 10, \"G3\": 10}, {\"sex\": \"M\", \"age\": 16, \"studytime\": 2, \"failures\": 0, \"goout\": 3, \"Dalc\": 3, \"Walc\": 5, \"G1\": 8, \"G2\": 6, \"G3\": 7}, {\"sex\": \"F\", \"age\": 16, \"studytime\": 3, \"failures\": 0, \"goout\": 3, \"Dalc\": 1, \"Walc\": 3, \"G1\": 7, \"G2\": 7, \"G3\": 8}, {\"sex\": \"F\", \"age\": 15, \"studytime\": 1, \"failures\": 0, \"goout\": 5, \"Dalc\": 1, \"Walc\": 3, \"G1\": 16, \"G2\": 17, \"G3\": 18}, {\"sex\": \"F\", \"age\": 16, \"studytime\": 2, \"failures\": 0, \"goout\": 3, \"Dalc\": 2, \"Walc\": 3, \"G1\": 7, \"G2\": 6, \"G3\": 6}, {\"sex\": \"F\", \"age\": 16, \"studytime\": 2, \"failures\": 0, \"goout\": 3, \"Dalc\": 1, \"Walc\": 1, \"G1\": 11, \"G2\": 10, \"G3\": 10}, {\"sex\": \"M\", \"age\": 15, \"studytime\": 4, \"failures\": 0, \"goout\": 4, \"Dalc\": 1, \"Walc\": 1, \"G1\": 11, \"G2\": 13, \"G3\": 14}, {\"sex\": \"F\", \"age\": 15, \"studytime\": 4, \"failures\": 1, \"goout\": 2, \"Dalc\": 1, \"Walc\": 1, \"G1\": 7, \"G2\": 10, \"G3\": 10}, {\"sex\": \"M\", \"age\": 16, \"studytime\": 1, \"failures\": 0, \"goout\": 3, \"Dalc\": 1, \"Walc\": 1, \"G1\": 11, \"G2\": 15, \"G3\": 15}, {\"sex\": \"F\", \"age\": 16, \"studytime\": 2, \"failures\": 0, \"goout\": 5, \"Dalc\": 1, \"Walc\": 1, \"G1\": 8, \"G2\": 9, \"G3\": 10}, {\"sex\": \"F\", \"age\": 16, \"studytime\": 1, \"failures\": 0, \"goout\": 4, \"Dalc\": 1, \"Walc\": 2, \"G1\": 11, \"G2\": 14, \"G3\": 14}, {\"sex\": \"F\", \"age\": 16, \"studytime\": 3, \"failures\": 0, \"goout\": 5, \"Dalc\": 1, \"Walc\": 1, \"G1\": 7, \"G2\": 9, \"G3\": 8}, {\"sex\": \"M\", \"age\": 16, \"studytime\": 1, \"failures\": 0, \"goout\": 5, \"Dalc\": 5, \"Walc\": 5, \"G1\": 7, \"G2\": 7, \"G3\": 5}, {\"sex\": \"M\", \"age\": 16, \"studytime\": 3, \"failures\": 0, \"goout\": 3, \"Dalc\": 1, \"Walc\": 1, \"G1\": 16, \"G2\": 17, \"G3\": 17}, {\"sex\": \"M\", \"age\": 15, \"studytime\": 1, \"failures\": 0, \"goout\": 3, \"Dalc\": 1, \"Walc\": 1, \"G1\": 10, \"G2\": 13, \"G3\": 14}, {\"sex\": \"F\", \"age\": 15, \"studytime\": 2, \"failures\": 0, \"goout\": 5, \"Dalc\": 1, \"Walc\": 1, \"G1\": 7, \"G2\": 6, \"G3\": 6}, {\"sex\": \"M\", \"age\": 15, \"studytime\": 2, \"failures\": 0, \"goout\": 4, \"Dalc\": 1, \"Walc\": 1, \"G1\": 16, \"G2\": 18, \"G3\": 18}, {\"sex\": \"F\", \"age\": 15, \"studytime\": 4, \"failures\": 0, \"goout\": 3, \"Dalc\": 1, \"Walc\": 1, \"G1\": 10, \"G2\": 11, \"G3\": 11}, {\"sex\": \"F\", \"age\": 15, \"studytime\": 4, \"failures\": 0, \"goout\": 2, \"Dalc\": 1, \"Walc\": 1, \"G1\": 7, \"G2\": 8, \"G3\": 8}, {\"sex\": \"M\", \"age\": 16, \"studytime\": 3, \"failures\": 0, \"goout\": 3, \"Dalc\": 1, \"Walc\": 1, \"G1\": 16, \"G2\": 18, \"G3\": 18}, {\"sex\": \"M\", \"age\": 15, \"studytime\": 4, \"failures\": 0, \"goout\": 5, \"Dalc\": 3, \"Walc\": 5, \"G1\": 10, \"G2\": 13, \"G3\": 13}, {\"sex\": \"F\", \"age\": 16, \"studytime\": 3, \"failures\": 0, \"goout\": 5, \"Dalc\": 1, \"Walc\": 1, \"G1\": 14, \"G2\": 15, \"G3\": 16}, {\"sex\": \"M\", \"age\": 15, \"studytime\": 1, \"failures\": 0, \"goout\": 3, \"Dalc\": 1, \"Walc\": 1, \"G1\": 18, \"G2\": 19, \"G3\": 19}, {\"sex\": \"F\", \"age\": 16, \"studytime\": 3, \"failures\": 1, \"goout\": 2, \"Dalc\": 1, \"Walc\": 1, \"G1\": 7, \"G2\": 10, \"G3\": 10}, {\"sex\": \"F\", \"age\": 16, \"studytime\": 2, \"failures\": 1, \"goout\": 2, \"Dalc\": 1, \"Walc\": 1, \"G1\": 10, \"G2\": 13, \"G3\": 13}, {\"sex\": \"M\", \"age\": 15, \"studytime\": 1, \"failures\": 0, \"goout\": 2, \"Dalc\": 1, \"Walc\": 1, \"G1\": 18, \"G2\": 19, \"G3\": 19}, {\"sex\": \"M\", \"age\": 15, \"studytime\": 2, \"failures\": 0, \"goout\": 2, \"Dalc\": 1, \"Walc\": 1, \"G1\": 9, \"G2\": 9, \"G3\": 9}, {\"sex\": \"M\", \"age\": 16, \"studytime\": 2, \"failures\": 0, \"goout\": 4, \"Dalc\": 1, \"Walc\": 2, \"G1\": 15, \"G2\": 15, \"G3\": 16}, {\"sex\": \"M\", \"age\": 15, \"studytime\": 2, \"failures\": 0, \"goout\": 3, \"Dalc\": 1, \"Walc\": 1, \"G1\": 11, \"G2\": 13, \"G3\": 14}, {\"sex\": \"M\", \"age\": 16, \"studytime\": 1, \"failures\": 0, \"goout\": 2, \"Dalc\": 1, \"Walc\": 1, \"G1\": 13, \"G2\": 14, \"G3\": 13}, {\"sex\": \"M\", \"age\": 17, \"studytime\": 2, \"failures\": 1, \"goout\": 4, \"Dalc\": 1, \"Walc\": 4, \"G1\": 9, \"G2\": 7, \"G3\": 8}, {\"sex\": \"M\", \"age\": 15, \"studytime\": 1, \"failures\": 0, \"goout\": 3, \"Dalc\": 1, \"Walc\": 2, \"G1\": 14, \"G2\": 13, \"G3\": 13}, {\"sex\": \"F\", \"age\": 15, \"studytime\": 2, \"failures\": 0, \"goout\": 3, \"Dalc\": 1, \"Walc\": 2, \"G1\": 16, \"G2\": 15, \"G3\": 15}, {\"sex\": \"M\", \"age\": 15, \"studytime\": 4, \"failures\": 0, \"goout\": 4, \"Dalc\": 1, \"Walc\": 2, \"G1\": 16, \"G2\": 14, \"G3\": 15}, {\"sex\": \"F\", \"age\": 16, \"studytime\": 2, \"failures\": 0, \"goout\": 2, \"Dalc\": 1, \"Walc\": 2, \"G1\": 13, \"G2\": 13, \"G3\": 13}, {\"sex\": \"M\", \"age\": 16, \"studytime\": 1, \"failures\": 0, \"goout\": 4, \"Dalc\": 1, \"Walc\": 4, \"G1\": 14, \"G2\": 11, \"G3\": 13}, {\"sex\": \"F\", \"age\": 16, \"studytime\": 2, \"failures\": 0, \"goout\": 4, \"Dalc\": 1, \"Walc\": 1, \"G1\": 8, \"G2\": 7, \"G3\": 8}, {\"sex\": \"M\", \"age\": 15, \"studytime\": 1, \"failures\": 0, \"goout\": 5, \"Dalc\": 3, \"Walc\": 2, \"G1\": 13, \"G2\": 13, \"G3\": 12}, {\"sex\": \"F\", \"age\": 15, \"studytime\": 2, \"failures\": 0, \"goout\": 2, \"Dalc\": 1, \"Walc\": 1, \"G1\": 7, \"G2\": 10, \"G3\": 11}, {\"sex\": \"F\", \"age\": 19, \"studytime\": 2, \"failures\": 3, \"goout\": 2, \"Dalc\": 1, \"Walc\": 1, \"G1\": 7, \"G2\": 8, \"G3\": 9}, {\"sex\": \"M\", \"age\": 18, \"studytime\": 1, \"failures\": 2, \"goout\": 3, \"Dalc\": 1, \"Walc\": 2, \"G1\": 7, \"G2\": 4, \"G3\": 0}, {\"sex\": \"M\", \"age\": 16, \"studytime\": 1, \"failures\": 0, \"goout\": 5, \"Dalc\": 2, \"Walc\": 5, \"G1\": 18, \"G2\": 18, \"G3\": 18}, {\"sex\": \"F\", \"age\": 15, \"studytime\": 3, \"failures\": 2, \"goout\": 2, \"Dalc\": 2, \"Walc\": 2, \"G1\": 12, \"G2\": 0, \"G3\": 0}, {\"sex\": \"F\", \"age\": 15, \"studytime\": 1, \"failures\": 0, \"goout\": 3, \"Dalc\": 1, \"Walc\": 2, \"G1\": 8, \"G2\": 0, \"G3\": 0}, {\"sex\": \"F\", \"age\": 17, \"studytime\": 1, \"failures\": 0, \"goout\": 4, \"Dalc\": 1, \"Walc\": 3, \"G1\": 10, \"G2\": 13, \"G3\": 12}, {\"sex\": \"F\", \"age\": 16, \"studytime\": 1, \"failures\": 0, \"goout\": 1, \"Dalc\": 1, \"Walc\": 4, \"G1\": 12, \"G2\": 11, \"G3\": 11}, {\"sex\": \"M\", \"age\": 15, \"studytime\": 2, \"failures\": 0, \"goout\": 3, \"Dalc\": 1, \"Walc\": 1, \"G1\": 9, \"G2\": 0, \"G3\": 0}, {\"sex\": \"F\", \"age\": 15, \"studytime\": 3, \"failures\": 0, \"goout\": 3, \"Dalc\": 1, \"Walc\": 1, \"G1\": 11, \"G2\": 0, \"G3\": 0}, {\"sex\": \"M\", \"age\": 17, \"studytime\": 2, \"failures\": 0, \"goout\": 5, \"Dalc\": 2, \"Walc\": 4, \"G1\": 10, \"G2\": 0, \"G3\": 0}, {\"sex\": \"F\", \"age\": 16, \"studytime\": 1, \"failures\": 2, \"goout\": 2, \"Dalc\": 1, \"Walc\": 1, \"G1\": 4, \"G2\": 0, \"G3\": 0}, {\"sex\": \"M\", \"age\": 16, \"studytime\": 2, \"failures\": 1, \"goout\": 4, \"Dalc\": 1, \"Walc\": 3, \"G1\": 14, \"G2\": 12, \"G3\": 12}, {\"sex\": \"F\", \"age\": 15, \"studytime\": 1, \"failures\": 0, \"goout\": 2, \"Dalc\": 1, \"Walc\": 1, \"G1\": 16, \"G2\": 16, \"G3\": 15}, {\"sex\": \"M\", \"age\": 15, \"studytime\": 4, \"failures\": 0, \"goout\": 2, \"Dalc\": 1, \"Walc\": 1, \"G1\": 7, \"G2\": 9, \"G3\": 0}, {\"sex\": \"M\", \"age\": 16, \"studytime\": 1, \"failures\": 2, \"goout\": 3, \"Dalc\": 2, \"Walc\": 2, \"G1\": 9, \"G2\": 9, \"G3\": 9}, {\"sex\": \"F\", \"age\": 15, \"studytime\": 3, \"failures\": 0, \"goout\": 2, \"Dalc\": 1, \"Walc\": 1, \"G1\": 9, \"G2\": 11, \"G3\": 11}, {\"sex\": \"F\", \"age\": 16, \"studytime\": 1, \"failures\": 0, \"goout\": 4, \"Dalc\": 3, \"Walc\": 3, \"G1\": 14, \"G2\": 14, \"G3\": 13}, {\"sex\": \"M\", \"age\": 17, \"studytime\": 1, \"failures\": 3, \"goout\": 5, \"Dalc\": 1, \"Walc\": 2, \"G1\": 5, \"G2\": 0, \"G3\": 0}, {\"sex\": \"F\", \"age\": 15, \"studytime\": 2, \"failures\": 0, \"goout\": 2, \"Dalc\": 1, \"Walc\": 2, \"G1\": 8, \"G2\": 11, \"G3\": 11}, {\"sex\": \"F\", \"age\": 15, \"studytime\": 2, \"failures\": 3, \"goout\": 2, \"Dalc\": 1, \"Walc\": 1, \"G1\": 6, \"G2\": 7, \"G3\": 0}, {\"sex\": \"F\", \"age\": 15, \"studytime\": 2, \"failures\": 0, \"goout\": 2, \"Dalc\": 1, \"Walc\": 1, \"G1\": 10, \"G2\": 11, \"G3\": 11}, {\"sex\": \"M\", \"age\": 16, \"studytime\": 1, \"failures\": 0, \"goout\": 2, \"Dalc\": 2, \"Walc\": 1, \"G1\": 7, \"G2\": 6, \"G3\": 0}, {\"sex\": \"M\", \"age\": 15, \"studytime\": 1, \"failures\": 3, \"goout\": 5, \"Dalc\": 2, \"Walc\": 5, \"G1\": 8, \"G2\": 9, \"G3\": 10}, {\"sex\": \"M\", \"age\": 18, \"studytime\": 1, \"failures\": 3, \"goout\": 5, \"Dalc\": 2, \"Walc\": 5, \"G1\": 6, \"G2\": 5, \"G3\": 0}, {\"sex\": \"M\", \"age\": 16, \"studytime\": 1, \"failures\": 1, \"goout\": 4, \"Dalc\": 3, \"Walc\": 5, \"G1\": 12, \"G2\": 13, \"G3\": 14}, {\"sex\": \"F\", \"age\": 15, \"studytime\": 3, \"failures\": 2, \"goout\": 1, \"Dalc\": 2, \"Walc\": 3, \"G1\": 10, \"G2\": 10, \"G3\": 10}, {\"sex\": \"M\", \"age\": 19, \"studytime\": 1, \"failures\": 3, \"goout\": 4, \"Dalc\": 1, \"Walc\": 1, \"G1\": 5, \"G2\": 0, \"G3\": 0}, {\"sex\": \"F\", \"age\": 17, \"studytime\": 1, \"failures\": 0, \"goout\": 1, \"Dalc\": 1, \"Walc\": 1, \"G1\": 11, \"G2\": 11, \"G3\": 12}, {\"sex\": \"M\", \"age\": 15, \"studytime\": 2, \"failures\": 0, \"goout\": 4, \"Dalc\": 1, \"Walc\": 1, \"G1\": 11, \"G2\": 8, \"G3\": 8}, {\"sex\": \"M\", \"age\": 17, \"studytime\": 1, \"failures\": 0, \"goout\": 2, \"Dalc\": 3, \"Walc\": 3, \"G1\": 16, \"G2\": 12, \"G3\": 13}, {\"sex\": \"F\", \"age\": 18, \"studytime\": 1, \"failures\": 3, \"goout\": 5, \"Dalc\": 1, \"Walc\": 5, \"G1\": 9, \"G2\": 8, \"G3\": 10}, {\"sex\": \"M\", \"age\": 16, \"studytime\": 1, \"failures\": 0, \"goout\": 2, \"Dalc\": 1, \"Walc\": 2, \"G1\": 17, \"G2\": 15, \"G3\": 15}, {\"sex\": \"M\", \"age\": 16, \"studytime\": 2, \"failures\": 1, \"goout\": 5, \"Dalc\": 4, \"Walc\": 4, \"G1\": 10, \"G2\": 12, \"G3\": 12}, {\"sex\": \"M\", \"age\": 17, \"studytime\": 1, \"failures\": 2, \"goout\": 2, \"Dalc\": 2, \"Walc\": 2, \"G1\": 7, \"G2\": 6, \"G3\": 0}, {\"sex\": \"M\", \"age\": 15, \"studytime\": 2, \"failures\": 2, \"goout\": 4, \"Dalc\": 1, \"Walc\": 4, \"G1\": 5, \"G2\": 9, \"G3\": 7}, {\"sex\": \"M\", \"age\": 16, \"studytime\": 1, \"failures\": 1, \"goout\": 4, \"Dalc\": 2, \"Walc\": 4, \"G1\": 7, \"G2\": 0, \"G3\": 0}, {\"sex\": \"M\", \"age\": 17, \"studytime\": 1, \"failures\": 0, \"goout\": 3, \"Dalc\": 1, \"Walc\": 4, \"G1\": 10, \"G2\": 10, \"G3\": 10}, {\"sex\": \"M\", \"age\": 17, \"studytime\": 2, \"failures\": 3, \"goout\": 5, \"Dalc\": 1, \"Walc\": 5, \"G1\": 5, \"G2\": 8, \"G3\": 7}, {\"sex\": \"M\", \"age\": 16, \"studytime\": 1, \"failures\": 1, \"goout\": 2, \"Dalc\": 1, \"Walc\": 1, \"G1\": 12, \"G2\": 11, \"G3\": 12}, {\"sex\": \"M\", \"age\": 16, \"studytime\": 2, \"failures\": 0, \"goout\": 5, \"Dalc\": 2, \"Walc\": 4, \"G1\": 10, \"G2\": 10, \"G3\": 10}, {\"sex\": \"F\", \"age\": 16, \"studytime\": 2, \"failures\": 0, \"goout\": 3, \"Dalc\": 1, \"Walc\": 1, \"G1\": 14, \"G2\": 15, \"G3\": 16}, {\"sex\": \"F\", \"age\": 16, \"studytime\": 2, \"failures\": 0, \"goout\": 5, \"Dalc\": 1, \"Walc\": 1, \"G1\": 6, \"G2\": 7, \"G3\": 0}, {\"sex\": \"F\", \"age\": 16, \"studytime\": 2, \"failures\": 0, \"goout\": 2, \"Dalc\": 1, \"Walc\": 1, \"G1\": 14, \"G2\": 14, \"G3\": 14}, {\"sex\": \"M\", \"age\": 16, \"studytime\": 1, \"failures\": 2, \"goout\": 5, \"Dalc\": 2, \"Walc\": 4, \"G1\": 6, \"G2\": 5, \"G3\": 0}, {\"sex\": \"M\", \"age\": 16, \"studytime\": 2, \"failures\": 0, \"goout\": 2, \"Dalc\": 1, \"Walc\": 1, \"G1\": 13, \"G2\": 15, \"G3\": 16}, {\"sex\": \"M\", \"age\": 17, \"studytime\": 2, \"failures\": 0, \"goout\": 4, \"Dalc\": 1, \"Walc\": 3, \"G1\": 13, \"G2\": 11, \"G3\": 10}, {\"sex\": \"F\", \"age\": 16, \"studytime\": 2, \"failures\": 3, \"goout\": 5, \"Dalc\": 1, \"Walc\": 1, \"G1\": 8, \"G2\": 7, \"G3\": 0}, {\"sex\": \"F\", \"age\": 16, \"studytime\": 2, \"failures\": 0, \"goout\": 5, \"Dalc\": 1, \"Walc\": 1, \"G1\": 10, \"G2\": 11, \"G3\": 9}, {\"sex\": \"M\", \"age\": 17, \"studytime\": 2, \"failures\": 0, \"goout\": 4, \"Dalc\": 4, \"Walc\": 4, \"G1\": 10, \"G2\": 9, \"G3\": 9}, {\"sex\": \"F\", \"age\": 16, \"studytime\": 2, \"failures\": 0, \"goout\": 4, \"Dalc\": 1, \"Walc\": 4, \"G1\": 13, \"G2\": 13, \"G3\": 11}, {\"sex\": \"M\", \"age\": 17, \"studytime\": 2, \"failures\": 0, \"goout\": 4, \"Dalc\": 1, \"Walc\": 4, \"G1\": 6, \"G2\": 5, \"G3\": 6}, {\"sex\": \"M\", \"age\": 16, \"studytime\": 1, \"failures\": 0, \"goout\": 3, \"Dalc\": 3, \"Walc\": 4, \"G1\": 10, \"G2\": 8, \"G3\": 9}, {\"sex\": \"M\", \"age\": 17, \"studytime\": 2, \"failures\": 0, \"goout\": 3, \"Dalc\": 1, \"Walc\": 1, \"G1\": 10, \"G2\": 10, \"G3\": 11}, {\"sex\": \"M\", \"age\": 16, \"studytime\": 2, \"failures\": 0, \"goout\": 3, \"Dalc\": 2, \"Walc\": 3, \"G1\": 9, \"G2\": 8, \"G3\": 8}, {\"sex\": \"M\", \"age\": 16, \"studytime\": 2, \"failures\": 0, \"goout\": 3, \"Dalc\": 1, \"Walc\": 2, \"G1\": 12, \"G2\": 13, \"G3\": 12}, {\"sex\": \"F\", \"age\": 17, \"studytime\": 2, \"failures\": 0, \"goout\": 2, \"Dalc\": 2, \"Walc\": 3, \"G1\": 16, \"G2\": 17, \"G3\": 17}, {\"sex\": \"F\", \"age\": 17, \"studytime\": 2, \"failures\": 0, \"goout\": 3, \"Dalc\": 2, \"Walc\": 3, \"G1\": 9, \"G2\": 9, \"G3\": 8}, {\"sex\": \"F\", \"age\": 16, \"studytime\": 2, \"failures\": 0, \"goout\": 2, \"Dalc\": 1, \"Walc\": 2, \"G1\": 12, \"G2\": 13, \"G3\": 12}, {\"sex\": \"M\", \"age\": 17, \"studytime\": 2, \"failures\": 0, \"goout\": 4, \"Dalc\": 2, \"Walc\": 3, \"G1\": 12, \"G2\": 12, \"G3\": 11}, {\"sex\": \"M\", \"age\": 16, \"studytime\": 1, \"failures\": 0, \"goout\": 3, \"Dalc\": 1, \"Walc\": 2, \"G1\": 11, \"G2\": 12, \"G3\": 11}, {\"sex\": \"M\", \"age\": 16, \"studytime\": 2, \"failures\": 0, \"goout\": 3, \"Dalc\": 1, \"Walc\": 2, \"G1\": 15, \"G2\": 15, \"G3\": 15}, {\"sex\": \"F\", \"age\": 17, \"studytime\": 2, \"failures\": 0, \"goout\": 3, \"Dalc\": 1, \"Walc\": 3, \"G1\": 8, \"G2\": 7, \"G3\": 9}, {\"sex\": \"M\", \"age\": 17, \"studytime\": 2, \"failures\": 0, \"goout\": 3, \"Dalc\": 1, \"Walc\": 5, \"G1\": 8, \"G2\": 9, \"G3\": 10}, {\"sex\": \"F\", \"age\": 16, \"studytime\": 2, \"failures\": 0, \"goout\": 3, \"Dalc\": 1, \"Walc\": 1, \"G1\": 11, \"G2\": 12, \"G3\": 13}, {\"sex\": \"F\", \"age\": 17, \"studytime\": 2, \"failures\": 0, \"goout\": 3, \"Dalc\": 1, \"Walc\": 1, \"G1\": 8, \"G2\": 8, \"G3\": 9}, {\"sex\": \"M\", \"age\": 17, \"studytime\": 2, \"failures\": 0, \"goout\": 4, \"Dalc\": 4, \"Walc\": 5, \"G1\": 7, \"G2\": 8, \"G3\": 8}, {\"sex\": \"M\", \"age\": 16, \"studytime\": 1, \"failures\": 0, \"goout\": 2, \"Dalc\": 3, \"Walc\": 4, \"G1\": 8, \"G2\": 9, \"G3\": 10}, {\"sex\": \"M\", \"age\": 16, \"studytime\": 1, \"failures\": 0, \"goout\": 3, \"Dalc\": 1, \"Walc\": 1, \"G1\": 13, \"G2\": 14, \"G3\": 14}, {\"sex\": \"F\", \"age\": 17, \"studytime\": 2, \"failures\": 0, \"goout\": 2, \"Dalc\": 1, \"Walc\": 1, \"G1\": 14, \"G2\": 15, \"G3\": 15}, {\"sex\": \"M\", \"age\": 17, \"studytime\": 1, \"failures\": 0, \"goout\": 3, \"Dalc\": 1, \"Walc\": 2, \"G1\": 17, \"G2\": 15, \"G3\": 16}, {\"sex\": \"M\", \"age\": 16, \"studytime\": 1, \"failures\": 0, \"goout\": 4, \"Dalc\": 3, \"Walc\": 5, \"G1\": 9, \"G2\": 9, \"G3\": 10}, {\"sex\": \"F\", \"age\": 17, \"studytime\": 1, \"failures\": 1, \"goout\": 4, \"Dalc\": 2, \"Walc\": 3, \"G1\": 18, \"G2\": 18, \"G3\": 18}, {\"sex\": \"F\", \"age\": 16, \"studytime\": 2, \"failures\": 0, \"goout\": 2, \"Dalc\": 1, \"Walc\": 2, \"G1\": 9, \"G2\": 9, \"G3\": 10}, {\"sex\": \"F\", \"age\": 16, \"studytime\": 2, \"failures\": 0, \"goout\": 5, \"Dalc\": 1, \"Walc\": 5, \"G1\": 16, \"G2\": 16, \"G3\": 16}, {\"sex\": \"F\", \"age\": 16, \"studytime\": 2, \"failures\": 0, \"goout\": 3, \"Dalc\": 1, \"Walc\": 3, \"G1\": 8, \"G2\": 10, \"G3\": 10}, {\"sex\": \"F\", \"age\": 17, \"studytime\": 2, \"failures\": 0, \"goout\": 4, \"Dalc\": 1, \"Walc\": 3, \"G1\": 9, \"G2\": 9, \"G3\": 10}, {\"sex\": \"F\", \"age\": 17, \"studytime\": 1, \"failures\": 0, \"goout\": 2, \"Dalc\": 1, \"Walc\": 2, \"G1\": 7, \"G2\": 6, \"G3\": 6}, {\"sex\": \"F\", \"age\": 16, \"studytime\": 4, \"failures\": 0, \"goout\": 5, \"Dalc\": 1, \"Walc\": 1, \"G1\": 10, \"G2\": 10, \"G3\": 11}, {\"sex\": \"F\", \"age\": 17, \"studytime\": 3, \"failures\": 1, \"goout\": 3, \"Dalc\": 3, \"Walc\": 4, \"G1\": 10, \"G2\": 9, \"G3\": 9}, {\"sex\": \"F\", \"age\": 16, \"studytime\": 2, \"failures\": 3, \"goout\": 3, \"Dalc\": 2, \"Walc\": 2, \"G1\": 7, \"G2\": 7, \"G3\": 7}, {\"sex\": \"F\", \"age\": 16, \"studytime\": 2, \"failures\": 0, \"goout\": 2, \"Dalc\": 1, \"Walc\": 1, \"G1\": 11, \"G2\": 12, \"G3\": 13}, {\"sex\": \"F\", \"age\": 16, \"studytime\": 1, \"failures\": 0, \"goout\": 2, \"Dalc\": 1, \"Walc\": 4, \"G1\": 9, \"G2\": 9, \"G3\": 10}, {\"sex\": \"F\", \"age\": 17, \"studytime\": 3, \"failures\": 0, \"goout\": 2, \"Dalc\": 1, \"Walc\": 1, \"G1\": 7, \"G2\": 7, \"G3\": 7}, {\"sex\": \"F\", \"age\": 19, \"studytime\": 4, \"failures\": 0, \"goout\": 3, \"Dalc\": 1, \"Walc\": 2, \"G1\": 8, \"G2\": 8, \"G3\": 8}, {\"sex\": \"M\", \"age\": 17, \"studytime\": 2, \"failures\": 0, \"goout\": 5, \"Dalc\": 4, \"Walc\": 5, \"G1\": 12, \"G2\": 12, \"G3\": 13}, {\"sex\": \"F\", \"age\": 16, \"studytime\": 2, \"failures\": 0, \"goout\": 4, \"Dalc\": 1, \"Walc\": 1, \"G1\": 12, \"G2\": 13, \"G3\": 14}, {\"sex\": \"M\", \"age\": 18, \"studytime\": 2, \"failures\": 1, \"goout\": 4, \"Dalc\": 2, \"Walc\": 4, \"G1\": 6, \"G2\": 7, \"G3\": 8}, {\"sex\": \"F\", \"age\": 17, \"studytime\": 1, \"failures\": 0, \"goout\": 1, \"Dalc\": 1, \"Walc\": 2, \"G1\": 8, \"G2\": 10, \"G3\": 10}, {\"sex\": \"F\", \"age\": 17, \"studytime\": 2, \"failures\": 0, \"goout\": 4, \"Dalc\": 1, \"Walc\": 3, \"G1\": 14, \"G2\": 15, \"G3\": 15}, {\"sex\": \"F\", \"age\": 17, \"studytime\": 2, \"failures\": 2, \"goout\": 5, \"Dalc\": 2, \"Walc\": 4, \"G1\": 6, \"G2\": 6, \"G3\": 4}, {\"sex\": \"M\", \"age\": 18, \"studytime\": 2, \"failures\": 1, \"goout\": 4, \"Dalc\": 2, \"Walc\": 4, \"G1\": 6, \"G2\": 6, \"G3\": 8}, {\"sex\": \"F\", \"age\": 17, \"studytime\": 1, \"failures\": 0, \"goout\": 3, \"Dalc\": 1, \"Walc\": 4, \"G1\": 7, \"G2\": 7, \"G3\": 8}, {\"sex\": \"F\", \"age\": 17, \"studytime\": 3, \"failures\": 0, \"goout\": 3, \"Dalc\": 1, \"Walc\": 1, \"G1\": 9, \"G2\": 10, \"G3\": 10}, {\"sex\": \"F\", \"age\": 17, \"studytime\": 2, \"failures\": 0, \"goout\": 5, \"Dalc\": 1, \"Walc\": 2, \"G1\": 6, \"G2\": 6, \"G3\": 6}, {\"sex\": \"F\", \"age\": 17, \"studytime\": 3, \"failures\": 1, \"goout\": 4, \"Dalc\": 1, \"Walc\": 1, \"G1\": 6, \"G2\": 5, \"G3\": 0}, {\"sex\": \"F\", \"age\": 16, \"studytime\": 2, \"failures\": 0, \"goout\": 1, \"Dalc\": 1, \"Walc\": 1, \"G1\": 16, \"G2\": 16, \"G3\": 17}, {\"sex\": \"M\", \"age\": 18, \"studytime\": 2, \"failures\": 0, \"goout\": 3, \"Dalc\": 5, \"Walc\": 5, \"G1\": 12, \"G2\": 13, \"G3\": 13}, {\"sex\": \"F\", \"age\": 16, \"studytime\": 3, \"failures\": 0, \"goout\": 2, \"Dalc\": 1, \"Walc\": 1, \"G1\": 13, \"G2\": 13, \"G3\": 14}, {\"sex\": \"F\", \"age\": 18, \"studytime\": 2, \"failures\": 1, \"goout\": 3, \"Dalc\": 1, \"Walc\": 1, \"G1\": 9, \"G2\": 8, \"G3\": 7}, {\"sex\": \"F\", \"age\": 17, \"studytime\": 2, \"failures\": 0, \"goout\": 4, \"Dalc\": 1, \"Walc\": 3, \"G1\": 16, \"G2\": 15, \"G3\": 15}, {\"sex\": \"M\", \"age\": 17, \"studytime\": 2, \"failures\": 0, \"goout\": 3, \"Dalc\": 1, \"Walc\": 3, \"G1\": 12, \"G2\": 11, \"G3\": 12}, {\"sex\": \"M\", \"age\": 18, \"studytime\": 2, \"failures\": 0, \"goout\": 2, \"Dalc\": 4, \"Walc\": 5, \"G1\": 10, \"G2\": 8, \"G3\": 9}, {\"sex\": \"F\", \"age\": 17, \"studytime\": 3, \"failures\": 0, \"goout\": 3, \"Dalc\": 1, \"Walc\": 2, \"G1\": 12, \"G2\": 10, \"G3\": 12}, {\"sex\": \"F\", \"age\": 17, \"studytime\": 2, \"failures\": 0, \"goout\": 3, \"Dalc\": 1, \"Walc\": 2, \"G1\": 13, \"G2\": 13, \"G3\": 14}, {\"sex\": \"M\", \"age\": 17, \"studytime\": 2, \"failures\": 0, \"goout\": 2, \"Dalc\": 1, \"Walc\": 1, \"G1\": 11, \"G2\": 11, \"G3\": 11}, {\"sex\": \"M\", \"age\": 17, \"studytime\": 2, \"failures\": 0, \"goout\": 5, \"Dalc\": 1, \"Walc\": 3, \"G1\": 11, \"G2\": 9, \"G3\": 9}, {\"sex\": \"M\", \"age\": 16, \"studytime\": 2, \"failures\": 0, \"goout\": 4, \"Dalc\": 2, \"Walc\": 4, \"G1\": 14, \"G2\": 13, \"G3\": 13}, {\"sex\": \"M\", \"age\": 16, \"studytime\": 2, \"failures\": 0, \"goout\": 2, \"Dalc\": 1, \"Walc\": 1, \"G1\": 9, \"G2\": 7, \"G3\": 6}, {\"sex\": \"M\", \"age\": 16, \"studytime\": 3, \"failures\": 0, \"goout\": 3, \"Dalc\": 1, \"Walc\": 3, \"G1\": 11, \"G2\": 9, \"G3\": 10}, {\"sex\": \"M\", \"age\": 17, \"studytime\": 2, \"failures\": 0, \"goout\": 2, \"Dalc\": 5, \"Walc\": 5, \"G1\": 14, \"G2\": 13, \"G3\": 13}, {\"sex\": \"F\", \"age\": 16, \"studytime\": 1, \"failures\": 0, \"goout\": 2, \"Dalc\": 1, \"Walc\": 1, \"G1\": 13, \"G2\": 12, \"G3\": 12}, {\"sex\": \"F\", \"age\": 17, \"studytime\": 2, \"failures\": 0, \"goout\": 1, \"Dalc\": 1, \"Walc\": 1, \"G1\": 13, \"G2\": 11, \"G3\": 11}, {\"sex\": \"M\", \"age\": 18, \"studytime\": 2, \"failures\": 1, \"goout\": 4, \"Dalc\": 3, \"Walc\": 5, \"G1\": 7, \"G2\": 7, \"G3\": 0}, {\"sex\": \"M\", \"age\": 17, \"studytime\": 2, \"failures\": 0, \"goout\": 5, \"Dalc\": 1, \"Walc\": 4, \"G1\": 12, \"G2\": 12, \"G3\": 12}, {\"sex\": \"M\", \"age\": 17, \"studytime\": 2, \"failures\": 0, \"goout\": 3, \"Dalc\": 2, \"Walc\": 3, \"G1\": 10, \"G2\": 11, \"G3\": 12}, {\"sex\": \"M\", \"age\": 16, \"studytime\": 1, \"failures\": 0, \"goout\": 5, \"Dalc\": 1, \"Walc\": 1, \"G1\": 6, \"G2\": 0, \"G3\": 0}, {\"sex\": \"M\", \"age\": 16, \"studytime\": 1, \"failures\": 0, \"goout\": 2, \"Dalc\": 1, \"Walc\": 2, \"G1\": 13, \"G2\": 12, \"G3\": 12}, {\"sex\": \"F\", \"age\": 18, \"studytime\": 3, \"failures\": 0, \"goout\": 4, \"Dalc\": 1, \"Walc\": 1, \"G1\": 7, \"G2\": 0, \"G3\": 0}, {\"sex\": \"M\", \"age\": 16, \"studytime\": 1, \"failures\": 0, \"goout\": 3, \"Dalc\": 1, \"Walc\": 1, \"G1\": 18, \"G2\": 18, \"G3\": 18}, {\"sex\": \"M\", \"age\": 17, \"studytime\": 1, \"failures\": 0, \"goout\": 2, \"Dalc\": 1, \"Walc\": 1, \"G1\": 12, \"G2\": 12, \"G3\": 13}, {\"sex\": \"M\", \"age\": 22, \"studytime\": 1, \"failures\": 3, \"goout\": 5, \"Dalc\": 5, \"Walc\": 5, \"G1\": 6, \"G2\": 8, \"G3\": 8}, {\"sex\": \"M\", \"age\": 18, \"studytime\": 2, \"failures\": 1, \"goout\": 3, \"Dalc\": 1, \"Walc\": 3, \"G1\": 3, \"G2\": 5, \"G3\": 5}, {\"sex\": \"M\", \"age\": 16, \"studytime\": 1, \"failures\": 0, \"goout\": 2, \"Dalc\": 2, \"Walc\": 4, \"G1\": 13, \"G2\": 15, \"G3\": 15}, {\"sex\": \"M\", \"age\": 18, \"studytime\": 1, \"failures\": 1, \"goout\": 5, \"Dalc\": 2, \"Walc\": 4, \"G1\": 6, \"G2\": 8, \"G3\": 8}, {\"sex\": \"M\", \"age\": 16, \"studytime\": 2, \"failures\": 0, \"goout\": 3, \"Dalc\": 1, \"Walc\": 3, \"G1\": 7, \"G2\": 10, \"G3\": 10}, {\"sex\": \"M\", \"age\": 18, \"studytime\": 1, \"failures\": 1, \"goout\": 5, \"Dalc\": 2, \"Walc\": 5, \"G1\": 6, \"G2\": 9, \"G3\": 8}, {\"sex\": \"M\", \"age\": 16, \"studytime\": 1, \"failures\": 0, \"goout\": 2, \"Dalc\": 1, \"Walc\": 3, \"G1\": 8, \"G2\": 9, \"G3\": 8}, {\"sex\": \"M\", \"age\": 17, \"studytime\": 1, \"failures\": 0, \"goout\": 2, \"Dalc\": 2, \"Walc\": 4, \"G1\": 8, \"G2\": 12, \"G3\": 12}, {\"sex\": \"M\", \"age\": 17, \"studytime\": 1, \"failures\": 1, \"goout\": 4, \"Dalc\": 1, \"Walc\": 2, \"G1\": 7, \"G2\": 9, \"G3\": 8}, {\"sex\": \"F\", \"age\": 17, \"studytime\": 4, \"failures\": 0, \"goout\": 3, \"Dalc\": 1, \"Walc\": 1, \"G1\": 14, \"G2\": 12, \"G3\": 13}, {\"sex\": \"M\", \"age\": 19, \"studytime\": 2, \"failures\": 0, \"goout\": 1, \"Dalc\": 1, \"Walc\": 1, \"G1\": 11, \"G2\": 11, \"G3\": 11}, {\"sex\": \"M\", \"age\": 18, \"studytime\": 2, \"failures\": 0, \"goout\": 4, \"Dalc\": 1, \"Walc\": 2, \"G1\": 15, \"G2\": 14, \"G3\": 14}, {\"sex\": \"F\", \"age\": 17, \"studytime\": 4, \"failures\": 0, \"goout\": 1, \"Dalc\": 1, \"Walc\": 1, \"G1\": 10, \"G2\": 9, \"G3\": 0}, {\"sex\": \"F\", \"age\": 18, \"studytime\": 2, \"failures\": 0, \"goout\": 2, \"Dalc\": 1, \"Walc\": 3, \"G1\": 17, \"G2\": 18, \"G3\": 18}, {\"sex\": \"M\", \"age\": 18, \"studytime\": 2, \"failures\": 0, \"goout\": 2, \"Dalc\": 1, \"Walc\": 1, \"G1\": 8, \"G2\": 8, \"G3\": 8}, {\"sex\": \"M\", \"age\": 18, \"studytime\": 3, \"failures\": 0, \"goout\": 2, \"Dalc\": 1, \"Walc\": 1, \"G1\": 13, \"G2\": 12, \"G3\": 12}, {\"sex\": \"F\", \"age\": 17, \"studytime\": 3, \"failures\": 0, \"goout\": 3, \"Dalc\": 1, \"Walc\": 1, \"G1\": 10, \"G2\": 9, \"G3\": 9}, {\"sex\": \"F\", \"age\": 18, \"studytime\": 3, \"failures\": 0, \"goout\": 3, \"Dalc\": 1, \"Walc\": 1, \"G1\": 9, \"G2\": 10, \"G3\": 0}, {\"sex\": \"M\", \"age\": 18, \"studytime\": 2, \"failures\": 0, \"goout\": 5, \"Dalc\": 3, \"Walc\": 4, \"G1\": 17, \"G2\": 17, \"G3\": 17}, {\"sex\": \"M\", \"age\": 17, \"studytime\": 2, \"failures\": 0, \"goout\": 4, \"Dalc\": 3, \"Walc\": 4, \"G1\": 9, \"G2\": 9, \"G3\": 10}, {\"sex\": \"F\", \"age\": 18, \"studytime\": 2, \"failures\": 0, \"goout\": 4, \"Dalc\": 2, \"Walc\": 2, \"G1\": 12, \"G2\": 10, \"G3\": 11}, {\"sex\": \"M\", \"age\": 18, \"studytime\": 2, \"failures\": 0, \"goout\": 5, \"Dalc\": 1, \"Walc\": 3, \"G1\": 10, \"G2\": 9, \"G3\": 10}, {\"sex\": \"F\", \"age\": 18, \"studytime\": 2, \"failures\": 0, \"goout\": 5, \"Dalc\": 1, \"Walc\": 2, \"G1\": 6, \"G2\": 0, \"G3\": 0}, {\"sex\": \"F\", \"age\": 19, \"studytime\": 2, \"failures\": 2, \"goout\": 5, \"Dalc\": 3, \"Walc\": 3, \"G1\": 9, \"G2\": 9, \"G3\": 9}, {\"sex\": \"F\", \"age\": 18, \"studytime\": 4, \"failures\": 0, \"goout\": 5, \"Dalc\": 1, \"Walc\": 3, \"G1\": 15, \"G2\": 14, \"G3\": 14}, {\"sex\": \"F\", \"age\": 18, \"studytime\": 2, \"failures\": 0, \"goout\": 3, \"Dalc\": 1, \"Walc\": 1, \"G1\": 11, \"G2\": 11, \"G3\": 11}, {\"sex\": \"M\", \"age\": 17, \"studytime\": 2, \"failures\": 0, \"goout\": 2, \"Dalc\": 2, \"Walc\": 2, \"G1\": 15, \"G2\": 14, \"G3\": 14}, {\"sex\": \"F\", \"age\": 17, \"studytime\": 2, \"failures\": 0, \"goout\": 3, \"Dalc\": 1, \"Walc\": 1, \"G1\": 10, \"G2\": 10, \"G3\": 10}, {\"sex\": \"F\", \"age\": 17, \"studytime\": 2, \"failures\": 0, \"goout\": 4, \"Dalc\": 2, \"Walc\": 3, \"G1\": 12, \"G2\": 12, \"G3\": 12}, {\"sex\": \"F\", \"age\": 18, \"studytime\": 2, \"failures\": 0, \"goout\": 1, \"Dalc\": 1, \"Walc\": 1, \"G1\": 10, \"G2\": 9, \"G3\": 9}, {\"sex\": \"M\", \"age\": 18, \"studytime\": 1, \"failures\": 0, \"goout\": 4, \"Dalc\": 1, \"Walc\": 4, \"G1\": 9, \"G2\": 9, \"G3\": 9}, {\"sex\": \"F\", \"age\": 18, \"studytime\": 2, \"failures\": 1, \"goout\": 4, \"Dalc\": 1, \"Walc\": 1, \"G1\": 9, \"G2\": 8, \"G3\": 8}, {\"sex\": \"M\", \"age\": 18, \"studytime\": 1, \"failures\": 0, \"goout\": 3, \"Dalc\": 1, \"Walc\": 2, \"G1\": 10, \"G2\": 11, \"G3\": 10}, {\"sex\": \"M\", \"age\": 17, \"studytime\": 1, \"failures\": 0, \"goout\": 4, \"Dalc\": 2, \"Walc\": 4, \"G1\": 8, \"G2\": 8, \"G3\": 8}, {\"sex\": \"M\", \"age\": 17, \"studytime\": 1, \"failures\": 1, \"goout\": 4, \"Dalc\": 3, \"Walc\": 4, \"G1\": 11, \"G2\": 9, \"G3\": 10}, {\"sex\": \"F\", \"age\": 18, \"studytime\": 4, \"failures\": 0, \"goout\": 2, \"Dalc\": 1, \"Walc\": 1, \"G1\": 12, \"G2\": 12, \"G3\": 12}, {\"sex\": \"F\", \"age\": 18, \"studytime\": 2, \"failures\": 0, \"goout\": 4, \"Dalc\": 1, \"Walc\": 1, \"G1\": 8, \"G2\": 9, \"G3\": 10}, {\"sex\": \"F\", \"age\": 17, \"studytime\": 2, \"failures\": 0, \"goout\": 5, \"Dalc\": 1, \"Walc\": 2, \"G1\": 10, \"G2\": 9, \"G3\": 11}, {\"sex\": \"M\", \"age\": 17, \"studytime\": 2, \"failures\": 0, \"goout\": 3, \"Dalc\": 1, \"Walc\": 2, \"G1\": 12, \"G2\": 10, \"G3\": 11}, {\"sex\": \"F\", \"age\": 18, \"studytime\": 3, \"failures\": 0, \"goout\": 3, \"Dalc\": 1, \"Walc\": 2, \"G1\": 18, \"G2\": 18, \"G3\": 19}, {\"sex\": \"F\", \"age\": 17, \"studytime\": 3, \"failures\": 0, \"goout\": 3, \"Dalc\": 1, \"Walc\": 1, \"G1\": 13, \"G2\": 12, \"G3\": 12}, {\"sex\": \"M\", \"age\": 18, \"studytime\": 3, \"failures\": 0, \"goout\": 4, \"Dalc\": 1, \"Walc\": 3, \"G1\": 15, \"G2\": 14, \"G3\": 14}, {\"sex\": \"M\", \"age\": 18, \"studytime\": 2, \"failures\": 0, \"goout\": 3, \"Dalc\": 1, \"Walc\": 1, \"G1\": 15, \"G2\": 13, \"G3\": 15}, {\"sex\": \"M\", \"age\": 18, \"studytime\": 2, \"failures\": 0, \"goout\": 2, \"Dalc\": 1, \"Walc\": 4, \"G1\": 12, \"G2\": 11, \"G3\": 11}, {\"sex\": \"F\", \"age\": 17, \"studytime\": 3, \"failures\": 0, \"goout\": 2, \"Dalc\": 1, \"Walc\": 2, \"G1\": 15, \"G2\": 15, \"G3\": 15}, {\"sex\": \"F\", \"age\": 18, \"studytime\": 2, \"failures\": 1, \"goout\": 3, \"Dalc\": 1, \"Walc\": 1, \"G1\": 12, \"G2\": 12, \"G3\": 13}, {\"sex\": \"F\", \"age\": 17, \"studytime\": 4, \"failures\": 0, \"goout\": 2, \"Dalc\": 1, \"Walc\": 1, \"G1\": 18, \"G2\": 18, \"G3\": 18}, {\"sex\": \"M\", \"age\": 18, \"studytime\": 3, \"failures\": 0, \"goout\": 2, \"Dalc\": 1, \"Walc\": 1, \"G1\": 14, \"G2\": 13, \"G3\": 14}, {\"sex\": \"M\", \"age\": 17, \"studytime\": 1, \"failures\": 0, \"goout\": 3, \"Dalc\": 1, \"Walc\": 3, \"G1\": 14, \"G2\": 12, \"G3\": 11}, {\"sex\": \"F\", \"age\": 19, \"studytime\": 2, \"failures\": 0, \"goout\": 4, \"Dalc\": 2, \"Walc\": 3, \"G1\": 10, \"G2\": 9, \"G3\": 0}, {\"sex\": \"F\", \"age\": 18, \"studytime\": 2, \"failures\": 0, \"goout\": 5, \"Dalc\": 1, \"Walc\": 2, \"G1\": 10, \"G2\": 8, \"G3\": 8}, {\"sex\": \"F\", \"age\": 18, \"studytime\": 4, \"failures\": 0, \"goout\": 3, \"Dalc\": 1, \"Walc\": 1, \"G1\": 14, \"G2\": 13, \"G3\": 14}, {\"sex\": \"M\", \"age\": 18, \"studytime\": 1, \"failures\": 0, \"goout\": 2, \"Dalc\": 2, \"Walc\": 2, \"G1\": 16, \"G2\": 15, \"G3\": 16}, {\"sex\": \"F\", \"age\": 18, \"studytime\": 2, \"failures\": 0, \"goout\": 4, \"Dalc\": 1, \"Walc\": 1, \"G1\": 12, \"G2\": 10, \"G3\": 11}, {\"sex\": \"M\", \"age\": 17, \"studytime\": 1, \"failures\": 0, \"goout\": 1, \"Dalc\": 2, \"Walc\": 2, \"G1\": 11, \"G2\": 11, \"G3\": 10}, {\"sex\": \"F\", \"age\": 17, \"studytime\": 3, \"failures\": 0, \"goout\": 3, \"Dalc\": 1, \"Walc\": 1, \"G1\": 15, \"G2\": 12, \"G3\": 14}, {\"sex\": \"F\", \"age\": 17, \"studytime\": 4, \"failures\": 0, \"goout\": 2, \"Dalc\": 1, \"Walc\": 2, \"G1\": 17, \"G2\": 17, \"G3\": 18}, {\"sex\": \"M\", \"age\": 19, \"studytime\": 2, \"failures\": 1, \"goout\": 4, \"Dalc\": 1, \"Walc\": 1, \"G1\": 15, \"G2\": 14, \"G3\": 13}, {\"sex\": \"F\", \"age\": 18, \"studytime\": 2, \"failures\": 1, \"goout\": 3, \"Dalc\": 1, \"Walc\": 1, \"G1\": 14, \"G2\": 12, \"G3\": 12}, {\"sex\": \"M\", \"age\": 20, \"studytime\": 1, \"failures\": 0, \"goout\": 3, \"Dalc\": 1, \"Walc\": 1, \"G1\": 17, \"G2\": 18, \"G3\": 18}, {\"sex\": \"M\", \"age\": 19, \"studytime\": 1, \"failures\": 1, \"goout\": 4, \"Dalc\": 1, \"Walc\": 1, \"G1\": 8, \"G2\": 9, \"G3\": 8}, {\"sex\": \"M\", \"age\": 19, \"studytime\": 2, \"failures\": 1, \"goout\": 3, \"Dalc\": 1, \"Walc\": 2, \"G1\": 15, \"G2\": 12, \"G3\": 12}, {\"sex\": \"F\", \"age\": 19, \"studytime\": 2, \"failures\": 1, \"goout\": 3, \"Dalc\": 1, \"Walc\": 3, \"G1\": 12, \"G2\": 10, \"G3\": 10}, {\"sex\": \"F\", \"age\": 19, \"studytime\": 2, \"failures\": 1, \"goout\": 4, \"Dalc\": 2, \"Walc\": 2, \"G1\": 9, \"G2\": 9, \"G3\": 0}, {\"sex\": \"F\", \"age\": 19, \"studytime\": 2, \"failures\": 0, \"goout\": 1, \"Dalc\": 1, \"Walc\": 1, \"G1\": 14, \"G2\": 12, \"G3\": 13}, {\"sex\": \"M\", \"age\": 19, \"studytime\": 2, \"failures\": 1, \"goout\": 2, \"Dalc\": 2, \"Walc\": 2, \"G1\": 13, \"G2\": 11, \"G3\": 11}, {\"sex\": \"F\", \"age\": 19, \"studytime\": 2, \"failures\": 1, \"goout\": 2, \"Dalc\": 1, \"Walc\": 2, \"G1\": 13, \"G2\": 10, \"G3\": 11}, {\"sex\": \"F\", \"age\": 19, \"studytime\": 3, \"failures\": 2, \"goout\": 2, \"Dalc\": 1, \"Walc\": 1, \"G1\": 15, \"G2\": 13, \"G3\": 13}, {\"sex\": \"F\", \"age\": 19, \"studytime\": 3, \"failures\": 1, \"goout\": 2, \"Dalc\": 1, \"Walc\": 1, \"G1\": 13, \"G2\": 11, \"G3\": 11}, {\"sex\": \"F\", \"age\": 18, \"studytime\": 2, \"failures\": 0, \"goout\": 3, \"Dalc\": 1, \"Walc\": 2, \"G1\": 8, \"G2\": 8, \"G3\": 0}, {\"sex\": \"F\", \"age\": 18, \"studytime\": 3, \"failures\": 0, \"goout\": 4, \"Dalc\": 1, \"Walc\": 1, \"G1\": 9, \"G2\": 10, \"G3\": 9}, {\"sex\": \"F\", \"age\": 17, \"studytime\": 3, \"failures\": 0, \"goout\": 4, \"Dalc\": 2, \"Walc\": 5, \"G1\": 11, \"G2\": 11, \"G3\": 10}, {\"sex\": \"F\", \"age\": 18, \"studytime\": 2, \"failures\": 0, \"goout\": 4, \"Dalc\": 3, \"Walc\": 3, \"G1\": 11, \"G2\": 11, \"G3\": 11}, {\"sex\": \"F\", \"age\": 17, \"studytime\": 2, \"failures\": 0, \"goout\": 2, \"Dalc\": 1, \"Walc\": 2, \"G1\": 13, \"G2\": 13, \"G3\": 13}, {\"sex\": \"F\", \"age\": 17, \"studytime\": 2, \"failures\": 0, \"goout\": 2, \"Dalc\": 1, \"Walc\": 1, \"G1\": 11, \"G2\": 9, \"G3\": 9}, {\"sex\": \"F\", \"age\": 17, \"studytime\": 3, \"failures\": 0, \"goout\": 2, \"Dalc\": 2, \"Walc\": 2, \"G1\": 11, \"G2\": 11, \"G3\": 11}, {\"sex\": \"F\", \"age\": 17, \"studytime\": 3, \"failures\": 0, \"goout\": 3, \"Dalc\": 2, \"Walc\": 3, \"G1\": 12, \"G2\": 14, \"G3\": 15}, {\"sex\": \"F\", \"age\": 17, \"studytime\": 3, \"failures\": 0, \"goout\": 3, \"Dalc\": 2, \"Walc\": 3, \"G1\": 16, \"G2\": 15, \"G3\": 15}, {\"sex\": \"M\", \"age\": 18, \"studytime\": 3, \"failures\": 0, \"goout\": 3, \"Dalc\": 2, \"Walc\": 2, \"G1\": 9, \"G2\": 12, \"G3\": 11}, {\"sex\": \"M\", \"age\": 17, \"studytime\": 1, \"failures\": 0, \"goout\": 5, \"Dalc\": 3, \"Walc\": 5, \"G1\": 14, \"G2\": 15, \"G3\": 16}, {\"sex\": \"M\", \"age\": 17, \"studytime\": 1, \"failures\": 0, \"goout\": 5, \"Dalc\": 5, \"Walc\": 5, \"G1\": 11, \"G2\": 10, \"G3\": 10}, {\"sex\": \"F\", \"age\": 17, \"studytime\": 3, \"failures\": 0, \"goout\": 4, \"Dalc\": 1, \"Walc\": 3, \"G1\": 10, \"G2\": 9, \"G3\": 9}, {\"sex\": \"F\", \"age\": 17, \"studytime\": 3, \"failures\": 0, \"goout\": 3, \"Dalc\": 1, \"Walc\": 2, \"G1\": 14, \"G2\": 14, \"G3\": 14}, {\"sex\": \"M\", \"age\": 18, \"studytime\": 4, \"failures\": 0, \"goout\": 5, \"Dalc\": 2, \"Walc\": 4, \"G1\": 9, \"G2\": 8, \"G3\": 8}, {\"sex\": \"F\", \"age\": 17, \"studytime\": 3, \"failures\": 0, \"goout\": 3, \"Dalc\": 1, \"Walc\": 1, \"G1\": 12, \"G2\": 14, \"G3\": 14}, {\"sex\": \"F\", \"age\": 18, \"studytime\": 2, \"failures\": 0, \"goout\": 4, \"Dalc\": 1, \"Walc\": 1, \"G1\": 7, \"G2\": 0, \"G3\": 0}, {\"sex\": \"F\", \"age\": 18, \"studytime\": 2, \"failures\": 0, \"goout\": 3, \"Dalc\": 1, \"Walc\": 1, \"G1\": 8, \"G2\": 8, \"G3\": 0}, {\"sex\": \"F\", \"age\": 18, \"studytime\": 4, \"failures\": 0, \"goout\": 4, \"Dalc\": 1, \"Walc\": 1, \"G1\": 10, \"G2\": 9, \"G3\": 0}, {\"sex\": \"F\", \"age\": 17, \"studytime\": 3, \"failures\": 0, \"goout\": 5, \"Dalc\": 1, \"Walc\": 3, \"G1\": 16, \"G2\": 15, \"G3\": 15}, {\"sex\": \"F\", \"age\": 19, \"studytime\": 3, \"failures\": 1, \"goout\": 3, \"Dalc\": 1, \"Walc\": 2, \"G1\": 14, \"G2\": 13, \"G3\": 13}, {\"sex\": \"F\", \"age\": 17, \"studytime\": 2, \"failures\": 0, \"goout\": 2, \"Dalc\": 2, \"Walc\": 3, \"G1\": 7, \"G2\": 8, \"G3\": 0}, {\"sex\": \"F\", \"age\": 18, \"studytime\": 4, \"failures\": 0, \"goout\": 3, \"Dalc\": 1, \"Walc\": 1, \"G1\": 16, \"G2\": 15, \"G3\": 17}, {\"sex\": \"F\", \"age\": 17, \"studytime\": 2, \"failures\": 0, \"goout\": 3, \"Dalc\": 2, \"Walc\": 3, \"G1\": 9, \"G2\": 10, \"G3\": 10}, {\"sex\": \"F\", \"age\": 19, \"studytime\": 3, \"failures\": 1, \"goout\": 4, \"Dalc\": 1, \"Walc\": 3, \"G1\": 11, \"G2\": 12, \"G3\": 11}, {\"sex\": \"M\", \"age\": 18, \"studytime\": 2, \"failures\": 1, \"goout\": 3, \"Dalc\": 2, \"Walc\": 2, \"G1\": 10, \"G2\": 10, \"G3\": 0}, {\"sex\": \"M\", \"age\": 18, \"studytime\": 2, \"failures\": 0, \"goout\": 3, \"Dalc\": 1, \"Walc\": 3, \"G1\": 16, \"G2\": 15, \"G3\": 15}, {\"sex\": \"F\", \"age\": 17, \"studytime\": 2, \"failures\": 1, \"goout\": 1, \"Dalc\": 1, \"Walc\": 2, \"G1\": 9, \"G2\": 8, \"G3\": 0}, {\"sex\": \"F\", \"age\": 18, \"studytime\": 3, \"failures\": 0, \"goout\": 3, \"Dalc\": 1, \"Walc\": 2, \"G1\": 11, \"G2\": 10, \"G3\": 10}, {\"sex\": \"F\", \"age\": 18, \"studytime\": 3, \"failures\": 0, \"goout\": 3, \"Dalc\": 2, \"Walc\": 3, \"G1\": 13, \"G2\": 13, \"G3\": 14}, {\"sex\": \"M\", \"age\": 18, \"studytime\": 3, \"failures\": 0, \"goout\": 2, \"Dalc\": 1, \"Walc\": 2, \"G1\": 16, \"G2\": 15, \"G3\": 16}, {\"sex\": \"M\", \"age\": 18, \"studytime\": 3, \"failures\": 0, \"goout\": 5, \"Dalc\": 2, \"Walc\": 3, \"G1\": 10, \"G2\": 10, \"G3\": 9}, {\"sex\": \"F\", \"age\": 17, \"studytime\": 3, \"failures\": 0, \"goout\": 3, \"Dalc\": 1, \"Walc\": 3, \"G1\": 13, \"G2\": 15, \"G3\": 15}, {\"sex\": \"M\", \"age\": 18, \"studytime\": 1, \"failures\": 1, \"goout\": 5, \"Dalc\": 5, \"Walc\": 5, \"G1\": 11, \"G2\": 13, \"G3\": 13}, {\"sex\": \"M\", \"age\": 19, \"studytime\": 2, \"failures\": 3, \"goout\": 4, \"Dalc\": 3, \"Walc\": 3, \"G1\": 8, \"G2\": 7, \"G3\": 8}, {\"sex\": \"M\", \"age\": 17, \"studytime\": 2, \"failures\": 0, \"goout\": 4, \"Dalc\": 2, \"Walc\": 3, \"G1\": 13, \"G2\": 13, \"G3\": 13}, {\"sex\": \"M\", \"age\": 18, \"studytime\": 1, \"failures\": 1, \"goout\": 3, \"Dalc\": 2, \"Walc\": 3, \"G1\": 8, \"G2\": 7, \"G3\": 8}, {\"sex\": \"M\", \"age\": 19, \"studytime\": 1, \"failures\": 1, \"goout\": 4, \"Dalc\": 3, \"Walc\": 3, \"G1\": 8, \"G2\": 8, \"G3\": 8}, {\"sex\": \"M\", \"age\": 17, \"studytime\": 2, \"failures\": 0, \"goout\": 5, \"Dalc\": 1, \"Walc\": 3, \"G1\": 13, \"G2\": 11, \"G3\": 11}, {\"sex\": \"F\", \"age\": 18, \"studytime\": 2, \"failures\": 0, \"goout\": 4, \"Dalc\": 1, \"Walc\": 1, \"G1\": 10, \"G2\": 9, \"G3\": 9}, {\"sex\": \"F\", \"age\": 17, \"studytime\": 2, \"failures\": 0, \"goout\": 3, \"Dalc\": 1, \"Walc\": 2, \"G1\": 12, \"G2\": 13, \"G3\": 13}, {\"sex\": \"F\", \"age\": 17, \"studytime\": 2, \"failures\": 0, \"goout\": 3, \"Dalc\": 1, \"Walc\": 2, \"G1\": 12, \"G2\": 12, \"G3\": 11}, {\"sex\": \"M\", \"age\": 18, \"studytime\": 1, \"failures\": 0, \"goout\": 2, \"Dalc\": 1, \"Walc\": 2, \"G1\": 10, \"G2\": 10, \"G3\": 10}, {\"sex\": \"F\", \"age\": 18, \"studytime\": 3, \"failures\": 0, \"goout\": 2, \"Dalc\": 1, \"Walc\": 1, \"G1\": 18, \"G2\": 16, \"G3\": 16}, {\"sex\": \"F\", \"age\": 18, \"studytime\": 2, \"failures\": 0, \"goout\": 4, \"Dalc\": 1, \"Walc\": 4, \"G1\": 13, \"G2\": 13, \"G3\": 13}, {\"sex\": \"M\", \"age\": 18, \"studytime\": 2, \"failures\": 1, \"goout\": 3, \"Dalc\": 2, \"Walc\": 3, \"G1\": 13, \"G2\": 12, \"G3\": 12}, {\"sex\": \"F\", \"age\": 18, \"studytime\": 2, \"failures\": 0, \"goout\": 2, \"Dalc\": 1, \"Walc\": 3, \"G1\": 11, \"G2\": 11, \"G3\": 10}, {\"sex\": \"F\", \"age\": 17, \"studytime\": 2, \"failures\": 0, \"goout\": 4, \"Dalc\": 1, \"Walc\": 1, \"G1\": 16, \"G2\": 15, \"G3\": 15}, {\"sex\": \"F\", \"age\": 17, \"studytime\": 2, \"failures\": 0, \"goout\": 2, \"Dalc\": 1, \"Walc\": 2, \"G1\": 12, \"G2\": 11, \"G3\": 12}, {\"sex\": \"M\", \"age\": 18, \"studytime\": 2, \"failures\": 0, \"goout\": 4, \"Dalc\": 2, \"Walc\": 4, \"G1\": 10, \"G2\": 10, \"G3\": 10}, {\"sex\": \"M\", \"age\": 18, \"studytime\": 3, \"failures\": 0, \"goout\": 2, \"Dalc\": 2, \"Walc\": 2, \"G1\": 13, \"G2\": 13, \"G3\": 13}, {\"sex\": \"F\", \"age\": 17, \"studytime\": 1, \"failures\": 1, \"goout\": 1, \"Dalc\": 1, \"Walc\": 2, \"G1\": 7, \"G2\": 6, \"G3\": 0}, {\"sex\": \"F\", \"age\": 18, \"studytime\": 1, \"failures\": 0, \"goout\": 3, \"Dalc\": 1, \"Walc\": 2, \"G1\": 11, \"G2\": 10, \"G3\": 10}, {\"sex\": \"F\", \"age\": 18, \"studytime\": 2, \"failures\": 0, \"goout\": 2, \"Dalc\": 4, \"Walc\": 2, \"G1\": 14, \"G2\": 12, \"G3\": 11}, {\"sex\": \"F\", \"age\": 19, \"studytime\": 2, \"failures\": 2, \"goout\": 2, \"Dalc\": 1, \"Walc\": 1, \"G1\": 7, \"G2\": 7, \"G3\": 9}, {\"sex\": \"M\", \"age\": 18, \"studytime\": 1, \"failures\": 0, \"goout\": 3, \"Dalc\": 2, \"Walc\": 3, \"G1\": 14, \"G2\": 12, \"G3\": 12}, {\"sex\": \"F\", \"age\": 17, \"studytime\": 3, \"failures\": 0, \"goout\": 3, \"Dalc\": 1, \"Walc\": 1, \"G1\": 13, \"G2\": 11, \"G3\": 11}, {\"sex\": \"F\", \"age\": 17, \"studytime\": 1, \"failures\": 0, \"goout\": 5, \"Dalc\": 1, \"Walc\": 3, \"G1\": 6, \"G2\": 5, \"G3\": 5}, {\"sex\": \"F\", \"age\": 18, \"studytime\": 3, \"failures\": 0, \"goout\": 4, \"Dalc\": 1, \"Walc\": 1, \"G1\": 19, \"G2\": 18, \"G3\": 19}, {\"sex\": \"F\", \"age\": 18, \"studytime\": 3, \"failures\": 0, \"goout\": 2, \"Dalc\": 1, \"Walc\": 2, \"G1\": 8, \"G2\": 8, \"G3\": 10}, {\"sex\": \"F\", \"age\": 20, \"studytime\": 3, \"failures\": 2, \"goout\": 3, \"Dalc\": 1, \"Walc\": 1, \"G1\": 15, \"G2\": 14, \"G3\": 15}, {\"sex\": \"F\", \"age\": 18, \"studytime\": 2, \"failures\": 0, \"goout\": 3, \"Dalc\": 3, \"Walc\": 4, \"G1\": 8, \"G2\": 9, \"G3\": 10}, {\"sex\": \"F\", \"age\": 18, \"studytime\": 2, \"failures\": 0, \"goout\": 3, \"Dalc\": 1, \"Walc\": 2, \"G1\": 15, \"G2\": 15, \"G3\": 15}, {\"sex\": \"F\", \"age\": 17, \"studytime\": 2, \"failures\": 0, \"goout\": 4, \"Dalc\": 2, \"Walc\": 3, \"G1\": 10, \"G2\": 10, \"G3\": 10}, {\"sex\": \"M\", \"age\": 18, \"studytime\": 2, \"failures\": 0, \"goout\": 4, \"Dalc\": 1, \"Walc\": 4, \"G1\": 15, \"G2\": 14, \"G3\": 14}, {\"sex\": \"M\", \"age\": 18, \"studytime\": 1, \"failures\": 0, \"goout\": 3, \"Dalc\": 1, \"Walc\": 3, \"G1\": 7, \"G2\": 6, \"G3\": 7}, {\"sex\": \"M\", \"age\": 17, \"studytime\": 2, \"failures\": 0, \"goout\": 3, \"Dalc\": 1, \"Walc\": 1, \"G1\": 11, \"G2\": 11, \"G3\": 10}, {\"sex\": \"M\", \"age\": 19, \"studytime\": 1, \"failures\": 1, \"goout\": 2, \"Dalc\": 1, \"Walc\": 3, \"G1\": 6, \"G2\": 5, \"G3\": 0}, {\"sex\": \"M\", \"age\": 18, \"studytime\": 1, \"failures\": 1, \"goout\": 3, \"Dalc\": 4, \"Walc\": 3, \"G1\": 6, \"G2\": 5, \"G3\": 5}, {\"sex\": \"F\", \"age\": 18, \"studytime\": 3, \"failures\": 0, \"goout\": 3, \"Dalc\": 1, \"Walc\": 3, \"G1\": 10, \"G2\": 9, \"G3\": 10}, {\"sex\": \"F\", \"age\": 18, \"studytime\": 1, \"failures\": 0, \"goout\": 3, \"Dalc\": 2, \"Walc\": 2, \"G1\": 6, \"G2\": 5, \"G3\": 6}, {\"sex\": \"F\", \"age\": 19, \"studytime\": 3, \"failures\": 1, \"goout\": 2, \"Dalc\": 1, \"Walc\": 2, \"G1\": 7, \"G2\": 5, \"G3\": 0}, {\"sex\": \"F\", \"age\": 18, \"studytime\": 2, \"failures\": 0, \"goout\": 4, \"Dalc\": 1, \"Walc\": 1, \"G1\": 7, \"G2\": 9, \"G3\": 8}, {\"sex\": \"F\", \"age\": 18, \"studytime\": 2, \"failures\": 1, \"goout\": 1, \"Dalc\": 1, \"Walc\": 1, \"G1\": 6, \"G2\": 5, \"G3\": 0}, {\"sex\": \"M\", \"age\": 20, \"studytime\": 2, \"failures\": 2, \"goout\": 4, \"Dalc\": 4, \"Walc\": 5, \"G1\": 9, \"G2\": 9, \"G3\": 9}, {\"sex\": \"M\", \"age\": 17, \"studytime\": 1, \"failures\": 0, \"goout\": 5, \"Dalc\": 3, \"Walc\": 4, \"G1\": 14, \"G2\": 16, \"G3\": 16}, {\"sex\": \"M\", \"age\": 21, \"studytime\": 1, \"failures\": 3, \"goout\": 3, \"Dalc\": 3, \"Walc\": 3, \"G1\": 10, \"G2\": 8, \"G3\": 7}, {\"sex\": \"M\", \"age\": 18, \"studytime\": 1, \"failures\": 0, \"goout\": 1, \"Dalc\": 3, \"Walc\": 4, \"G1\": 11, \"G2\": 12, \"G3\": 10}, {\"sex\": \"M\", \"age\": 19, \"studytime\": 1, \"failures\": 0, \"goout\": 3, \"Dalc\": 3, \"Walc\": 3, \"G1\": 8, \"G2\": 9, \"G3\": 9}]}}, {\"mode\": \"vega-lite\"});\n",
       "</script>"
      ],
      "text/plain": [
       "alt.Chart(...)"
      ]
     },
     "execution_count": 38,
     "metadata": {},
     "output_type": "execute_result"
    }
   ],
   "source": [
    "# Visualization of grade distributions\n",
    "eda_plot1 = alt.Chart(student_performance_df).mark_bar().encode(\n",
    "    x=alt.X('G3:Q', bin=True, title='Final Grades (G3)'),\n",
    "    y=alt.Y('count()', title='Number of Students'),\n",
    "    tooltip=['G3']\n",
    ").properties(\n",
    "    title='Distribution of Final Grades (G3)',\n",
    "    width=400,\n",
    "    height=200\n",
    ")\n",
    "eda_plot1 "
   ]
  },
  {
   "cell_type": "markdown",
   "id": "ab63863a-5bfe-4fd9-9166-e24700a2ec05",
   "metadata": {},
   "source": [
    "**Figure 1: Distribution of Final Grades (G3)**"
   ]
  },
  {
   "cell_type": "markdown",
   "id": "91fac25b-7d8e-4428-9b88-4c4013e372bc",
   "metadata": {},
   "source": [
    "The histogram shows that most students achieve grades between 8 and 15, with fewer students scoring very low or very high. "
   ]
  },
  {
   "cell_type": "markdown",
   "id": "8cb9f11c-df6c-4d0d-9896-1250cb59ff99",
   "metadata": {},
   "source": [
    "### Analysis"
   ]
  },
  {
   "cell_type": "code",
   "execution_count": null,
   "id": "5c734ea1-62f2-4b00-9ef4-cd7c0b716b5e",
   "metadata": {},
   "outputs": [],
   "source": []
  },
  {
   "cell_type": "code",
   "execution_count": null,
   "id": "7c560a6f-47fb-423e-9c14-1382620ac29b",
   "metadata": {},
   "outputs": [],
   "source": []
  },
  {
   "cell_type": "markdown",
   "id": "3ed1f1fd-f7da-44ed-b3f3-c23306bf745e",
   "metadata": {},
   "source": [
    "## Results & Discussion"
   ]
  },
  {
   "cell_type": "code",
   "execution_count": null,
   "id": "7526f6d6-89b4-4686-92f8-0deb7a9cfc0d",
   "metadata": {},
   "outputs": [],
   "source": []
  },
  {
   "cell_type": "markdown",
   "id": "8bd01f82-917e-4dc0-ac4e-e5716fd72561",
   "metadata": {},
   "source": [
    "## References"
   ]
  },
  {
   "cell_type": "markdown",
   "id": "5d1ce241-8723-40a0-a710-1d68e1fd3050",
   "metadata": {},
   "source": [
    "Amuda, Bitrus Glawala, Apagu Kidlindila Bulus, and Hamsatu Pur Joseph. \"Marital Status and Age as Predictors of Academic Performance of Students of Colleges of Education in the Nort- Eastern Nigeria.\" American Journal of Educational Research 4.12 (2016): 896-902.\n",
    "\n",
    "Modi, Y. G. “The Impact of Stress on Academic Performance: Strategies for High School Students.” International Journal of Psychiatry, vol. 8, no. 5, 2023, pp. 150–152. "
   ]
  },
  {
   "cell_type": "code",
   "execution_count": null,
   "id": "6c5c425c-58d6-49c4-ab14-b4154679a8a2",
   "metadata": {},
   "outputs": [],
   "source": []
  }
 ],
 "metadata": {
  "kernelspec": {
   "display_name": "Python [conda env:571]",
   "language": "python",
   "name": "conda-env-571-py"
  },
  "language_info": {
   "codemirror_mode": {
    "name": "ipython",
    "version": 3
   },
   "file_extension": ".py",
   "mimetype": "text/x-python",
   "name": "python",
   "nbconvert_exporter": "python",
   "pygments_lexer": "ipython3",
   "version": "3.12.0"
  }
 },
 "nbformat": 4,
 "nbformat_minor": 5
}
