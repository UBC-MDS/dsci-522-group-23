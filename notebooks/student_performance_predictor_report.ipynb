{
 "cells": [
  {
   "cell_type": "markdown",
   "id": "01c92f92-75aa-4e0b-b391-cd5d7f6d37c2",
   "metadata": {},
   "source": [
    "## Predicting academic performance using demographic and behavioral Data\n"
   ]
  },
  {
   "cell_type": "markdown",
   "id": "8ecbcefd-2799-4164-a17c-f430e19c5455",
   "metadata": {},
   "source": [
    "by Zhengling Jiang, Colombe Tolokin, Franklin Aryee, Tien Nguyen\n"
   ]
  },
  {
   "cell_type": "markdown",
   "id": "3f21118e-4fb3-412a-9407-b862721b8a3f",
   "metadata": {},
   "source": [
    "Packages:\n"
   ]
  },
  {
   "cell_type": "code",
   "execution_count": 1,
   "id": "75de01ce-7dd0-4e98-92a4-c60950549f91",
   "metadata": {},
   "outputs": [],
   "source": [
    "import pandas as pd\n",
    "import altair as alt\n",
    "# import altair_ally as ally\n",
    "from sklearn.model_selection import train_test_split\n",
    "from sklearn.model_selection import GridSearchCV\n",
    "from sklearn.pipeline import make_pipeline\n",
    "from sklearn.compose import make_column_transformer\n",
    "from sklearn.preprocessing import StandardScaler, OneHotEncoder\n",
    "from sklearn.linear_model import Ridge\n",
    "from sklearn.metrics import mean_squared_error, mean_absolute_error\n",
    "import numpy as np\n",
    "import matplotlib.pyplot as plt\n",
    "import seaborn as sns\n",
    "import os\n",
    "import pandera as pa\n",
    "from scipy.stats import shapiro\n",
    "from sklearn.dummy import DummyRegressor\n",
    "from sklearn.model_selection import cross_validate\n",
    "\n",
    "alt.renderers.enable(\"mimetype\")\n",
    "%matplotlib inline"
   ]
  },
  {
   "cell_type": "markdown",
   "id": "de2ac88a-677a-43c7-a2e5-a2438b36c166",
   "metadata": {},
   "source": [
    "## Summary\n"
   ]
  },
  {
   "cell_type": "markdown",
   "id": "a89399f9-b75d-4a5f-b99e-d5d0a87b0cf3",
   "metadata": {},
   "source": [
    "This project investigates whether a student's mathematics performance can be predicted using demographic and behavioral data, aiming to help educators in supporting students and tailoring educational strategies. Using a Ridge Regression model with optimized hyperparameters (alpha = 1), we achieved a strong predictive accuracy with a cross-validation score of 0.81 and evaluation metrics on the test set including an MSE of 3.83, RMSE of 1.96, and MAE of 1.27. While the model demonstrates robust performance, future work could explore non-linear models and provide confidence intervals for predictions to enhance interpretability and reliability, ultimately contributing to better educational outcomes.\n"
   ]
  },
  {
   "cell_type": "markdown",
   "id": "5f39ddc5-3f95-494b-9a5c-2683993df544",
   "metadata": {},
   "source": [
    "## Introduction\n"
   ]
  },
  {
   "cell_type": "markdown",
   "id": "98ff9c58-1a81-43da-8cdf-95d1b3ac410c",
   "metadata": {},
   "source": [
    "Math teaches us to think logically and it also provides us with analytical and problem-solving skills. These skills can be applied to various academic and professional fields. However, student performance in mathematics can be influenced by many factors, like individual factor, social factor, and family factor. Research has shown that attributes such as study habits, age, social behaviour (alcohol consumptions, etc) and family background can significantly impact a student's academic success (Amuda, Bulus, and Joseph 2016); Modi 2023; Hjarnaa et al. 2023). Understanding these factors is crucial for improving educational outcomes.\n",
    "\n",
    "In this study, we aim to address this question: **“Can we predict a student's math academic performance based on the demographic and behavioral data?”**. Answering this question is important because understanding the factors behind student performance can help teachers provide support to struggling students. Furthermore, the ability to predict academic performance could assist schools in developing educational strategies based on different backgrounds of students.\n",
    "The goal of this study is to develop a machine learning model capable of predicting student’s math performance with high accuracy.\n",
    "\n",
    "The dataset used in this study contains detailed records of student demographics and behaviors, such as age, study habits, social behaviors, and family background. The target variable, mathematics performance, is measured as a continuous score reflecting students' final grade. This dataset offers a great opportunity to explore meaningful relationships between features and academic outcomes."
   ]
  },
  {
   "cell_type": "markdown",
   "id": "cb2c5e3f-76fd-43b9-a550-324a1eceb42b",
   "metadata": {},
   "source": [
    "## Methods & Results\n"
   ]
  },
  {
   "cell_type": "markdown",
   "id": "d11dcab6-b330-4ad0-81d0-d1fed8d36bde",
   "metadata": {},
   "source": [
    "The objective here to prepare the data for our classification analysis by exploring relevant features and summarizing key insights through data wrangling and visualization.\n"
   ]
  },
  {
   "cell_type": "markdown",
   "id": "d4eaee30-e34a-4fd9-9b0e-edae9defb46c",
   "metadata": {},
   "source": [
    "### Dataset Description\n",
    "\n",
    "The full data set contains the following columns:\n",
    "\n",
    "1. `school` - student's school (binary: 'GP' - Gabriel Pereira or 'MS' - Mousinho da Silveira)\n",
    "1. `sex` - student's sex (binary: 'F' - female or 'M' - male)\n",
    "1. `age` - student's age (numeric: from 15 to 22)\n",
    "1. `address` - student's home address type (binary: 'U' - urban or 'R' - rural)\n",
    "1. `famsize` - family size (binary: 'LE3' - less or equal to 3 or 'GT3' - greater than 3)\n",
    "1. `Pstatus` - parent's cohabitation status (binary: 'T' - living together or 'A' - apart)\n",
    "1. `Medu` - mother's education (numeric: 0 - none, 1 - primary education (4th grade), 2 - “ 5th to 9th grade, 3 - “ secondary education or 4 - “ higher education)\n",
    "1. `Fedu` - father's education (numeric: 0 - none, 1 - primary education (4th grade), 2 - “ 5th to 9th grade, 3 - “ secondary education or 4 - “ higher education)\n",
    "1. `Mjob` - mother's job (nominal: 'teacher', 'health' care related, civil 'services' (e.g. administrative or police), 'at_home' or 'other')\n",
    "1. `Fjob` - father's job (nominal: 'teacher', 'health' care related, civil 'services' (e.g. administrative or police), 'at_home' or 'other')\n",
    "1. `reason` - reason to choose this school (nominal: close to 'home', school 'reputation', 'course' preference or 'other')\n",
    "1. `guardian` - student's guardian (nominal: 'mother', 'father' or 'other')\n",
    "1. `traveltime` - home to school travel time (numeric: 1 - <15 min., 2 - 15 to 30 min., 3 - 30 min. to 1 hour, or 4 - >1 hour)\n",
    "1. `studytime` - weekly study time (numeric: 1 - <2 hours, 2 - 2 to 5 hours, 3 - 5 to 10 hours, or 4 - >10 hours)\n",
    "1. `failures` - number of past class failures (numeric: n if 1<=n<3, else 4)\n",
    "1. `schoolsup` - extra educational support (binary: yes or no)\n",
    "1. famsup` - family educational support (binary: yes or no)\n",
    "1. `paid` - extra paid classes within the course subject (Math or Portuguese) (binary: yes or no)\n",
    "1. `activities` - extra-curricular activities (binary: yes or no)\n",
    "1. `nursery` - attended nursery school (binary: yes or no)\n",
    "1. `higher` - wants to take higher education (binary: yes or no)\n",
    "1. `internet` - Internet access at home (binary: yes or no)\n",
    "1. `romantic` - with a romantic relationship (binary: yes or no)\n",
    "1. `famrel` - quality of family relationships (numeric: from 1 - very bad to 5 - excellent)\n",
    "1. `freetime` - free time after school (numeric: from 1 - very low to 5 - very high)\n",
    "1. `goout` - going out with friends (numeric: from 1 - very low to 5 - very high)\n",
    "1. `Dalc` - workday alcohol consumption (numeric: from 1 - very low to 5 - very high)\n",
    "1. `Walc` - weekend alcohol consumption (numeric: from 1 - very low to 5 - very high)\n",
    "1. `health` - current health status (numeric: from 1 - very bad to 5 - very good)\n",
    "1. `absences` - number of school absences (numeric: from 0 to 93)\n",
    "\n",
    "These columns represent the grades:\n",
    "\n",
    "- G1 - first period grade (numeric: from 0 to 20)\n",
    "- G2 - second period grade (numeric: from 0 to 20)\n",
    "- G3 - final grade (numeric: from 0 to 20, output target)\n",
    "\n",
    "_Attribution_: The dataset variable description is copied as original from the [UCI Machine Learning Repository](https://archive.ics.uci.edu/dataset/320/student+performance).\n"
   ]
  },
  {
   "cell_type": "markdown",
   "id": "2a47b333-d687-4f50-8cfe-01f6f0525f17",
   "metadata": {},
   "source": [
    "### Data Loading, Wrangling and Summary\n"
   ]
  },
  {
   "cell_type": "markdown",
   "id": "d5b37ade-6998-48a7-b07c-644b170f5158",
   "metadata": {},
   "source": [
    "Let's start by loading the data and have an initial view of data set structure.\n"
   ]
  },
  {
   "cell_type": "markdown",
   "id": "2bc9a43b-4743-4527-b2a7-92c0ad02bf40",
   "metadata": {},
   "source": [
    "The file is a `.csv` file with `;` as delimiter. Let's use `pandas`to read it in.\n"
   ]
  },
  {
   "cell_type": "code",
   "execution_count": 2,
   "id": "770b2e56-5ac4-4978-bf65-eef84fbd0312",
   "metadata": {},
   "outputs": [
    {
     "name": "stdout",
     "output_type": "stream",
     "text": [
      "File already existed, exitting script...\n"
     ]
    }
   ],
   "source": [
    "!python ../src/download_data.py"
   ]
  },
  {
   "cell_type": "code",
   "execution_count": 3,
   "id": "bfd8bde2",
   "metadata": {},
   "outputs": [],
   "source": [
    "# Validate and load data file format\n",
    "def load_data(filename: str) -> pd.DataFrame:      \n",
    "    if os.path.isfile(filename):\n",
    "        if filename[-4:] == '.csv':\n",
    "            df = pd.read_csv(filename, delimiter=';')\n",
    "            return df\n",
    "    return \"File is not in directory\"\n",
    "\n",
    "student_performance = load_data('../data/raw/student-mat.csv')"
   ]
  },
  {
   "cell_type": "markdown",
   "id": "8722235e-f4aa-4e9e-b2d1-0371acf3d56b",
   "metadata": {},
   "source": [
    "This provides an overview of the data set with 33 columns, each representing student attributes such as age, gender, study time, grades, and parental details.\n"
   ]
  },
  {
   "cell_type": "markdown",
   "id": "4422e7d9-e234-438d-874c-b492ac5ba41e",
   "metadata": {},
   "source": [
    "Let's get some information on the data set to better understand it.\n"
   ]
  },
  {
   "cell_type": "code",
   "execution_count": 4,
   "id": "e4e70519-b0f3-4a8b-9c95-8bf7f964a939",
   "metadata": {},
   "outputs": [
    {
     "data": {
      "text/html": [
       "<div>\n",
       "<style scoped>\n",
       "    .dataframe tbody tr th:only-of-type {\n",
       "        vertical-align: middle;\n",
       "    }\n",
       "\n",
       "    .dataframe tbody tr th {\n",
       "        vertical-align: top;\n",
       "    }\n",
       "\n",
       "    .dataframe thead th {\n",
       "        text-align: right;\n",
       "    }\n",
       "</style>\n",
       "<table border=\"1\" class=\"dataframe\">\n",
       "  <thead>\n",
       "    <tr style=\"text-align: right;\">\n",
       "      <th></th>\n",
       "      <th>school</th>\n",
       "      <th>sex</th>\n",
       "      <th>age</th>\n",
       "      <th>address</th>\n",
       "      <th>famsize</th>\n",
       "      <th>Pstatus</th>\n",
       "      <th>Medu</th>\n",
       "      <th>Fedu</th>\n",
       "      <th>Mjob</th>\n",
       "      <th>Fjob</th>\n",
       "      <th>...</th>\n",
       "      <th>famrel</th>\n",
       "      <th>freetime</th>\n",
       "      <th>goout</th>\n",
       "      <th>Dalc</th>\n",
       "      <th>Walc</th>\n",
       "      <th>health</th>\n",
       "      <th>absences</th>\n",
       "      <th>G1</th>\n",
       "      <th>G2</th>\n",
       "      <th>G3</th>\n",
       "    </tr>\n",
       "  </thead>\n",
       "  <tbody>\n",
       "    <tr>\n",
       "      <th>0</th>\n",
       "      <td>GP</td>\n",
       "      <td>F</td>\n",
       "      <td>18</td>\n",
       "      <td>U</td>\n",
       "      <td>GT3</td>\n",
       "      <td>A</td>\n",
       "      <td>4</td>\n",
       "      <td>4</td>\n",
       "      <td>at_home</td>\n",
       "      <td>teacher</td>\n",
       "      <td>...</td>\n",
       "      <td>4</td>\n",
       "      <td>3</td>\n",
       "      <td>4</td>\n",
       "      <td>1</td>\n",
       "      <td>1</td>\n",
       "      <td>3</td>\n",
       "      <td>6</td>\n",
       "      <td>5</td>\n",
       "      <td>6</td>\n",
       "      <td>6</td>\n",
       "    </tr>\n",
       "    <tr>\n",
       "      <th>1</th>\n",
       "      <td>GP</td>\n",
       "      <td>F</td>\n",
       "      <td>17</td>\n",
       "      <td>U</td>\n",
       "      <td>GT3</td>\n",
       "      <td>T</td>\n",
       "      <td>1</td>\n",
       "      <td>1</td>\n",
       "      <td>at_home</td>\n",
       "      <td>other</td>\n",
       "      <td>...</td>\n",
       "      <td>5</td>\n",
       "      <td>3</td>\n",
       "      <td>3</td>\n",
       "      <td>1</td>\n",
       "      <td>1</td>\n",
       "      <td>3</td>\n",
       "      <td>4</td>\n",
       "      <td>5</td>\n",
       "      <td>5</td>\n",
       "      <td>6</td>\n",
       "    </tr>\n",
       "    <tr>\n",
       "      <th>2</th>\n",
       "      <td>GP</td>\n",
       "      <td>F</td>\n",
       "      <td>15</td>\n",
       "      <td>U</td>\n",
       "      <td>LE3</td>\n",
       "      <td>T</td>\n",
       "      <td>1</td>\n",
       "      <td>1</td>\n",
       "      <td>at_home</td>\n",
       "      <td>other</td>\n",
       "      <td>...</td>\n",
       "      <td>4</td>\n",
       "      <td>3</td>\n",
       "      <td>2</td>\n",
       "      <td>2</td>\n",
       "      <td>3</td>\n",
       "      <td>3</td>\n",
       "      <td>10</td>\n",
       "      <td>7</td>\n",
       "      <td>8</td>\n",
       "      <td>10</td>\n",
       "    </tr>\n",
       "    <tr>\n",
       "      <th>3</th>\n",
       "      <td>GP</td>\n",
       "      <td>F</td>\n",
       "      <td>15</td>\n",
       "      <td>U</td>\n",
       "      <td>GT3</td>\n",
       "      <td>T</td>\n",
       "      <td>4</td>\n",
       "      <td>2</td>\n",
       "      <td>health</td>\n",
       "      <td>services</td>\n",
       "      <td>...</td>\n",
       "      <td>3</td>\n",
       "      <td>2</td>\n",
       "      <td>2</td>\n",
       "      <td>1</td>\n",
       "      <td>1</td>\n",
       "      <td>5</td>\n",
       "      <td>2</td>\n",
       "      <td>15</td>\n",
       "      <td>14</td>\n",
       "      <td>15</td>\n",
       "    </tr>\n",
       "    <tr>\n",
       "      <th>4</th>\n",
       "      <td>GP</td>\n",
       "      <td>F</td>\n",
       "      <td>16</td>\n",
       "      <td>U</td>\n",
       "      <td>GT3</td>\n",
       "      <td>T</td>\n",
       "      <td>3</td>\n",
       "      <td>3</td>\n",
       "      <td>other</td>\n",
       "      <td>other</td>\n",
       "      <td>...</td>\n",
       "      <td>4</td>\n",
       "      <td>3</td>\n",
       "      <td>2</td>\n",
       "      <td>1</td>\n",
       "      <td>2</td>\n",
       "      <td>5</td>\n",
       "      <td>4</td>\n",
       "      <td>6</td>\n",
       "      <td>10</td>\n",
       "      <td>10</td>\n",
       "    </tr>\n",
       "  </tbody>\n",
       "</table>\n",
       "<p>5 rows × 33 columns</p>\n",
       "</div>"
      ],
      "text/plain": [
       "  school sex  age address famsize Pstatus  Medu  Fedu     Mjob      Fjob  ...  \\\n",
       "0     GP   F   18       U     GT3       A     4     4  at_home   teacher  ...   \n",
       "1     GP   F   17       U     GT3       T     1     1  at_home     other  ...   \n",
       "2     GP   F   15       U     LE3       T     1     1  at_home     other  ...   \n",
       "3     GP   F   15       U     GT3       T     4     2   health  services  ...   \n",
       "4     GP   F   16       U     GT3       T     3     3    other     other  ...   \n",
       "\n",
       "  famrel freetime  goout  Dalc  Walc health absences  G1  G2  G3  \n",
       "0      4        3      4     1     1      3        6   5   6   6  \n",
       "1      5        3      3     1     1      3        4   5   5   6  \n",
       "2      4        3      2     2     3      3       10   7   8  10  \n",
       "3      3        2      2     1     1      5        2  15  14  15  \n",
       "4      4        3      2     1     2      5        4   6  10  10  \n",
       "\n",
       "[5 rows x 33 columns]"
      ]
     },
     "execution_count": 4,
     "metadata": {},
     "output_type": "execute_result"
    }
   ],
   "source": [
    "student_performance.head()"
   ]
  },
  {
   "cell_type": "code",
   "execution_count": 5,
   "id": "fbc58e24-abcb-455d-a911-e8e678fa515a",
   "metadata": {},
   "outputs": [
    {
     "name": "stdout",
     "output_type": "stream",
     "text": [
      "<class 'pandas.core.frame.DataFrame'>\n",
      "RangeIndex: 395 entries, 0 to 394\n",
      "Data columns (total 33 columns):\n",
      " #   Column      Non-Null Count  Dtype \n",
      "---  ------      --------------  ----- \n",
      " 0   school      395 non-null    object\n",
      " 1   sex         395 non-null    object\n",
      " 2   age         395 non-null    int64 \n",
      " 3   address     395 non-null    object\n",
      " 4   famsize     395 non-null    object\n",
      " 5   Pstatus     395 non-null    object\n",
      " 6   Medu        395 non-null    int64 \n",
      " 7   Fedu        395 non-null    int64 \n",
      " 8   Mjob        395 non-null    object\n",
      " 9   Fjob        395 non-null    object\n",
      " 10  reason      395 non-null    object\n",
      " 11  guardian    395 non-null    object\n",
      " 12  traveltime  395 non-null    int64 \n",
      " 13  studytime   395 non-null    int64 \n",
      " 14  failures    395 non-null    int64 \n",
      " 15  schoolsup   395 non-null    object\n",
      " 16  famsup      395 non-null    object\n",
      " 17  paid        395 non-null    object\n",
      " 18  activities  395 non-null    object\n",
      " 19  nursery     395 non-null    object\n",
      " 20  higher      395 non-null    object\n",
      " 21  internet    395 non-null    object\n",
      " 22  romantic    395 non-null    object\n",
      " 23  famrel      395 non-null    int64 \n",
      " 24  freetime    395 non-null    int64 \n",
      " 25  goout       395 non-null    int64 \n",
      " 26  Dalc        395 non-null    int64 \n",
      " 27  Walc        395 non-null    int64 \n",
      " 28  health      395 non-null    int64 \n",
      " 29  absences    395 non-null    int64 \n",
      " 30  G1          395 non-null    int64 \n",
      " 31  G2          395 non-null    int64 \n",
      " 32  G3          395 non-null    int64 \n",
      "dtypes: int64(16), object(17)\n",
      "memory usage: 102.0+ KB\n"
     ]
    }
   ],
   "source": [
    "student_performance.info()"
   ]
  },
  {
   "cell_type": "markdown",
   "id": "62339e42-1f90-4b80-8ce3-a694cf0a8cd1",
   "metadata": {},
   "source": [
    "The data set contains 395 observations and 33 columns covering different aspects of student demographics, academic and behavioral traits.\n"
   ]
  },
  {
   "cell_type": "markdown",
   "id": "8cd60c8d-aad7-4951-9629-99f7ff729971",
   "metadata": {},
   "source": [
    "We can see that there is no missing values. There is not need to handle NAs.\n"
   ]
  },
  {
   "cell_type": "markdown",
   "id": "0d9b1cd2-1ef5-4e4b-a9f3-e58d9b433e2d",
   "metadata": {},
   "source": [
    "The data set includes categorical (school, sex, Mjob) and numerical (age, G1, G2, G3) features.\n"
   ]
  },
  {
   "cell_type": "markdown",
   "id": "0d1399a0-a604-415e-bb17-21fef3acc880",
   "metadata": {},
   "source": [
    "There is a large range of features but not all of them are necessary for this analysis. Let's proceed and select only the necessary ones.\n"
   ]
  },
  {
   "cell_type": "markdown",
   "id": "653fc493-938c-46f7-9130-906fd786cd72",
   "metadata": {},
   "source": [
    "Let's selected the following key columns:\n",
    "\n",
    "- Demographic attributes: sex, age\n",
    "- Academic Attributes: studytime, failures, G1, G2, G3 (grades for three terms)\n",
    "- Behavioral Attributes: goout (socializing), Dalc (weekday alcohol consumption), Walc (weekend alcohol consumption)\n",
    "\n",
    "We will also split the dataset into train and test set with a 80/20 ratio. We also set `random_state=123` for reproducibility.\n"
   ]
  },
  {
   "cell_type": "code",
   "execution_count": 6,
   "id": "61c21a0d-14a5-40a9-968d-04f7fe619c7a",
   "metadata": {},
   "outputs": [],
   "source": [
    "# Necessary columns\n",
    "columns = ['sex', \n",
    "           'age', \n",
    "           'studytime', \n",
    "           'failures', \n",
    "           'goout', \n",
    "           'Dalc', \n",
    "           'Walc', \n",
    "           'G3']\n",
    "\n",
    "subset_df = student_performance[columns]\n",
    "\n",
    "train_df, test_df = train_test_split(\n",
    "    subset_df, test_size=0.2, random_state=123\n",
    ")"
   ]
  },
  {
   "cell_type": "markdown",
   "id": "28406fac-29fc-4eca-b9a6-66c38a0341ec",
   "metadata": {},
   "source": [
    "#### Data Validation Checks"
   ]
  },
  {
   "cell_type": "code",
   "execution_count": 7,
   "id": "9cc8bcf3-23c5-4483-b614-be5ab9e9b602",
   "metadata": {},
   "outputs": [
    {
     "ename": "SchemaErrors",
     "evalue": "{\n    \"DATA\": {\n        \"DATAFRAME_CHECK\": [\n            {\n                \"schema\": null,\n                \"column\": null,\n                \"check\": \"Duplicate rows found.\",\n                \"error\": \"DataFrameSchema 'None' failed series or dataframe validator 0: <Check <lambda>: Duplicate rows found.>\"\n            }\n        ]\n    }\n}",
     "output_type": "error",
     "traceback": [
      "\u001b[0;31m---------------------------------------------------------------------------\u001b[0m",
      "\u001b[0;31mSchemaErrors\u001b[0m                              Traceback (most recent call last)",
      "Cell \u001b[0;32mIn[7], line 25\u001b[0m\n\u001b[1;32m      1\u001b[0m \u001b[38;5;66;03m# Data validation checks:\u001b[39;00m\n\u001b[1;32m      2\u001b[0m \n\u001b[1;32m      3\u001b[0m \u001b[38;5;66;03m# Correct column names\u001b[39;00m\n\u001b[0;32m   (...)\u001b[0m\n\u001b[1;32m      6\u001b[0m \u001b[38;5;66;03m# No duplicate observations\u001b[39;00m\n\u001b[1;32m      7\u001b[0m \u001b[38;5;66;03m# Correct category levels (i.e., no string mismatches or single values)\u001b[39;00m\n\u001b[1;32m      8\u001b[0m schema \u001b[38;5;241m=\u001b[39m pa\u001b[38;5;241m.\u001b[39mDataFrameSchema(\n\u001b[1;32m      9\u001b[0m     {\n\u001b[1;32m     10\u001b[0m         \u001b[38;5;124m\"\u001b[39m\u001b[38;5;124msex\u001b[39m\u001b[38;5;124m\"\u001b[39m: pa\u001b[38;5;241m.\u001b[39mColumn(\u001b[38;5;28mstr\u001b[39m, pa\u001b[38;5;241m.\u001b[39mCheck\u001b[38;5;241m.\u001b[39misin([\u001b[38;5;124m\"\u001b[39m\u001b[38;5;124mM\u001b[39m\u001b[38;5;124m\"\u001b[39m, \u001b[38;5;124m\"\u001b[39m\u001b[38;5;124mF\u001b[39m\u001b[38;5;124m\"\u001b[39m])),\n\u001b[0;32m   (...)\u001b[0m\n\u001b[1;32m     22\u001b[0m     ]\n\u001b[1;32m     23\u001b[0m )\n\u001b[0;32m---> 25\u001b[0m \u001b[43mschema\u001b[49m\u001b[38;5;241;43m.\u001b[39;49m\u001b[43mvalidate\u001b[49m\u001b[43m(\u001b[49m\u001b[43msubset_df\u001b[49m\u001b[43m,\u001b[49m\u001b[43m \u001b[49m\u001b[43mlazy\u001b[49m\u001b[38;5;241;43m=\u001b[39;49m\u001b[38;5;28;43;01mTrue\u001b[39;49;00m\u001b[43m)\u001b[49m;\n",
      "File \u001b[0;32m~/miniforge3/envs/522-project-env/lib/python3.11/site-packages/pandera/api/pandas/container.py:126\u001b[0m, in \u001b[0;36mDataFrameSchema.validate\u001b[0;34m(self, check_obj, head, tail, sample, random_state, lazy, inplace)\u001b[0m\n\u001b[1;32m    114\u001b[0m     check_obj \u001b[38;5;241m=\u001b[39m check_obj\u001b[38;5;241m.\u001b[39mmap_partitions(  \u001b[38;5;66;03m# type: ignore [operator]\u001b[39;00m\n\u001b[1;32m    115\u001b[0m         \u001b[38;5;28mself\u001b[39m\u001b[38;5;241m.\u001b[39m_validate,\n\u001b[1;32m    116\u001b[0m         head\u001b[38;5;241m=\u001b[39mhead,\n\u001b[0;32m   (...)\u001b[0m\n\u001b[1;32m    122\u001b[0m         meta\u001b[38;5;241m=\u001b[39mcheck_obj,\n\u001b[1;32m    123\u001b[0m     )\n\u001b[1;32m    124\u001b[0m     \u001b[38;5;28;01mreturn\u001b[39;00m check_obj\u001b[38;5;241m.\u001b[39mpandera\u001b[38;5;241m.\u001b[39madd_schema(\u001b[38;5;28mself\u001b[39m)\n\u001b[0;32m--> 126\u001b[0m \u001b[38;5;28;01mreturn\u001b[39;00m \u001b[38;5;28;43mself\u001b[39;49m\u001b[38;5;241;43m.\u001b[39;49m\u001b[43m_validate\u001b[49m\u001b[43m(\u001b[49m\n\u001b[1;32m    127\u001b[0m \u001b[43m    \u001b[49m\u001b[43mcheck_obj\u001b[49m\u001b[38;5;241;43m=\u001b[39;49m\u001b[43mcheck_obj\u001b[49m\u001b[43m,\u001b[49m\n\u001b[1;32m    128\u001b[0m \u001b[43m    \u001b[49m\u001b[43mhead\u001b[49m\u001b[38;5;241;43m=\u001b[39;49m\u001b[43mhead\u001b[49m\u001b[43m,\u001b[49m\n\u001b[1;32m    129\u001b[0m \u001b[43m    \u001b[49m\u001b[43mtail\u001b[49m\u001b[38;5;241;43m=\u001b[39;49m\u001b[43mtail\u001b[49m\u001b[43m,\u001b[49m\n\u001b[1;32m    130\u001b[0m \u001b[43m    \u001b[49m\u001b[43msample\u001b[49m\u001b[38;5;241;43m=\u001b[39;49m\u001b[43msample\u001b[49m\u001b[43m,\u001b[49m\n\u001b[1;32m    131\u001b[0m \u001b[43m    \u001b[49m\u001b[43mrandom_state\u001b[49m\u001b[38;5;241;43m=\u001b[39;49m\u001b[43mrandom_state\u001b[49m\u001b[43m,\u001b[49m\n\u001b[1;32m    132\u001b[0m \u001b[43m    \u001b[49m\u001b[43mlazy\u001b[49m\u001b[38;5;241;43m=\u001b[39;49m\u001b[43mlazy\u001b[49m\u001b[43m,\u001b[49m\n\u001b[1;32m    133\u001b[0m \u001b[43m    \u001b[49m\u001b[43minplace\u001b[49m\u001b[38;5;241;43m=\u001b[39;49m\u001b[43minplace\u001b[49m\u001b[43m,\u001b[49m\n\u001b[1;32m    134\u001b[0m \u001b[43m\u001b[49m\u001b[43m)\u001b[49m\n",
      "File \u001b[0;32m~/miniforge3/envs/522-project-env/lib/python3.11/site-packages/pandera/api/pandas/container.py:156\u001b[0m, in \u001b[0;36mDataFrameSchema._validate\u001b[0;34m(self, check_obj, head, tail, sample, random_state, lazy, inplace)\u001b[0m\n\u001b[1;32m    147\u001b[0m \u001b[38;5;28;01mif\u001b[39;00m \u001b[38;5;28mself\u001b[39m\u001b[38;5;241m.\u001b[39m_is_inferred:\n\u001b[1;32m    148\u001b[0m     warnings\u001b[38;5;241m.\u001b[39mwarn(\n\u001b[1;32m    149\u001b[0m         \u001b[38;5;124mf\u001b[39m\u001b[38;5;124m\"\u001b[39m\u001b[38;5;124mThis \u001b[39m\u001b[38;5;132;01m{\u001b[39;00m\u001b[38;5;28mtype\u001b[39m(\u001b[38;5;28mself\u001b[39m)\u001b[38;5;132;01m}\u001b[39;00m\u001b[38;5;124m is an inferred schema that hasn\u001b[39m\u001b[38;5;124m'\u001b[39m\u001b[38;5;124mt been \u001b[39m\u001b[38;5;124m\"\u001b[39m\n\u001b[1;32m    150\u001b[0m         \u001b[38;5;124m\"\u001b[39m\u001b[38;5;124mmodified. It\u001b[39m\u001b[38;5;124m'\u001b[39m\u001b[38;5;124ms recommended that you refine the schema \u001b[39m\u001b[38;5;124m\"\u001b[39m\n\u001b[0;32m   (...)\u001b[0m\n\u001b[1;32m    153\u001b[0m         \u001b[38;5;167;01mUserWarning\u001b[39;00m,\n\u001b[1;32m    154\u001b[0m     )\n\u001b[0;32m--> 156\u001b[0m \u001b[38;5;28;01mreturn\u001b[39;00m \u001b[38;5;28;43mself\u001b[39;49m\u001b[38;5;241;43m.\u001b[39;49m\u001b[43mget_backend\u001b[49m\u001b[43m(\u001b[49m\u001b[43mcheck_obj\u001b[49m\u001b[43m)\u001b[49m\u001b[38;5;241;43m.\u001b[39;49m\u001b[43mvalidate\u001b[49m\u001b[43m(\u001b[49m\n\u001b[1;32m    157\u001b[0m \u001b[43m    \u001b[49m\u001b[43mcheck_obj\u001b[49m\u001b[43m,\u001b[49m\n\u001b[1;32m    158\u001b[0m \u001b[43m    \u001b[49m\u001b[43mschema\u001b[49m\u001b[38;5;241;43m=\u001b[39;49m\u001b[38;5;28;43mself\u001b[39;49m\u001b[43m,\u001b[49m\n\u001b[1;32m    159\u001b[0m \u001b[43m    \u001b[49m\u001b[43mhead\u001b[49m\u001b[38;5;241;43m=\u001b[39;49m\u001b[43mhead\u001b[49m\u001b[43m,\u001b[49m\n\u001b[1;32m    160\u001b[0m \u001b[43m    \u001b[49m\u001b[43mtail\u001b[49m\u001b[38;5;241;43m=\u001b[39;49m\u001b[43mtail\u001b[49m\u001b[43m,\u001b[49m\n\u001b[1;32m    161\u001b[0m \u001b[43m    \u001b[49m\u001b[43msample\u001b[49m\u001b[38;5;241;43m=\u001b[39;49m\u001b[43msample\u001b[49m\u001b[43m,\u001b[49m\n\u001b[1;32m    162\u001b[0m \u001b[43m    \u001b[49m\u001b[43mrandom_state\u001b[49m\u001b[38;5;241;43m=\u001b[39;49m\u001b[43mrandom_state\u001b[49m\u001b[43m,\u001b[49m\n\u001b[1;32m    163\u001b[0m \u001b[43m    \u001b[49m\u001b[43mlazy\u001b[49m\u001b[38;5;241;43m=\u001b[39;49m\u001b[43mlazy\u001b[49m\u001b[43m,\u001b[49m\n\u001b[1;32m    164\u001b[0m \u001b[43m    \u001b[49m\u001b[43minplace\u001b[49m\u001b[38;5;241;43m=\u001b[39;49m\u001b[43minplace\u001b[49m\u001b[43m,\u001b[49m\n\u001b[1;32m    165\u001b[0m \u001b[43m\u001b[49m\u001b[43m)\u001b[49m\n",
      "File \u001b[0;32m~/miniforge3/envs/522-project-env/lib/python3.11/site-packages/pandera/backends/pandas/container.py:123\u001b[0m, in \u001b[0;36mDataFrameSchemaBackend.validate\u001b[0;34m(self, check_obj, schema, head, tail, sample, random_state, lazy, inplace)\u001b[0m\n\u001b[1;32m    121\u001b[0m         \u001b[38;5;28;01mreturn\u001b[39;00m check_obj\n\u001b[1;32m    122\u001b[0m     \u001b[38;5;28;01melse\u001b[39;00m:\n\u001b[0;32m--> 123\u001b[0m         \u001b[38;5;28;01mraise\u001b[39;00m SchemaErrors(\n\u001b[1;32m    124\u001b[0m             schema\u001b[38;5;241m=\u001b[39mschema,\n\u001b[1;32m    125\u001b[0m             schema_errors\u001b[38;5;241m=\u001b[39merror_handler\u001b[38;5;241m.\u001b[39mschema_errors,\n\u001b[1;32m    126\u001b[0m             data\u001b[38;5;241m=\u001b[39mcheck_obj,\n\u001b[1;32m    127\u001b[0m         )\n\u001b[1;32m    129\u001b[0m \u001b[38;5;28;01mreturn\u001b[39;00m check_obj\n",
      "\u001b[0;31mSchemaErrors\u001b[0m: {\n    \"DATA\": {\n        \"DATAFRAME_CHECK\": [\n            {\n                \"schema\": null,\n                \"column\": null,\n                \"check\": \"Duplicate rows found.\",\n                \"error\": \"DataFrameSchema 'None' failed series or dataframe validator 0: <Check <lambda>: Duplicate rows found.>\"\n            }\n        ]\n    }\n}"
     ]
    }
   ],
   "source": [
    "# Data validation checks:\n",
    "\n",
    "# Correct column names\n",
    "# No empty observations\n",
    "# Correct data types in each column\n",
    "# No duplicate observations\n",
    "# Correct category levels (i.e., no string mismatches or single values)\n",
    "schema = pa.DataFrameSchema(\n",
    "    {\n",
    "        \"sex\": pa.Column(str, pa.Check.isin([\"M\", \"F\"])),\n",
    "        \"age\": pa.Column(int, pa.Check.between(15, 22), nullable=False),\n",
    "        \"studytime\": pa.Column(int, pa.Check.between(1, 4), nullable=False), \n",
    "        \"failures\": pa.Column(int, pa.Check.between(0, 4), nullable=False),\n",
    "        \"goout\": pa.Column(int, pa.Check.between(1, 5), nullable=False),\n",
    "        \"Dalc\": pa.Column(int, pa.Check.between(1, 5), nullable=False),\n",
    "        \"Walc\": pa.Column(int, pa.Check.between(1, 5), nullable=False),\n",
    "        \"G1\": pa.Column(int, pa.Check.between(0, 20), nullable=False),\n",
    "        \"G2\": pa.Column(int, pa.Check.between(0, 20), nullable=False),\n",
    "        \"G3\": pa.Column(int, pa.Check.between(0, 20), nullable=False)\n",
    "    },\n",
    "    checks=[\n",
    "        pa.Check(lambda df: ~df.duplicated().any(), error=\"Duplicate rows found.\"),\n",
    "        pa.Check(lambda df: ~(df.isna().all(axis=1)).any(), error=\"Empty rows found.\")\n",
    "    ]\n",
    ")\n",
    "\n",
    "schema.validate(subset_df, lazy=True);"
   ]
  },
  {
   "cell_type": "code",
   "execution_count": null,
   "id": "9b9be085",
   "metadata": {},
   "outputs": [],
   "source": [
    "# Missingness Not Beyond Expected Threshold\n",
    "def validate_missingness(data: pd.DataFrame, threshold: float = 0.05) -> None:\n",
    "    \"\"\"\n",
    "    Validate that missing values in the dataset do not exceed the acceptable threshold and visualize the missingness.\n",
    "\n",
    "    Parameters\n",
    "    ----------\n",
    "    data : pd.DataFrame\n",
    "        The dataset to check for missing values.\n",
    "    threshold : float, optional\n",
    "        The maximum allowable percentage of missing values per column (default is 0.05).\n",
    "\n",
    "    Returns\n",
    "    -------\n",
    "    None\n",
    "        This function does not return anything. It prints a message indicating whether missing values are within\n",
    "        the acceptable threshold and displays a heatmap of missing values in the dataset.\n",
    "\n",
    "    Examples\n",
    "    --------\n",
    "    >>> import pandas as pd\n",
    "    >>> df = pd.DataFrame({\n",
    "    >>>     'A': [1, 2, None, 4, 5],\n",
    "    >>>     'B': [None, None, 3, 4, 5],\n",
    "    >>>     'C': [1, 2, 3, 4, 5]\n",
    "    >>> })\n",
    "    >>> validate_missingness(df, threshold=0.1)\n",
    "    \"\"\"\n",
    "    \n",
    "    print(\"Validating missingness...\")\n",
    "    missing_percentage = data.isnull().mean()\n",
    "    above_threshold = missing_percentage[missing_percentage > threshold]\n",
    "\n",
    "    if above_threshold.empty:\n",
    "        print(\"Missingness is within the acceptable threshold.\")\n",
    "    else:\n",
    "        print(f\"Columns with missing values beyond threshold ({threshold}):\")\n",
    "        print(above_threshold)\n",
    "\n",
    "    # To visualize missingness\n",
    "    plt.figure(figsize=(10, 6))\n",
    "    sns.heatmap(\n",
    "        data.isnull(),\n",
    "        cbar=True,\n",
    "        cmap=\"viridis\",\n",
    "        cbar_kws={'label': 'Missing Value Indicator (1 = Missing, 0 = Present)'}\n",
    "    )\n",
    "    plt.title(\"Missing Value Heatmap\")\n",
    "    plt.show()\n",
    "validate_missingness(subset_df)"
   ]
  },
  {
   "cell_type": "markdown",
   "id": "a8fbaf15-4a1a-402e-a0dd-9015c6fdcef0",
   "metadata": {},
   "source": [
    "**Figure 1: Missing Values Heatmap**"
   ]
  },
  {
   "cell_type": "code",
   "execution_count": null,
   "id": "7f9e70f7",
   "metadata": {},
   "outputs": [],
   "source": [
    "# Target/Response Variable Follows Expected Distribution\n",
    "def validate_target_distribution(data: pd.DataFrame, target_column: str) -> None:\n",
    "    \"\"\"\n",
    "    Validate the distribution of the target variable by plotting its histogram and performing a Shapiro-Wilk test.\n",
    "\n",
    "    Parameters\n",
    "    ----------\n",
    "    data : pd.DataFrame\n",
    "        The dataset containing the target variable.\n",
    "    target_column : str\n",
    "        The name of the target column whose distribution is to be validated.\n",
    "\n",
    "    Returns\n",
    "    -------\n",
    "    None\n",
    "        This function does not return anything. It displays a histogram with a KDE of the target variable\n",
    "        and prints the result of the normality test.\n",
    "\n",
    "    Examples\n",
    "    --------\n",
    "    >>> import pandas as pd\n",
    "    >>> df = pd.DataFrame({\n",
    "    >>>     'target': [1.2, 2.3, 2.9, 3.5, 2.1, 3.8, 4.0, 5.1]\n",
    "    >>> })\n",
    "    >>> validate_target_distribution(df, 'target')\n",
    "    \"\"\"\n",
    "    print(\"Validating target distribution...\")\n",
    "    sns.histplot(data[target_column], \n",
    "                 kde=True, \n",
    "                 bins=20)\n",
    "    plt.title(f\"Distribution of {target_column}\")\n",
    "    plt.show()\n",
    "    stat, p = shapiro(data[target_column])\n",
    "    if p > 0.05:\n",
    "        print(f\"Target variable '{target_column}' follows a normal distribution (p={p:.4f}).\")\n",
    "    else:\n",
    "        print(f\"Target variable '{target_column}' does not follow a normal distribution (p={p:.4f}).\")\n",
    "validate_target_distribution(subset_df, target_column=\"G3\")"
   ]
  },
  {
   "cell_type": "markdown",
   "id": "981b8275-7d7c-4167-9a92-29d186e9ae44",
   "metadata": {},
   "source": [
    "**Figure 2: Distribution of the target variable**"
   ]
  },
  {
   "attachments": {},
   "cell_type": "markdown",
   "id": "6a6b909e-033c-4864-b596-bfb51b48a23f",
   "metadata": {},
   "source": [
    "#### Checking for Outliers\n",
    "\n",
    "Before proceeding with preprocessing and modeling, we check for potential outliers or anomalous values in the training dataset."
   ]
  },
  {
   "cell_type": "code",
   "execution_count": null,
   "id": "234fc021-4bcd-4b2d-a6bd-155d9aa51ba3",
   "metadata": {},
   "outputs": [],
   "source": [
    "def validate_no_outliers(data: pd.DataFrame, numeric_columns: list, max_cols: int = 3) -> None:\n",
    "    \"\"\"\n",
    "    Validate the presence of outliers in numeric columns using boxplots.\n",
    "\n",
    "    Parameters\n",
    "    ----------\n",
    "    data : pd.DataFrame\n",
    "        The dataset containing the numeric columns to be checked for outliers.\n",
    "    numeric_columns : list\n",
    "        A list of column names from `data` that contain numeric data to plot.\n",
    "    max_cols : int, optional\n",
    "        The maximum number of boxplots to display per row (default is 3).\n",
    "\n",
    "    Returns\n",
    "    -------\n",
    "    None\n",
    "        This function does not return anything. It displays boxplots for the specified numeric columns.\n",
    "    \n",
    "    Examples\n",
    "    --------\n",
    "    >>> import pandas as pd\n",
    "    >>> from matplotlib import pyplot as plt\n",
    "    >>> import seaborn as sns\n",
    "    >>> df = pd.DataFrame({\n",
    "    ...     'A': [1, 2, 3, 4, 100],\n",
    "    ...     'B': [10, 20, 30, 40, 50],\n",
    "    ...     'C': [5, 15, 25, 35, 45]\n",
    "    ... })\n",
    "    >>> validate_no_outliers(data=df, numeric_columns=['A', 'B', 'C'], max_cols=2)\n",
    "    \"\"\"\n",
    "    print(\"Validating outliers...\")\n",
    "\n",
    "    num_plots = len(numeric_columns)\n",
    "    nrows = -(-num_plots // max_cols)\n",
    "    ncols = min(num_plots, max_cols)\n",
    "\n",
    "    fig, axes = plt.subplots(nrows=nrows, ncols=ncols, figsize=(15, 10))\n",
    "\n",
    "    for ax, column in zip(axes.flatten(), numeric_columns):\n",
    "        sns.boxplot(data=subset_df, x=column, ax=ax)\n",
    "        ax.set_title(f\"Boxplot of {column}\")\n",
    "    \n",
    "    plt.tight_layout(rect=[0, 0, 1, 0.95])\n",
    "    plt.suptitle(\"Boxplots of Numeric Columns\", fontsize=14)\n",
    "    plt.show()"
   ]
  },
  {
   "cell_type": "code",
   "execution_count": null,
   "id": "44090269-28c3-4a18-95f4-f81b22f28428",
   "metadata": {},
   "outputs": [],
   "source": [
    "# checking outlier for dataset\n",
    "numeric_columns = subset_df.select_dtypes(include='number').columns\n",
    "\n",
    "validate_no_outliers(subset_df, numeric_columns)"
   ]
  },
  {
   "cell_type": "markdown",
   "id": "23fdadaf-b11a-4778-8547-16af8685f6f0",
   "metadata": {},
   "source": [
    "**Figure 3: Outliers visualization**"
   ]
  },
  {
   "attachments": {},
   "cell_type": "markdown",
   "id": "8e987cd7-4f8e-48bb-a21a-52867421f216",
   "metadata": {},
   "source": [
    "There are few outliers in `failures`, `Dalc`, `age`, `studytime`, `G2`, and `G1`, as seen in the boxplots. These outliers are relatively few compared to the 395 entries, but could still influence model results. We will apply a `StandardScaler` transformation to the numeric variables, the effect of these outliers will be minimized. Therefore, we will not drop or modify these outliers at this step."
   ]
  },
  {
   "cell_type": "code",
   "execution_count": null,
   "id": "2653ebc6-05be-4cb7-b712-1055e9e091c3",
   "metadata": {},
   "outputs": [],
   "source": [
    "import warnings\n",
    "\n",
    "def validate_anomalous_correlations(data: pd.DataFrame, target_col: str, threshold: float = 0.9, zero_tolerance: float = 1e-5):\n",
    "    \"\"\"\n",
    "    Check for anomalous correlations in a dataset:\n",
    "    - Between features and the target variable.\n",
    "    - Among features themselves.\n",
    "    - Includes checks for zero correlations.\n",
    "\n",
    "    Parameters\n",
    "    ----------\n",
    "    data : pd.DataFrame\n",
    "        The dataset containing the target and features.\n",
    "    target_col : str\n",
    "        The name of the target column in the dataset.\n",
    "    threshold : float, optional\n",
    "        The correlation threshold above which correlations are flagged as anomalous (default is 0.9).\n",
    "    zero_tolerance : float, optional\n",
    "        The tolerance for detecting zero correlations (default is 1e-5).\n",
    "\n",
    "    Returns\n",
    "    -------\n",
    "    dict\n",
    "        A dictionary containing:\n",
    "        - 'feature_to_target': DataFrame of correlations between features and the target.\n",
    "        - 'feature_to_feature': DataFrame of correlations between features themselves.\n",
    "\n",
    "    Raises\n",
    "    ------\n",
    "    Warning\n",
    "        Issues warnings for high and near-zero correlations.\n",
    "    \"\"\"\n",
    "    if target_col not in data.columns:\n",
    "        raise ValueError(f\"Target column '{target_col}' not found in the dataset.\")\n",
    "    \n",
    "    features = data.drop(columns=[target_col])\n",
    "    target = data[target_col]\n",
    "\n",
    "    # Compute the full correlation matrix\n",
    "    correlation_matrix = data.corr()\n",
    "\n",
    "    # Step 1: Correlations between features and target\n",
    "    target_correlations = correlation_matrix[target_col].drop(target_col)\n",
    "\n",
    "    # Check for anomalous (high) correlations\n",
    "    anomalous_target_corrs = target_correlations[target_correlations.abs() > threshold]\n",
    "    for feature, corr in anomalous_target_corrs.items():\n",
    "        warnings.warn(\n",
    "            f\"Anomalous correlation ({corr:.2f}) between feature '{feature}' and target '{target_col}'.\"\n",
    "        )\n",
    "\n",
    "    # Check for zero correlations\n",
    "    zero_target_corrs = target_correlations[target_correlations.abs() <= zero_tolerance]\n",
    "    for feature, corr in zero_target_corrs.items():\n",
    "        warnings.warn(\n",
    "            f\"Zero or near-zero correlation ({corr:.2f}) between feature '{feature}' and target '{target_col}'.\"\n",
    "        )\n",
    "\n",
    "    # Step 2: Correlations among features\n",
    "    feature_correlations = correlation_matrix.loc[features.columns, features.columns]\n",
    "\n",
    "    # Check for anomalous (high) correlations among features\n",
    "    anomalous_feature_corrs = feature_correlations[\n",
    "        (feature_correlations.abs() > threshold) & (feature_correlations != 1)\n",
    "    ]\n",
    "    for feature1 in anomalous_feature_corrs.index:\n",
    "        for feature2 in anomalous_feature_corrs.columns:\n",
    "            if feature1 != feature2 and not pd.isna(anomalous_feature_corrs.loc[feature1, feature2]):\n",
    "                corr = anomalous_feature_corrs.loc[feature1, feature2]\n",
    "                warnings.warn(\n",
    "                    f\"Anomalous correlation ({corr:.2f}) between features '{feature1}' and '{feature2}'.\"\n",
    "                )\n",
    "                anomalous_feature_corrs.loc[feature1, feature2] = None\n",
    "                anomalous_feature_corrs.loc[feature2, feature1] = None\n",
    "\n",
    "    feature_to_target_df = pd.DataFrame({\n",
    "        'Feature': target_correlations.index,\n",
    "        'Correlation': target_correlations.values\n",
    "    }).reset_index(drop=True)\n",
    "\n",
    "    feature_to_feature_df = feature_correlations.stack().reset_index()\n",
    "    feature_to_feature_df.columns = ['Feature1', 'Feature2', 'Correlation']\n",
    "    feature_to_feature_df = feature_to_feature_df[\n",
    "        feature_to_feature_df['Feature1'] != feature_to_feature_df['Feature2']\n",
    "    ]\n",
    "\n",
    "    return {\n",
    "        'feature_to_target': feature_to_target_df,\n",
    "        'feature_to_feature': feature_to_feature_df\n",
    "    }\n",
    "\n",
    "# a warning will be issue if there are any problems\n",
    "correlation_check = validate_anomalous_correlations(\n",
    "    train_df.select_dtypes(include=\"number\"), \"G3\", threshold=0.95\n",
    ")"
   ]
  },
  {
   "cell_type": "code",
   "execution_count": null,
   "id": "ff2ed11f-2e43-42d1-8435-69e170bfa037",
   "metadata": {},
   "outputs": [],
   "source": [
    "train_df.head()"
   ]
  },
  {
   "cell_type": "code",
   "execution_count": null,
   "id": "58ac916c-4663-4d2c-a986-bf51c27ef2cd",
   "metadata": {},
   "outputs": [],
   "source": [
    "train_df.info()"
   ]
  },
  {
   "cell_type": "markdown",
   "id": "c8fc4a4e-27a9-46c1-bcb9-84f2e85bb8c4",
   "metadata": {},
   "source": [
    "Let's get a summary of the training set we are going to use for the analysis.\n"
   ]
  },
  {
   "cell_type": "code",
   "execution_count": null,
   "id": "2a880725-cc58-425a-b8c4-0a7e0a711ef9",
   "metadata": {},
   "outputs": [],
   "source": [
    "train_df.describe()"
   ]
  },
  {
   "cell_type": "markdown",
   "id": "ad54fa7e-20fd-4c00-8704-6e6f5eceecdf",
   "metadata": {},
   "source": [
    "Key takeaways from summary statistics:\n",
    "\n",
    "- Final grades `G3` range from `0` to `20`, with an average of around `10.26`.\n",
    "- The average study time is about `2.05` hours.\n",
    "- Most students have zero reported failures.\n",
    "- Alcohol consumption (Dalc and Walc) and socializing habits (goout) appear to vary across the student population.\n"
   ]
  },
  {
   "cell_type": "markdown",
   "id": "54e0a490-540d-4bc8-b6be-0aa9f37a24f4",
   "metadata": {},
   "source": [
    "Let's create a visualization to explore the final grades `G3` distribution. We will use a histogram as it allows us to see the spread.\n"
   ]
  },
  {
   "cell_type": "code",
   "execution_count": null,
   "id": "40baf71d-9177-41cb-b172-5369c3f835b7",
   "metadata": {},
   "outputs": [],
   "source": [
    "# Visualization of grade distributions\n",
    "eda_plot1 = alt.Chart(train_df).mark_bar().encode(\n",
    "    x=alt.X('G3:Q', bin=True, title='Final Grades (G3)'),\n",
    "    y=alt.Y('count()', title='Number of Students'),\n",
    "    tooltip=['G3']\n",
    ").properties(\n",
    "    title='Distribution of Final Grades (G3)',\n",
    "    width=400,\n",
    "    height=200\n",
    ")\n",
    "eda_plot1 "
   ]
  },
  {
   "cell_type": "markdown",
   "id": "ab63863a-5bfe-4fd9-9166-e24700a2ec05",
   "metadata": {},
   "source": [
    "**Figure 4: Distribution of Final Grades (G3)**\n"
   ]
  },
  {
   "cell_type": "markdown",
   "id": "91fac25b-7d8e-4428-9b88-4c4013e372bc",
   "metadata": {},
   "source": [
    "The histogram shows that most students achieve grades between 8 and 15, with fewer students scoring very low or very high.\n"
   ]
  },
  {
   "cell_type": "code",
   "execution_count": null,
   "id": "ff3b30a5-1c85-4250-a2f1-614acea1baa9",
   "metadata": {},
   "outputs": [],
   "source": [
    "# ally.dist(train_df).properties(title=\"Density Plot for all numeric columns\")\n",
    "fig, axes = plt.subplots(3, 3, figsize=(8, 8), sharey=False, sharex=False)\n",
    "axes = axes.flatten()\n",
    "numeric_columns = train_df.select_dtypes(include='number').columns\n",
    "for i, column in enumerate(numeric_columns):\n",
    "    dp = sns.kdeplot(data=train_df, x=column, fill=True, ax=axes[i])\n",
    "plt.tight_layout()"
   ]
  },
  {
   "cell_type": "markdown",
   "id": "7b8c4a70-aba1-4a7b-8098-71fb1c3fb52b",
   "metadata": {},
   "source": [
    "**Figure 5: Density plot for each numeric columns (including the target `G3`)**\n",
    "\n",
    "Some interesting observations:\n",
    "\n",
    "- The distirbution of the grades `G3`, `G2`, `G1` are somewhat bell-shaped.\n",
    "- Most student do not consume alcohol, or very minimally.\n",
    "- Most student studies around 2-5 hours a week and most of them also did not fail any previous classes.\n"
   ]
  },
  {
   "cell_type": "code",
   "execution_count": null,
   "id": "52c1926c-e833-42fe-b58c-86273b05592b",
   "metadata": {},
   "outputs": [],
   "source": [
    "# ally.corr(train_df).properties(title=\"Correlation matrices for each numeric column pair\")\n",
    "corr_mat = train_df.select_dtypes(include='number').corr() \\\n",
    "    .reset_index(names=\"var1\") \\\n",
    "    .melt(id_vars=\"var1\", var_name=\"var2\", value_name=\"correlation\")\n",
    "# get rid of \"duplicated\" correlation\n",
    "corr_mat = corr_mat[corr_mat['var1'] <= corr_mat['var2']].reset_index(drop=True)\n",
    "corr_mat[\"abs_corr\"] = np.abs(corr_mat[\"correlation\"])\n",
    "alt.Chart(corr_mat).mark_circle().encode(\n",
    "    alt.X(\"var1\").title(\"variable 1\"),\n",
    "    alt.Y(\"var2\").title(\"variable 2\"),\n",
    "    alt.Color(\"correlation\").scale(domain=[-1, 1], scheme=\"blueorange\"),\n",
    "    alt.Size(\"abs_corr\").legend(None)\n",
    ").properties(\n",
    "    width=250,\n",
    "    height=250,\n",
    "    title=\"Pairwise correlations between variables (including target)\"\n",
    ")"
   ]
  },
  {
   "cell_type": "markdown",
   "id": "4a4855d8-41a1-4241-84ed-bb7d7361c91f",
   "metadata": {},
   "source": [
    "**Figure 6: Correlation matrices for each numeric columns (including target `G3`)**\n",
    "\n",
    "Some interesting observations:\n",
    "\n",
    "- The grades are very correlated with one another\n",
    "- Alcohol consumptions are somewhat negatively correlated with grades\n",
    "- Study time are somewhat positively correlated with grades/\n"
   ]
  },
  {
   "cell_type": "markdown",
   "id": "8cb9f11c-df6c-4d0d-9896-1250cb59ff99",
   "metadata": {},
   "source": [
    "### Analysis\n"
   ]
  },
  {
   "cell_type": "code",
   "execution_count": null,
   "id": "5c734ea1-62f2-4b00-9ef4-cd7c0b716b5e",
   "metadata": {},
   "outputs": [],
   "source": [
    "# Split features and target\n",
    "X_train, y_train = (\n",
    "    train_df.drop(columns=['G3']),\n",
    "    train_df['G3']\n",
    ")\n",
    "X_test, y_test = (\n",
    "    test_df.drop(columns=['G3']),\n",
    "    test_df['G3']\n",
    ")"
   ]
  },
  {
   "cell_type": "code",
   "execution_count": null,
   "id": "dac23a60-0805-4d1b-ba6b-9bfc9da27210",
   "metadata": {},
   "outputs": [],
   "source": [
    "X_train.info()"
   ]
  },
  {
   "cell_type": "markdown",
   "id": "c5b98bfc-eef5-4a30-8ad2-20f37c133278",
   "metadata": {},
   "source": [
    "### Baseline Model"
   ]
  },
  {
   "cell_type": "code",
   "execution_count": null,
   "id": "0153743f-1b2a-45ef-a0a6-722fca82f4d6",
   "metadata": {},
   "outputs": [],
   "source": [
    "dr = DummyRegressor()\n",
    "\n",
    "dummy_cv = cross_validate(dr, X_train, y_train, return_train_score=True)\n",
    "pd.DataFrame(dummy_cv).agg(['mean']).T"
   ]
  },
  {
   "cell_type": "markdown",
   "id": "a153adf7-17e4-41a5-97c5-2db70a67fcc5",
   "metadata": {},
   "source": [
    "### Define categorical and numerical columns"
   ]
  },
  {
   "cell_type": "code",
   "execution_count": null,
   "id": "64f47a93-3fd4-4ac4-a9af-b736e1539478",
   "metadata": {},
   "outputs": [],
   "source": [
    "categorical_feats = X_train.select_dtypes(include=['object']).columns\n",
    "numeric_feats = X_train.select_dtypes(include=['int64']).columns"
   ]
  },
  {
   "cell_type": "code",
   "execution_count": null,
   "id": "534ccf77",
   "metadata": {},
   "outputs": [],
   "source": [
    "# Apply column transformers\n",
    "preprocessor = make_column_transformer(    \n",
    "    (StandardScaler(), numeric_feats),  # scaling on numeric features \n",
    "    (OneHotEncoder(drop=\"if_binary\"), categorical_feats),  # OHE on categorical features\n",
    ")\n",
    "\n",
    "#  Make pipeline\n",
    "pipe_lr = make_pipeline(preprocessor, Ridge())"
   ]
  },
  {
   "cell_type": "code",
   "execution_count": null,
   "id": "705bb291",
   "metadata": {},
   "outputs": [],
   "source": [
    "# Define parameter grid\n",
    "param_grid = {\n",
    "    'ridge__alpha': [0.1, 1, 10, 100]\n",
    "}\n",
    "\n",
    "# Perform grid search with cross-validation\n",
    "grid_search = GridSearchCV(pipe_lr, param_grid=param_grid, n_jobs=-1, return_train_score=True)\n",
    "grid_search.fit(X_train, y_train)"
   ]
  },
  {
   "cell_type": "code",
   "execution_count": null,
   "id": "ed5548f6",
   "metadata": {},
   "outputs": [],
   "source": [
    "# Best score\n",
    "grid_search.best_score_"
   ]
  },
  {
   "cell_type": "code",
   "execution_count": null,
   "id": "304cb55f",
   "metadata": {},
   "outputs": [],
   "source": [
    "# Get the best hyperparameter value\n",
    "grid_search.best_params_"
   ]
  },
  {
   "cell_type": "code",
   "execution_count": null,
   "id": "a29df4ca",
   "metadata": {},
   "outputs": [],
   "source": [
    "# Define the best model\n",
    "best_model = grid_search.best_estimator_"
   ]
  },
  {
   "cell_type": "code",
   "execution_count": null,
   "id": "b6d64f4e",
   "metadata": {},
   "outputs": [],
   "source": [
    "pd.DataFrame(grid_search.cv_results_)[\n",
    "    [\n",
    "        \"mean_test_score\",\n",
    "        \"param_ridge__alpha\",\n",
    "        \"mean_fit_time\",\n",
    "        \"rank_test_score\",\n",
    "    ]\n",
    "].set_index(\"rank_test_score\").sort_index().T"
   ]
  },
  {
   "cell_type": "code",
   "execution_count": null,
   "id": "71cb620c",
   "metadata": {},
   "outputs": [],
   "source": [
    "# Apply best model on test set\n",
    "y_pred = best_model.predict(X_test)"
   ]
  },
  {
   "cell_type": "code",
   "execution_count": null,
   "id": "d73953f8",
   "metadata": {},
   "outputs": [],
   "source": [
    "# Create a dataframe to compare observed and predicted values\n",
    "comparison = pd.DataFrame({\n",
    "    \"Observed (y_test)\": y_test.values,\n",
    "    \"Predicted (y_pred)\": y_pred\n",
    "})\n",
    "comparison.head(10)"
   ]
  },
  {
   "cell_type": "code",
   "execution_count": null,
   "id": "869e8618",
   "metadata": {},
   "outputs": [],
   "source": [
    "# Evaluate performance on the test set\n",
    "mse = mean_squared_error(y_test, y_pred)    # Mean squared error\n",
    "\n",
    "rmse = np.sqrt(mse) # Root Mean Squared error\n",
    "\n",
    "mae = mean_absolute_error(y_test, y_pred)  # Mean Absolute Error\n",
    "\n",
    "\n",
    "# Create a data frame to display performance metrics\n",
    "metrics = pd.DataFrame({\n",
    "    \"Metric\": [\"Mean Squared Error (MSE)\", \n",
    "               \"Root Mean Squared Error (RMSE)\", \n",
    "               \"Mean Absolute Error (MAE)\"],\n",
    "    \"Value\": [mse, rmse, mae]\n",
    "})\n",
    "metrics.set_index('Metric')"
   ]
  },
  {
   "cell_type": "code",
   "execution_count": null,
   "id": "45046556-f4a8-4886-9877-abd9f98145c2",
   "metadata": {},
   "outputs": [],
   "source": [
    "import seaborn as sns\n",
    "\n",
    "# Assume coefficients are stored in a matrix `coef` (predictors x responses)\n",
    "coefs = best_model.named_steps['ridge'].coef_\n",
    "feature_names = best_model.named_steps['columntransformer']\\\n",
    "    .get_feature_names_out().tolist()\n",
    "feature_names = [n.split(\"__\")[1] for n in feature_names]\n",
    "\n",
    "coefs_df = pd.DataFrame({\"features\": feature_names, \"coefs\": coefs})\n",
    "coefs_df"
   ]
  },
  {
   "cell_type": "code",
   "execution_count": null,
   "id": "3212bafc-046a-491b-8afe-11fd2e674611",
   "metadata": {},
   "outputs": [],
   "source": [
    "plt.bar(feature_names, coefs)\n",
    "plt.xlabel(\"Features\")\n",
    "plt.ylabel(\"Coefficient Value\")\n",
    "plt.title(\"Ridge Regression Coefficients\")\n",
    "plt.xticks(rotation=45)\n",
    "plt.show()"
   ]
  },
  {
   "cell_type": "markdown",
   "id": "3b079c06-9498-4f38-87b9-fb3e1e556b91",
   "metadata": {},
   "source": [
    "**Figure 7: Ridge regression coefficients**\n"
   ]
  },
  {
   "cell_type": "markdown",
   "id": "3ed1f1fd-f7da-44ed-b3f3-c23306bf745e",
   "metadata": {},
   "source": [
    "## Results & Discussion\n"
   ]
  },
  {
   "cell_type": "markdown",
   "id": "1cb39213-ce47-4817-b290-b75498558b2d",
   "metadata": {},
   "source": [
    "The Ridge Regression model, with tuned hyperparameters, demonstrated well predictive capabilities on student’s math performance. The optimal hyperparameter for Ridge was found to be alpha = 1, and the best cross-validation score is approximately 0.81. This indicates a strong predictive accuracy during the model's validation phase.\n",
    "\n",
    "The Ridge coefficients suggests that student performance is most strongly influenced by prior grades, with G2 having the greatest positive impact, followed by G1. Social behaviors like going out and weekend alcohol consumption also show a smaller positive influence, while age, study time, and workday alcohol consumption have a negative effect. Failures and gender appear to have extremely minimal influence on the final grade.\n",
    "\n",
    "Based on the evaluation on the test set, the model achieved the following performance metrics:\n",
    "\n",
    "- Mean Squared Error (MSE): 3.83\n",
    "- Root Mean Squared Error (RMSE): 1.96\n",
    "- Mean Absolute Error (MAE): 1.27\n",
    "\n",
    "These metrics suggest that the model is reasonably accurate in predicting students' final grades. However, there are areas for improvement. We can explore other models which could better capture the non-linear relationships and feature interactions. Another improvement we can do is to provide confidence intervals for predictions. This approach could enhance the reliability and interpretability of predictions and help readers make more informed decisions.\n"
   ]
  },
  {
   "cell_type": "markdown",
   "id": "8bd01f82-917e-4dc0-ac4e-e5716fd72561",
   "metadata": {},
   "source": [
    "## References\n"
   ]
  },
  {
   "cell_type": "markdown",
   "id": "5d1ce241-8723-40a0-a710-1d68e1fd3050",
   "metadata": {},
   "source": [
    "\n",
    "1. Amuda, Bitrus Glawala, Apagu Kidlindila Bulus, and Hamsatu Pur Joseph. \"Marital Status and Age as Predictors of Academic Performance of Students of Colleges of Education in the Nort- Eastern Nigeria.\" American Journal of Educational Research 4.12 (2016): 896-902.\n",
    "\n",
    "2. Cortez, Paulo. \"Student Performance.\" UCI Machine Learning Repository, 2008, https://doi.org/10.24432/C5TG7T.\n",
    "\n",
    "3. Hjarnaa, Louise, Sanne Pagh, Møller, Alberte Brix, Curtis, Ulrik, Becker, Ove, Andersen, Fartein Ask, Torvik, Janne Schurmann, Tolstrup. \"Alcohol Intake and Academic Performance and Dropout in High School: A Prospective Cohort Study in 65,233 Adolescents\". Journal of Adolescent Health 73. 6(2023): 1083–1092.\n",
    "\n",
    "4. Modi, Y. G. “The Impact of Stress on Academic Performance: Strategies for High School Students.” International Journal of Psychiatry, vol. 8, no. 5, 2023, pp. 150–152.\n"
   ]
  },
  {
   "cell_type": "code",
   "execution_count": null,
   "id": "6b217d91-2095-4828-a8ae-190876d11f4c",
   "metadata": {},
   "outputs": [],
   "source": []
  }
 ],
 "metadata": {
  "kernelspec": {
   "display_name": "Python [conda env:522-project-env]",
   "language": "python",
   "name": "conda-env-522-project-env-py"
  },
  "language_info": {
   "codemirror_mode": {
    "name": "ipython",
    "version": 3
   },
   "file_extension": ".py",
   "mimetype": "text/x-python",
   "name": "python",
   "nbconvert_exporter": "python",
   "pygments_lexer": "ipython3",
   "version": "3.11.9"
  }
 },
 "nbformat": 4,
 "nbformat_minor": 5
}
